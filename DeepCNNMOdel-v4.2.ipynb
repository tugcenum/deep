{
 "cells": [
  {
   "cell_type": "code",
   "execution_count": 218,
   "metadata": {},
   "outputs": [],
   "source": [
    "# Setup display width, load packages, import symbols\n",
    "ENV[\"COLUMNS\"]=72\n",
    "using Pkg; for p in (\"Knet\",\"Plots\"); haskey(Pkg.installed(),p) || Pkg.add(p); end\n",
    "using Base.Iterators: flatten\n",
    "using Statistics: mean\n",
    "using Random\n",
    "using Knet: Knet, conv4, pool, mat, adam,KnetArray, momentum,nll, zeroone,save, load ,progress, sgd, param, param0, dropout, relu, Data,gpu,minibatch"
   ]
  },
  {
   "cell_type": "code",
   "execution_count": 219,
   "metadata": {},
   "outputs": [],
   "source": [
    "import Knet.load\n",
    "import Knet.save\n",
    "import AutoGrad"
   ]
  },
  {
   "cell_type": "code",
   "execution_count": 220,
   "metadata": {},
   "outputs": [
    {
     "name": "stdout",
     "output_type": "stream",
     "text": [
      "\u001b[32m\u001b[1m    Status\u001b[22m\u001b[39m `~/.julia/environments/v1.1/Project.toml`\n",
      " \u001b[90m [6710c13c]\u001b[39m\u001b[37m AutoGrad v1.1.3\u001b[39m\n",
      " \u001b[90m [944b1d66]\u001b[39m\u001b[37m CodecZlib v0.5.2\u001b[39m\n",
      " \u001b[90m [5ae59095]\u001b[39m\u001b[37m Colors v0.9.5\u001b[39m\n",
      " \u001b[90m [5789e2e9]\u001b[39m\u001b[37m FileIO v1.0.6\u001b[39m\n",
      " \u001b[90m [7073ff75]\u001b[39m\u001b[37m IJulia v1.18.0\u001b[39m\n",
      " \u001b[90m [6218d12a]\u001b[39m\u001b[37m ImageMagick v0.7.1\u001b[39m\n",
      " \u001b[90m [916415d5]\u001b[39m\u001b[37m Images v0.17.3\u001b[39m\n",
      " \u001b[90m [033835bb]\u001b[39m\u001b[37m JLD2 v0.1.2\u001b[39m\n",
      " \u001b[90m [682c06a0]\u001b[39m\u001b[37m JSON v0.20.0\u001b[39m\n",
      " \u001b[90m [1902f260]\u001b[39m\u001b[37m Knet v1.2.1\u001b[39m\n",
      " \u001b[90m [ae8d54c2]\u001b[39m\u001b[37m Luxor v1.2.0\u001b[39m\n",
      " \u001b[90m [23992714]\u001b[39m\u001b[37m MAT v0.5.0\u001b[39m\n",
      " \u001b[90m [91a5bcdd]\u001b[39m\u001b[37m Plots v0.24.0\u001b[39m\n",
      " \u001b[90m [438e738f]\u001b[39m\u001b[37m PyCall v1.91.1\u001b[39m\n",
      " \u001b[90m [5e47fb64]\u001b[39m\u001b[37m TestImages v0.5.0\u001b[39m\n"
     ]
    }
   ],
   "source": [
    "Pkg.status()"
   ]
  },
  {
   "cell_type": "code",
   "execution_count": 221,
   "metadata": {},
   "outputs": [
    {
     "data": {
      "text/plain": [
       "Data{Tuple{KnetArray{Float32,4},Array{UInt8,1}}}([0.788235 0.415686 … 0.796078 0.537255; 0.788235 0.415686 … 0.8 0.545098; … ; 0.290196 0.231373 … 0.439216 0.556863; 0.294118 0.231373 … 0.45098 0.556863], [4 2 … 3 4], 30, 1260, false, 1231, 1:1260, false, (224, 224, 3, 30), (1260,), KnetArray{Float32,N} where N, Array{UInt8,1})"
      ]
     },
     "execution_count": 221,
     "metadata": {},
     "output_type": "execute_result"
    }
   ],
   "source": [
    "cd()\n",
    "cd(\"/media/mvgl/DATAONE/Tugce\")\n",
    "dtst=Knet.load(\"dtest8t.jld2\",\"m\")\n",
    "dtrn=Knet.load(\"dtsty8t.jld2\",\"m\")"
   ]
  },
  {
   "cell_type": "code",
   "execution_count": 222,
   "metadata": {},
   "outputs": [],
   "source": [
    "a=collect(dtst);"
   ]
  },
  {
   "cell_type": "code",
   "execution_count": 223,
   "metadata": {},
   "outputs": [
    {
     "data": {
      "text/plain": [
       "\"Tuple{KnetArray{Float32,4},Array{UInt8,1}}\""
      ]
     },
     "execution_count": 223,
     "metadata": {},
     "output_type": "execute_result"
    }
   ],
   "source": [
    "summary(a[1])"
   ]
  },
  {
   "cell_type": "code",
   "execution_count": 224,
   "metadata": {},
   "outputs": [
    {
     "data": {
      "text/plain": [
       "180-element Array{Any,1}:\n",
       " 4\n",
       " 6\n",
       " 2\n",
       " 1\n",
       " 1\n",
       " 6\n",
       " 3\n",
       " 4\n",
       " 5\n",
       " 4\n",
       " 5\n",
       " 2\n",
       " 1\n",
       " ⋮\n",
       " 1\n",
       " 5\n",
       " 1\n",
       " 3\n",
       " 5\n",
       " 1\n",
       " 5\n",
       " 6\n",
       " 4\n",
       " 1\n",
       " 1\n",
       " 3"
      ]
     },
     "execution_count": 224,
     "metadata": {},
     "output_type": "execute_result"
    }
   ],
   "source": [
    "yy=[]\n",
    "for k=1:6\n",
    "yy=cat(yy,convert(Array{Int8,1},a[k][2]);dims=1)\n",
    "end\n",
    "yy"
   ]
  },
  {
   "cell_type": "code",
   "execution_count": 225,
   "metadata": {},
   "outputs": [],
   "source": [
    "cd()\n",
    "cd(\"/media/mvgl/DATAONE/Tugce\")\n",
    "Knet.save(\"confy8t.jld2\",\"m\",yy)"
   ]
  },
  {
   "cell_type": "code",
   "execution_count": 226,
   "metadata": {},
   "outputs": [
    {
     "data": {
      "text/plain": [
       "trainresults (generic function with 1 method)"
      ]
     },
     "execution_count": 226,
     "metadata": {},
     "output_type": "execute_result"
    }
   ],
   "source": [
    "# For running experiments\n",
    "function trainresults(file,model; o...)\n",
    "   \n",
    "        takeevery(n,itr) = (x for (i,x) in enumerate(itr) if i % n == 1)\n",
    "        r = ((model(dtrn), model(dtst), zeroone(model,dtrn), zeroone(model,dtst))\n",
    "             for x in takeevery(length(dtrn), progress(adam(model,repeat(dtrn,50);lr=1e-5))))\n",
    "        r = reshape(collect(Float32,flatten(r)),(4,:))\n",
    "        Knet.save(file,\"results\",r)\n",
    "        Knet.gc() # To save gpu memory\n",
    "    println(minimum(r,dims=2))\n",
    "    return r\n",
    "end"
   ]
  },
  {
   "cell_type": "code",
   "execution_count": 227,
   "metadata": {},
   "outputs": [],
   "source": [
    "# Let's define a chain of layers\n",
    "struct Chain\n",
    "    layers\n",
    "    Chain(layers...) = new(layers)\n",
    "end\n",
    "(c::Chain)(x) = (for l in c.layers; x = l(x); end; x)\n",
    "(c::Chain)(x,y) = nll(c(x),y)\n",
    "(c::Chain)(d::Data) = mean(c(x,y) for (x,y) in d)"
   ]
  },
  {
   "cell_type": "code",
   "execution_count": 228,
   "metadata": {},
   "outputs": [
    {
     "data": {
      "text/plain": [
       "Conv"
      ]
     },
     "execution_count": 228,
     "metadata": {},
     "output_type": "execute_result"
    }
   ],
   "source": [
    "# Define a convolutional layer:\n",
    "struct Conv; w; b; f; p; end\n",
    "(c::Conv)(x) = c.f.(pool(conv4(c.w, dropout(x,c.p)) .+ c.b))\n",
    "Conv(w1::Int,w2::Int,cx::Int,cy::Int,f=relu;pdrop=0) = Conv(param(w1,w2,cx,cy), param0(1,1,cy,1), f, pdrop)"
   ]
  },
  {
   "cell_type": "code",
   "execution_count": 229,
   "metadata": {},
   "outputs": [
    {
     "data": {
      "text/plain": [
       "Conv0"
      ]
     },
     "execution_count": 229,
     "metadata": {},
     "output_type": "execute_result"
    }
   ],
   "source": [
    "# Define a convolutional layer:\n",
    "struct Conv0; w; b; f; p; end\n",
    "(c::Conv0)(x) = c.f.(pool(conv4(c.w, dropout(x,c.p);padding=1).+ c.b;window=3,stride=2))\n",
    "Conv0(w1::Int,w2::Int,cx::Int,cy::Int,f=relu;pdrop=0) = Conv0(param(w1,w2,cx,cy), param0(1,1,cy,1), f, pdrop)"
   ]
  },
  {
   "cell_type": "code",
   "execution_count": 230,
   "metadata": {},
   "outputs": [
    {
     "data": {
      "text/plain": [
       "Conv01"
      ]
     },
     "execution_count": 230,
     "metadata": {},
     "output_type": "execute_result"
    }
   ],
   "source": [
    "# Define a convolutional layer:\n",
    "struct Conv01; w; b; f; p; end\n",
    "(c::Conv01)(x) = c.f.(pool(conv4(c.w, dropout(x,c.p);padding=1).+ c.b;window=3,stride=2))\n",
    "Conv01(w ,b,f=relu;pdrop=0) = Conv01(w ,b, f, pdrop)"
   ]
  },
  {
   "cell_type": "code",
   "execution_count": 231,
   "metadata": {},
   "outputs": [
    {
     "data": {
      "text/plain": [
       "Conv1"
      ]
     },
     "execution_count": 231,
     "metadata": {},
     "output_type": "execute_result"
    }
   ],
   "source": [
    "# Define a convolutional layer:\n",
    "struct Conv1; w; b; f; p; end\n",
    "(c::Conv1)(x) = c.f.(pool(conv4(c.w, dropout(x,c.p);padding=1).+ c.b;window=3,padding=1,stride=2))\n",
    "Conv1(w1::Int,w2::Int,cx::Int,cy::Int,f=relu;pdrop=0) = Conv1(param(w1,w2,cx,cy), param0(1,1,cy,1), f, pdrop)\n"
   ]
  },
  {
   "cell_type": "code",
   "execution_count": 232,
   "metadata": {},
   "outputs": [
    {
     "data": {
      "text/plain": [
       "Conv11"
      ]
     },
     "execution_count": 232,
     "metadata": {},
     "output_type": "execute_result"
    }
   ],
   "source": [
    "# Define a convolutional layer:\n",
    "struct Conv11; w; b; f; p; end\n",
    "(c::Conv11)(x) = c.f.(pool(conv4(c.w, dropout(x,c.p);padding=1).+ c.b;window=3,padding=1,stride=2))\n",
    "Conv11(w ,b,f=relu;pdrop=0) = Conv11(w ,b, f, pdrop)\n"
   ]
  },
  {
   "cell_type": "code",
   "execution_count": 233,
   "metadata": {},
   "outputs": [
    {
     "data": {
      "text/plain": [
       "Dense"
      ]
     },
     "execution_count": 233,
     "metadata": {},
     "output_type": "execute_result"
    }
   ],
   "source": [
    "# Redefine dense layer (See mlp.ipynb):\n",
    "struct Dense; w; b; f; p; end\n",
    "(d::Dense)(x) = d.f.(d.w * mat(dropout(x,d.p)) .+ d.b) # mat reshapes 4-D tensor to 2-D matrix so we can use matmul\n",
    "Dense(i::Int,o::Int,f=relu;pdrop=0) = Dense(param(o,i), param0(o), f, pdrop)"
   ]
  },
  {
   "cell_type": "code",
   "execution_count": 234,
   "metadata": {},
   "outputs": [
    {
     "data": {
      "text/plain": [
       "118-element Array{String,1}:\n",
       " \"cnn2.jld2\"         \n",
       " \"conf\"              \n",
       " \"confnn\"            \n",
       " \"conft\"             \n",
       " \"confy1t.jld2\"      \n",
       " \"confy2t.jld2\"      \n",
       " \"confy3t.jld2\"      \n",
       " \"confy4t.jld2\"      \n",
       " \"confy5t.jld2\"      \n",
       " \"confy6t.jld2\"      \n",
       " \"confy7t.jld2\"      \n",
       " \"confy8t.jld2\"      \n",
       " \"confyp1t.jld2\"     \n",
       " ⋮                   \n",
       " \"lenet1loss5.jld2\"  \n",
       " \"lenet1loss5nn.jld2\"\n",
       " \"lenet1loss5t.jld2\" \n",
       " \"lenet1loss6.jld2\"  \n",
       " \"lenet1loss6nn.jld2\"\n",
       " \"lenet1loss6t.jld2\" \n",
       " \"lenet1loss7.jld2\"  \n",
       " \"lenet1loss7nn.jld2\"\n",
       " \"lenet1loss7t.jld2\" \n",
       " \"lenet1loss8.jld2\"  \n",
       " \"lenet1loss8nn.jld2\"\n",
       " \"lenet1loss8t.jld2\" "
      ]
     },
     "execution_count": 234,
     "metadata": {},
     "output_type": "execute_result"
    }
   ],
   "source": [
    "cd()\n",
    "cd(readdir, \"/media/mvgl/DATAONE/Tugce\")"
   ]
  },
  {
   "cell_type": "code",
   "execution_count": 235,
   "metadata": {},
   "outputs": [
    {
     "data": {
      "text/plain": [
       "Chain((Conv0(P(KnetArray{Float32,4}(3,3,3,64)), P(KnetArray{Float32,4}(1,1,64,1)), Knet.relu, 0), Conv0(P(KnetArray{Float32,4}(3,3,64,128)), P(KnetArray{Float32,4}(1,1,128,1)), Knet.relu, 0), Conv0(P(KnetArray{Float32,4}(3,3,128,256)), P(KnetArray{Float32,4}(1,1,256,1)), Knet.relu, 0), Conv0(P(KnetArray{Float32,4}(3,3,256,256)), P(KnetArray{Float32,4}(1,1,256,1)), Knet.relu, 0), Conv1(P(KnetArray{Float32,4}(3,3,256,512)), P(KnetArray{Float32,4}(1,1,512,1)), Knet.relu, 0)))"
      ]
     },
     "execution_count": 235,
     "metadata": {},
     "output_type": "execute_result"
    }
   ],
   "source": [
    "cd(\"/media/mvgl/DATAONE/Tugce\")\n",
    "CC=Knet.load(\"lenet1loss8t.jld2\",\"b\")"
   ]
  },
  {
   "cell_type": "code",
   "execution_count": 236,
   "metadata": {},
   "outputs": [],
   "source": [
    "CC.layers[1].w.opt=nothing\n",
    "CC.layers[2].w.opt=nothing\n",
    "CC.layers[3].w.opt=nothing\n",
    "CC.layers[4].w.opt=nothing\n",
    "CC.layers[5].w.opt=nothing"
   ]
  },
  {
   "cell_type": "code",
   "execution_count": 237,
   "metadata": {},
   "outputs": [],
   "source": [
    "CC.layers[1].b.opt=nothing\n",
    "CC.layers[2].b.opt=nothing\n",
    "CC.layers[3].b.opt=nothing\n",
    "CC.layers[4].b.opt=nothing\n",
    "CC.layers[5].b.opt=nothing"
   ]
  },
  {
   "cell_type": "code",
   "execution_count": 238,
   "metadata": {},
   "outputs": [
    {
     "data": {
      "text/plain": [
       "7-element Array{String,1}:\n",
       " \"3×3×3×64 AutoGrad.Param{KnetArray{Float32,4}}\"   \n",
       " \"3×3×64×128 AutoGrad.Param{KnetArray{Float32,4}}\" \n",
       " \"3×3×128×256 AutoGrad.Param{KnetArray{Float32,4}}\"\n",
       " \"3×3×256×256 AutoGrad.Param{KnetArray{Float32,4}}\"\n",
       " \"3×3×256×512 AutoGrad.Param{KnetArray{Float32,4}}\"\n",
       " \"256×25088 AutoGrad.Param{KnetArray{Float32,2}}\"  \n",
       " \"6×256 AutoGrad.Param{KnetArray{Float32,2}}\"      "
      ]
     },
     "execution_count": 238,
     "metadata": {},
     "output_type": "execute_result"
    }
   ],
   "source": [
    "lenet2 =   Chain(Conv01(CC.layers[1].w,CC.layers[1].b),\n",
    "                 Conv01(CC.layers[2].w,CC.layers[2].b),\n",
    "                 Conv01(CC.layers[3].w,CC.layers[3].b),\n",
    "                Conv01(CC.layers[4].w,CC.layers[4].b),\n",
    "                Conv11(CC.layers[5].w,CC.layers[5].b),\n",
    "                 Dense(7*7*512,256,pdrop=0.5),\n",
    "                    Dense(256,6,identity))\n",
    "summary.(l.w for l in lenet2.layers)"
   ]
  },
  {
   "cell_type": "code",
   "execution_count": 239,
   "metadata": {},
   "outputs": [
    {
     "name": "stdout",
     "output_type": "stream",
     "text": [
      "4.30e-02  100.00%┣█████████████████████┫ 2100/2100 [05:48/05:48, 6.03i/s]\n",
      "Float32[0.000345499; 0.224932; 0.0; 0.0722222]\n"
     ]
    }
   ],
   "source": [
    "cnn = trainresults(\"cnn2.jld2\", lenet2);"
   ]
  },
  {
   "cell_type": "code",
   "execution_count": 240,
   "metadata": {},
   "outputs": [],
   "source": [
    "using Plots; default(fmt=:png,ls=:auto)"
   ]
  },
  {
   "cell_type": "code",
   "execution_count": 241,
   "metadata": {},
   "outputs": [
    {
     "data": {
      "image/png": "[encoded data removed]"
     },
     "execution_count": 241,
     "metadata": {},
     "output_type": "execute_result"
    }
   ],
   "source": [
    "plot([cnn[1,:], cnn[2,:]],\n",
    "     labels=[:trnCNN2 :tstCNN2],xlabel=\"Epochs\",ylabel=\"Loss\")"
   ]
  },
  {
   "cell_type": "code",
   "execution_count": 242,
   "metadata": {},
   "outputs": [
    {
     "data": {
      "image/png": "[encoded data removed]"
     },
     "execution_count": 242,
     "metadata": {},
     "output_type": "execute_result"
    }
   ],
   "source": [
    "plot([cnn[3,:], cnn[4,:]],\n",
    "     labels=[:trnCNN2 :tstCNN2],xlabel=\"Epochs\",ylabel=\"Error\")"
   ]
  },
  {
   "cell_type": "code",
   "execution_count": 243,
   "metadata": {},
   "outputs": [
    {
     "data": {
      "text/plain": [
       "6×150 Array{Float32,2}:\n",
       " -5.14258   -14.3903   -6.46931  …  -6.68283     4.7371   -3.29274\n",
       " -4.38065   -15.9031    2.49685     -0.934322   -4.03294   5.73268\n",
       " -0.853384    4.19059  -3.13522      7.16821    -5.09144  -4.48177\n",
       "  8.11839    -7.33049  -3.97548     -2.9729    -11.302    -7.49459\n",
       " -4.94258    -5.22292  -5.31606     -7.39468    -4.84318  -4.86866\n",
       " -8.83879    13.979    -8.27842  …  -2.94932    -8.58726  -8.37081"
      ]
     },
     "execution_count": 243,
     "metadata": {},
     "output_type": "execute_result"
    }
   ],
   "source": [
    "y=[]\n",
    "y=convert(Array{Float32},lenet2(a[1][1]))\n",
    "for k=2:6\n",
    "    y=hcat(y,convert(Array{Float32},lenet2(a[k][1])))\n",
    "end\n",
    "y"
   ]
  },
  {
   "cell_type": "code",
   "execution_count": 244,
   "metadata": {},
   "outputs": [
    {
     "data": {
      "text/plain": [
       "0.07777777777777772"
      ]
     },
     "execution_count": 244,
     "metadata": {},
     "output_type": "execute_result"
    }
   ],
   "source": [
    "zeroone(lenet2,dtst)"
   ]
  },
  {
   "cell_type": "code",
   "execution_count": 245,
   "metadata": {},
   "outputs": [
    {
     "data": {
      "text/plain": [
       "0.0"
      ]
     },
     "execution_count": 245,
     "metadata": {},
     "output_type": "execute_result"
    }
   ],
   "source": [
    "zeroone(lenet2,dtrn)"
   ]
  },
  {
   "cell_type": "code",
   "execution_count": 246,
   "metadata": {},
   "outputs": [],
   "source": [
    "cd()\n",
    "cd(\"/media/mvgl/DATAONE/Tugce\")\n",
    "Knet.save(\"confyp8t.jld2\",\"m\",y)"
   ]
  },
  {
   "cell_type": "code",
   "execution_count": 247,
   "metadata": {},
   "outputs": [
    {
     "data": {
      "text/plain": [
       "119-element Array{String,1}:\n",
       " \"cnn2.jld2\"         \n",
       " \"conf\"              \n",
       " \"confnn\"            \n",
       " \"conft\"             \n",
       " \"confy1t.jld2\"      \n",
       " \"confy2t.jld2\"      \n",
       " \"confy3t.jld2\"      \n",
       " \"confy4t.jld2\"      \n",
       " \"confy5t.jld2\"      \n",
       " \"confy6t.jld2\"      \n",
       " \"confy7t.jld2\"      \n",
       " \"confy8t.jld2\"      \n",
       " \"confyp1t.jld2\"     \n",
       " ⋮                   \n",
       " \"lenet1loss5.jld2\"  \n",
       " \"lenet1loss5nn.jld2\"\n",
       " \"lenet1loss5t.jld2\" \n",
       " \"lenet1loss6.jld2\"  \n",
       " \"lenet1loss6nn.jld2\"\n",
       " \"lenet1loss6t.jld2\" \n",
       " \"lenet1loss7.jld2\"  \n",
       " \"lenet1loss7nn.jld2\"\n",
       " \"lenet1loss7t.jld2\" \n",
       " \"lenet1loss8.jld2\"  \n",
       " \"lenet1loss8nn.jld2\"\n",
       " \"lenet1loss8t.jld2\" "
      ]
     },
     "execution_count": 247,
     "metadata": {},
     "output_type": "execute_result"
    }
   ],
   "source": [
    "cd(readdir,\"/media/mvgl/DATAONE/Tugce\")"
   ]
  }
 ],
 "metadata": {
  "kernelspec": {
   "display_name": "Julia 1.1.0",
   "language": "julia",
   "name": "julia-1.1"
  },
  "language_info": {
   "file_extension": ".jl",
   "mimetype": "application/julia",
   "name": "julia",
   "version": "1.1.0"
  }
 },
 "nbformat": 4,
 "nbformat_minor": 2
}
