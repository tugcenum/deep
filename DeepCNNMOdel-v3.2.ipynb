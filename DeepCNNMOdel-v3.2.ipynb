{
 "cells": [
  {
   "cell_type": "code",
   "execution_count": 1,
   "metadata": {},
   "outputs": [],
   "source": [
    "# Setup display width, load packages, import symbols\n",
    "ENV[\"COLUMNS\"]=72\n",
    "using Pkg; for p in (\"Knet\",\"Plots\"); haskey(Pkg.installed(),p) || Pkg.add(p); end\n",
    "using Base.Iterators: flatten\n",
    "using Statistics: mean\n",
    "using Random\n",
    "using Knet: Knet, conv4, pool, mat, adam,KnetArray, momentum,nll, zeroone,save, load ,progress, sgd, param, param0, dropout, relu, Data,gpu,minibatch"
   ]
  },
  {
   "cell_type": "code",
   "execution_count": 2,
   "metadata": {},
   "outputs": [],
   "source": [
    "import Knet.load\n",
    "import Knet.save\n",
    "import AutoGrad"
   ]
  },
  {
   "cell_type": "code",
   "execution_count": 4,
   "metadata": {},
   "outputs": [
    {
     "name": "stdout",
     "output_type": "stream",
     "text": [
      "\u001b[32m\u001b[1m    Status\u001b[22m\u001b[39m `~/.julia/environments/v1.1/Project.toml`\n",
      " \u001b[90m [6710c13c]\u001b[39m\u001b[37m AutoGrad v1.1.3\u001b[39m\n",
      " \u001b[90m [944b1d66]\u001b[39m\u001b[37m CodecZlib v0.5.2\u001b[39m\n",
      " \u001b[90m [5ae59095]\u001b[39m\u001b[37m Colors v0.9.5\u001b[39m\n",
      " \u001b[90m [5789e2e9]\u001b[39m\u001b[37m FileIO v1.0.6\u001b[39m\n",
      " \u001b[90m [7073ff75]\u001b[39m\u001b[37m IJulia v1.18.0\u001b[39m\n",
      " \u001b[90m [6218d12a]\u001b[39m\u001b[37m ImageMagick v0.7.1\u001b[39m\n",
      " \u001b[90m [916415d5]\u001b[39m\u001b[37m Images v0.17.3\u001b[39m\n",
      " \u001b[90m [033835bb]\u001b[39m\u001b[37m JLD2 v0.1.2\u001b[39m\n",
      " \u001b[90m [682c06a0]\u001b[39m\u001b[37m JSON v0.20.0\u001b[39m\n",
      " \u001b[90m [1902f260]\u001b[39m\u001b[37m Knet v1.2.1\u001b[39m\n",
      " \u001b[90m [ae8d54c2]\u001b[39m\u001b[37m Luxor v1.2.0\u001b[39m\n",
      " \u001b[90m [23992714]\u001b[39m\u001b[37m MAT v0.5.0\u001b[39m\n",
      " \u001b[90m [91a5bcdd]\u001b[39m\u001b[37m Plots v0.24.0\u001b[39m\n",
      " \u001b[90m [438e738f]\u001b[39m\u001b[37m PyCall v1.91.1\u001b[39m\n",
      " \u001b[90m [5e47fb64]\u001b[39m\u001b[37m TestImages v0.5.0\u001b[39m\n"
     ]
    }
   ],
   "source": [
    "Pkg.status()"
   ]
  },
  {
   "cell_type": "code",
   "execution_count": 22,
   "metadata": {},
   "outputs": [],
   "source": [
    "using Images, Colors"
   ]
  },
  {
   "cell_type": "code",
   "execution_count": 8,
   "metadata": {},
   "outputs": [
    {
     "data": {
      "text/plain": [
       "\"224×224×3×1440 Array{Float64,4}\""
      ]
     },
     "execution_count": 8,
     "metadata": {},
     "output_type": "execute_result"
    }
   ],
   "source": [
    "cd()\n",
    "cd(\"Desktop/DeepProject/21.04.19\")\n",
    "X=load(\"datax2.jld2\",\"a\");\n",
    "Y=load(\"datay.jld2\",\"b\");\n",
    "Z=load(\"dataz.jld2\",\"c\");\n",
    "summary(X)"
   ]
  },
  {
   "cell_type": "code",
   "execution_count": 23,
   "metadata": {},
   "outputs": [
    {
     "data": {
      "text/plain": [
       "1440-element Array{Int64,1}:\n",
       " 1\n",
       " 1\n",
       " 1\n",
       " 1\n",
       " 1\n",
       " 1\n",
       " 1\n",
       " 1\n",
       " 1\n",
       " 1\n",
       " 1\n",
       " 1\n",
       " 1\n",
       " ⋮\n",
       " 6\n",
       " 6\n",
       " 6\n",
       " 6\n",
       " 6\n",
       " 6\n",
       " 6\n",
       " 6\n",
       " 6\n",
       " 6\n",
       " 6\n",
       " 6"
      ]
     },
     "execution_count": 23,
     "metadata": {},
     "output_type": "execute_result"
    }
   ],
   "source": [
    "summary(Y)\n",
    "Y"
   ]
  },
  {
   "cell_type": "code",
   "execution_count": 9,
   "metadata": {},
   "outputs": [
    {
     "data": {
      "text/plain": [
       "1440-element Array{Int64,1}:\n",
       " 5\n",
       " 2\n",
       " 1\n",
       " 4\n",
       " 2\n",
       " 4\n",
       " 6\n",
       " 4\n",
       " 3\n",
       " 1\n",
       " 1\n",
       " 3\n",
       " 3\n",
       " ⋮\n",
       " 5\n",
       " 3\n",
       " 6\n",
       " 6\n",
       " 5\n",
       " 1\n",
       " 6\n",
       " 2\n",
       " 2\n",
       " 4\n",
       " 4\n",
       " 6"
      ]
     },
     "execution_count": 9,
     "metadata": {},
     "output_type": "execute_result"
    }
   ],
   "source": [
    "ind=randperm(size(Y,1));\n",
    "Ynew=Y[ind];\n",
    "Xnew=X[:,:,:,ind];\n",
    "Znew=Z[:,:,:,ind];\n",
    "summary(Ynew)\n",
    "Ynew"
   ]
  },
  {
   "cell_type": "code",
   "execution_count": 8,
   "metadata": {},
   "outputs": [
    {
     "data": {
      "text/plain": [
       "0.9"
      ]
     },
     "execution_count": 8,
     "metadata": {},
     "output_type": "execute_result"
    }
   ],
   "source": [
    "1296/1440"
   ]
  },
  {
   "cell_type": "code",
   "execution_count": 10,
   "metadata": {},
   "outputs": [
    {
     "data": {
      "text/plain": [
       "1296-element Array{Int64,1}:\n",
       " 5\n",
       " 2\n",
       " 1\n",
       " 4\n",
       " 2\n",
       " 4\n",
       " 6\n",
       " 4\n",
       " 3\n",
       " 1\n",
       " 1\n",
       " 3\n",
       " 3\n",
       " ⋮\n",
       " 1\n",
       " 6\n",
       " 1\n",
       " 6\n",
       " 5\n",
       " 5\n",
       " 1\n",
       " 3\n",
       " 3\n",
       " 6\n",
       " 5\n",
       " 4"
      ]
     },
     "execution_count": 10,
     "metadata": {},
     "output_type": "execute_result"
    }
   ],
   "source": [
    "Xdtrn=Xnew[:,:,:,1:1296]\n",
    "Ydtrn=Ynew[1:1296];\n",
    "Zdtrn=Znew[:,:,:,1:1296]\n",
    "summary(Ydtrn)\n",
    "Ydtrn"
   ]
  },
  {
   "cell_type": "code",
   "execution_count": 11,
   "metadata": {},
   "outputs": [
    {
     "data": {
      "text/plain": [
       "Data{Tuple{KnetArray{Float32,4},Array{UInt8,1}}}([0.427451 0.435294 … 0.203922 0.866667; 0.423529 0.431373 … 0.2 0.862745; … ; 0.184314 0.45098 … 0.0470588 0.0392157; 0.188235 0.435294 … 0.0431373 0.0431373], [5 2 … 5 4], 32, 1296, false, 1265, 1:1296, false, (224, 224, 3, 32), (1296,), KnetArray{Float32,N} where N, Array{UInt8,1})"
      ]
     },
     "execution_count": 11,
     "metadata": {},
     "output_type": "execute_result"
    }
   ],
   "source": [
    "dtrn=minibatch(Xdtrn,Ydtrn,32;xsize=(224,224,3,32),xtype=atype(),ytype=Array{UInt8,1})"
   ]
  },
  {
   "cell_type": "code",
   "execution_count": 8,
   "metadata": {},
   "outputs": [
    {
     "ename": "ErrorException",
     "evalue": "KnetPtr: bad device id -1.",
     "output_type": "error",
     "traceback": [
      "KnetPtr: bad device id -1.",
      "",
      "Stacktrace:",
      " [1] error(::String) at ./error.jl:33",
      " [2] Knet.KnetPtr(::Int64) at /home/mvgl/.julia/packages/Knet/05UDD/src/kptr.jl:94",
      " [3] Type at /home/mvgl/.julia/packages/Knet/05UDD/src/karray.jl:111 [inlined]",
      " [4] convert(::Type{KnetArray{Float32,4}}, ::Array{Float64,4}) at /home/mvgl/.julia/packages/Knet/05UDD/src/karray.jl:150",
      " [5] convert(::Type{KnetArray{Float32,N} where N}, ::Array{Float64,4}) at /home/mvgl/.julia/packages/Knet/05UDD/src/karray.jl:149",
      " [6] iterate at /home/mvgl/.julia/packages/Knet/05UDD/src/data.jl:63 [inlined]",
      " [7] iterate at /home/mvgl/.julia/packages/Knet/05UDD/src/data.jl:55 [inlined]",
      " [8] first(::Data{Tuple{KnetArray{Float32,4},Array{UInt8,1}}}) at ./abstractarray.jl:288",
      " [9] top-level scope at In[8]:1"
     ]
    }
   ],
   "source": [
    "(x,y) = first(dtrn)\n",
    "println.(summary.((x,y)));"
   ]
  },
  {
   "cell_type": "code",
   "execution_count": 28,
   "metadata": {},
   "outputs": [
    {
     "data": {
      "text/plain": [
       "32-element Array{Int8,1}:\n",
       " 2\n",
       " 1\n",
       " 1\n",
       " 1\n",
       " 3\n",
       " 6\n",
       " 5\n",
       " 4\n",
       " 3\n",
       " 3\n",
       " 4\n",
       " 2\n",
       " 4\n",
       " ⋮\n",
       " 3\n",
       " 5\n",
       " 6\n",
       " 3\n",
       " 6\n",
       " 3\n",
       " 6\n",
       " 6\n",
       " 4\n",
       " 4\n",
       " 6\n",
       " 6"
      ]
     },
     "execution_count": 28,
     "metadata": {},
     "output_type": "execute_result"
    }
   ],
   "source": [
    "convert(Array{Int8,1},y)"
   ]
  },
  {
   "cell_type": "code",
   "execution_count": 13,
   "metadata": {},
   "outputs": [],
   "source": [
    "Xtst=Xnew[:,:,:,1297:1440];\n",
    "Ytst=Ynew[1297:1440];\n",
    "Ztst=Znew[:,:,:,1297:1440];"
   ]
  },
  {
   "cell_type": "code",
   "execution_count": 14,
   "metadata": {},
   "outputs": [
    {
     "data": {
      "text/plain": [
       "Data{Tuple{KnetArray{Float32,4},Array{UInt8,1}}}([0.866667 0.286275 … 0.54902 0.745098; 0.858824 0.286275 … 0.521569 0.745098; … ; 0.0392157 0.454902 … 0.360784 0.298039; 0.0431373 0.458824 … 0.333333 0.309804], [5 5 … 4 6], 32, 144, false, 113, 1:144, false, (224, 224, 3, 32), (144,), KnetArray{Float32,N} where N, Array{UInt8,1})"
      ]
     },
     "execution_count": 14,
     "metadata": {},
     "output_type": "execute_result"
    }
   ],
   "source": [
    "dtst=minibatch(Xtst,Ytst,32;xsize=(224,224,3,32),xtype=atype(),ytype=Array{UInt8,1})"
   ]
  },
  {
   "cell_type": "code",
   "execution_count": 15,
   "metadata": {},
   "outputs": [],
   "source": [
    "cd()\n",
    "cd(\"Desktop/DeepProject\")\n",
    "Knet.save(\"dtst.jld2\",\"m\",dtst)\n",
    "Knet.save(\"dtrn.jld2\",\"m\",dtrn)"
   ]
  },
  {
   "cell_type": "code",
   "execution_count": 3,
   "metadata": {},
   "outputs": [
    {
     "data": {
      "text/plain": [
       "Data{Tuple{KnetArray{Float32,4},Array{UInt8,1}}}([0.796078 0.607843 … 0.423529 0.423529; 0.796078 0.596078 … 0.419608 0.415686; … ; 0.482353 0.294118 … 0.698039 0.337255; 0.466667 0.313725 … 0.698039 0.329412], [6 6 … 1 1], 32, 1080, false, 1049, 1:1080, false, (224, 224, 3, 32), (1080,), KnetArray{Float32,N} where N, Array{UInt8,1})"
      ]
     },
     "execution_count": 3,
     "metadata": {},
     "output_type": "execute_result"
    }
   ],
   "source": [
    "cd()\n",
    "cd(\"Desktop/DeepProject/minibatches/m1\")\n",
    "dtst=Knet.load(\"dtsty2.jld2\",\"m\")\n",
    "dtrn=Knet.load(\"dtrny2.jld2\",\"m\")"
   ]
  },
  {
   "cell_type": "code",
   "execution_count": 4,
   "metadata": {},
   "outputs": [
    {
     "data": {
      "text/plain": [
       "Data{Tuple{KnetArray{Float32,4},Array{UInt8,1}}}([0.623529 0.717647 … 0.294118 0.870588; 0.611765 0.705882 … 0.286275 0.882353; … ; 0.301961 0.0588235 … 0.0431373 0.588235; 0.313725 0.054902 … 0.0431373 0.6], [2 5 … 4 2], 32, 180, false, 149, 1:180, false, (224, 224, 3, 32), (180,), KnetArray{Float32,N} where N, Array{UInt8,1})"
      ]
     },
     "execution_count": 4,
     "metadata": {},
     "output_type": "execute_result"
    }
   ],
   "source": [
    "cd()\n",
    "cd(\"Desktop/DeepProject/minibatches/m1\")\n",
    "dtest=Knet.load(\"dtest.jld2\",\"m\")"
   ]
  },
  {
   "cell_type": "code",
   "execution_count": 6,
   "metadata": {},
   "outputs": [
    {
     "data": {
      "text/plain": [
       "\"33-element Data{Tuple{KnetArray{Float32,4},Array{UInt8,1}}}\""
      ]
     },
     "execution_count": 6,
     "metadata": {},
     "output_type": "execute_result"
    }
   ],
   "source": [
    "summary(dtrn)"
   ]
  },
  {
   "cell_type": "code",
   "execution_count": 38,
   "metadata": {},
   "outputs": [
    {
     "name": "stdout",
     "output_type": "stream",
     "text": [
      "224×224×3×32 KnetArray{Float32,4}\n",
      "32-element Array{UInt8,1}\n"
     ]
    }
   ],
   "source": [
    "(x,y) = first(dtst)\n",
    "println.(summary.((x,y)));"
   ]
  },
  {
   "cell_type": "code",
   "execution_count": 25,
   "metadata": {},
   "outputs": [
    {
     "data": {
      "text/plain": [
       "32-element Array{Int8,1}:\n",
       " 1\n",
       " 4\n",
       " 4\n",
       " 1\n",
       " 2\n",
       " 1\n",
       " 1\n",
       " 2\n",
       " 3\n",
       " 5\n",
       " 3\n",
       " 6\n",
       " 6\n",
       " ⋮\n",
       " 5\n",
       " 6\n",
       " 6\n",
       " 6\n",
       " 5\n",
       " 6\n",
       " 1\n",
       " 5\n",
       " 2\n",
       " 3\n",
       " 5\n",
       " 6"
      ]
     },
     "execution_count": 25,
     "metadata": {},
     "output_type": "execute_result"
    }
   ],
   "source": [
    "convert(Array{Int8,1},y1)"
   ]
  },
  {
   "cell_type": "code",
   "execution_count": 47,
   "metadata": {},
   "outputs": [
    {
     "data": {
      "text/plain": [
       "trainresults (generic function with 1 method)"
      ]
     },
     "execution_count": 47,
     "metadata": {},
     "output_type": "execute_result"
    }
   ],
   "source": [
    "# For running experiments\n",
    "function trainresults(file,model; o...)\n",
    "    if (print(\"Train from scratch? \"); readline()[1]=='y')\n",
    "        takeevery(n,itr) = (x for (i,x) in enumerate(itr) if i % n == 1)\n",
    "        r = ((model(dtrn), model(dtst), zeroone(model,dtrn), zeroone(model,dtst))\n",
    "             for x in takeevery(length(dtrn), progress(adam(model,repeat(dtrn,100);lr=1e-5))))\n",
    "        r = reshape(collect(Float32,flatten(r)),(4,:))\n",
    "        Knet.save(file,\"results\",r)\n",
    "        Knet.gc() # To save gpu memory\n",
    "    else\n",
    "        isfile(file) || download(\"http://people.csail.mit.edu/deniz/models/tutorial/$file\",file)\n",
    "        r = Knet.load(file,\"results\")\n",
    "    end\n",
    "    println(minimum(r,dims=2))\n",
    "    return r\n",
    "end"
   ]
  },
  {
   "cell_type": "code",
   "execution_count": 22,
   "metadata": {},
   "outputs": [
    {
     "data": {
      "text/plain": [
       "22-element Array{String,1}:\n",
       " \"21.04.19\"          \n",
       " \"28.04\"             \n",
       " \"CNNModel.ipynb\"    \n",
       " \"Dataset.ipynb\"     \n",
       " \"Deep (1).ipynb\"    \n",
       " \"DeepCNNMOdel.ipynb\"\n",
       " \"cnn1.jld2\"         \n",
       " \"cnn2.jld2\"         \n",
       " \"datax.jld2\"        \n",
       " \"datay.jld2\"        \n",
       " \"dtrn.jld2\"         \n",
       " \"dtst.jld2\"         \n",
       " \"lenet1.jld2\"       \n",
       " \"lenet1last.jld2\"   \n",
       " \"lenet1last2.jld2\"  \n",
       " \"lenet1last3.jld2\"  \n",
       " \"lenet1last4.jld2\"  \n",
       " \"lenet1last5.jld2\"  \n",
       " \"lenet1last6.jld2\"  \n",
       " \"lenet1loss.jld2\"   \n",
       " \"minibatches\"       \n",
       " \"minitest.jld2\"     "
      ]
     },
     "execution_count": 22,
     "metadata": {},
     "output_type": "execute_result"
    }
   ],
   "source": [
    "cd()\n",
    "cd(readdir, \"Desktop/DeepProject\")"
   ]
  },
  {
   "cell_type": "code",
   "execution_count": 23,
   "metadata": {},
   "outputs": [
    {
     "data": {
      "text/plain": [
       "Chain((Conv0(P(KnetArray{Float32,4}(3,3,3,64)), P(KnetArray{Float32,4}(1,1,64,1)), Knet.relu, 0), Conv0(P(KnetArray{Float32,4}(3,3,64,128)), P(KnetArray{Float32,4}(1,1,128,1)), Knet.relu, 0), Conv0(P(KnetArray{Float32,4}(3,3,128,256)), P(KnetArray{Float32,4}(1,1,256,1)), Knet.relu, 0), Conv0(P(KnetArray{Float32,4}(3,3,256,256)), P(KnetArray{Float32,4}(1,1,256,1)), Knet.relu, 0), Conv1(P(KnetArray{Float32,4}(3,3,256,512)), P(KnetArray{Float32,4}(1,1,512,1)), Knet.relu, 0)))"
      ]
     },
     "execution_count": 23,
     "metadata": {},
     "output_type": "execute_result"
    }
   ],
   "source": [
    "cd(\"Desktop/DeepProject\")\n",
    "CC=Knet.load(\"lenet1loss.jld2\",\"b\")"
   ]
  },
  {
   "cell_type": "code",
   "execution_count": 22,
   "metadata": {},
   "outputs": [
    {
     "data": {
      "text/plain": [
       "5×5 AutoGrad.Param{Array{Float64,2}}:\n",
       "  1.25018    0.252622   1.16405   -1.0348    -0.393669 \n",
       "  0.786979   0.592132  -0.773125  -1.05423    0.500162 \n",
       " -0.425553   1.66859   -2.11647   -0.12747    0.991271 \n",
       "  0.205184  -0.950356  -0.557754   2.66108    1.06155  \n",
       " -1.29848    1.85338    0.956898  -0.623758   0.0956832"
      ]
     },
     "execution_count": 22,
     "metadata": {},
     "output_type": "execute_result"
    }
   ],
   "source": [
    "T=param(randn(5,5))"
   ]
  },
  {
   "cell_type": "code",
   "execution_count": 25,
   "metadata": {},
   "outputs": [
    {
     "data": {
      "text/plain": [
       "5×5 AutoGrad.Param{Array{Float64,2}}:\n",
       "  1.25018    0.252622   1.16405   -1.0348    -0.393669 \n",
       "  0.786979   0.592132  -0.773125  -1.05423    0.500162 \n",
       " -0.425553   1.66859   -2.11647   -0.12747    0.991271 \n",
       "  0.205184  -0.950356  -0.557754   2.66108    1.06155  \n",
       " -1.29848    1.85338    0.956898  -0.623758   0.0956832"
      ]
     },
     "execution_count": 25,
     "metadata": {},
     "output_type": "execute_result"
    }
   ],
   "source": [
    "param(T.value)"
   ]
  },
  {
   "cell_type": "code",
   "execution_count": 32,
   "metadata": {},
   "outputs": [
    {
     "data": {
      "text/plain": [
       "Knet.Adam(0.001, 0.9, 0.999, 1.0e-8, 8000, 0.0, Float32[2.06537 2.05967 2.05348; 2.06456 2.05972 2.05148; 2.06185 2.05614 2.04863]\n",
       "\n",
       "Float32[1.57346 1.56816 1.56325; 1.57353 1.569 1.56274; 1.57287 1.56754 1.56099]\n",
       "\n",
       "Float32[1.53115 1.52696 1.52307; 1.52994 1.52622 1.52112; 1.52622 1.52283 1.51794]\n",
       "\n",
       "Float32[-2.87216 -2.8351 -2.81417; -2.78557 -2.74413 -2.72375; -2.70885 -2.66778 -2.64987]\n",
       "\n",
       "Float32[-2.00073 -1.96908 -1.95629; -1.91606 -1.87941 -1.86875; -1.84945 -1.8128 -1.80216]\n",
       "\n",
       "Float32[-2.10886 -2.08155 -2.06811; -2.03513 -2.00407 -1.9911; -1.96788 -1.93563 -1.92676]\n",
       "\n",
       "Float32[-1.80895 -1.7842 -1.77152; -1.80366 -1.78016 -1.76752; -1.80353 -1.78046 -1.76753]\n",
       "\n",
       "Float32[-1.30658 -1.28326 -1.27284; -1.30226 -1.27973 -1.26955; -1.3057 -1.28335 -1.27199]\n",
       "\n",
       "Float32[-1.31704 -1.29619 -1.28787; -1.3138 -1.29542 -1.288; -1.31502 -1.2966 -1.28897]\n",
       "\n",
       "...\n",
       "\n",
       "Float32[1.37772 1.37662 1.3746; 1.38036 1.37909 1.37594; 1.38419 1.38239 1.37944]\n",
       "\n",
       "Float32[1.07708 1.07522 1.0735; 1.08017 1.07906 1.0761; 1.08572 1.08343 1.08067]\n",
       "\n",
       "Float32[1.03255 1.03265 1.03159; 1.03355 1.03422 1.03259; 1.0363 1.03604 1.03461]\n",
       "\n",
       "Float32[0.0915409 0.0917719 0.0917073; 0.0922547 0.0923117 0.0921305; 0.0968156 0.0965286 0.0960041]\n",
       "\n",
       "Float32[0.0723248 0.0728284 0.0730039; 0.0733694 0.0736466 0.0738; 0.0784103 0.0784077 0.0782187]\n",
       "\n",
       "Float32[0.0700919 0.0710787 0.0718118; 0.0708069 0.0715761 0.0723542; 0.0750549 0.075604 0.075965]\n",
       "\n",
       "Float32[0.407875 0.408706 0.408383; 0.406806 0.407046 0.406298; 0.406123 0.4058 0.404746]\n",
       "\n",
       "Float32[0.333508 0.334278 0.333998; 0.332396 0.332339 0.331986; 0.33142 0.331208 0.330268]\n",
       "\n",
       "Float32[0.308339 0.308654 0.308776; 0.307539 0.307523 0.307495; 0.306747 0.306764 0.30658], Float32[39.2532 39.1739 39.0286; 39.4881 39.4444 39.2614; 39.5571 39.504 39.3466]\n",
       "\n",
       "Float32[25.6798 25.6067 25.4935; 25.8846 25.8458 25.701; 25.9539 25.9072 25.7614]\n",
       "\n",
       "Float32[22.6045 22.5694 22.4561; 22.7427 22.7213 22.5906; 22.7276 22.7152 22.589]\n",
       "\n",
       "Float32[109.144 107.761 106.2; 105.311 103.66 102.154; 101.748 100.09 98.7829]\n",
       "\n",
       "Float32[61.9904 60.9507 59.8913; 59.1067 57.9294 57.0193; 56.7404 55.5311 54.7285]\n",
       "\n",
       "Float32[71.504 70.4525 69.0259; 68.7269 67.4483 66.1399; 66.0584 64.686 63.5471]\n",
       "\n",
       "Float32[43.9694 43.3052 43.0769; 44.2928 43.6479 43.3632; 44.9106 44.2845 43.952]\n",
       "\n",
       "Float32[26.1001 25.6127 25.4554; 26.3372 25.8403 25.6672; 26.8859 26.3917 26.157]\n",
       "\n",
       "Float32[25.3575 24.8612 24.6769; 25.5735 25.1166 24.9311; 26.0048 25.5573 25.3272]\n",
       "\n",
       "...\n",
       "\n",
       "Float32[17.3129 17.3682 17.3539; 17.3557 17.4133 17.3939; 17.3693 17.4264 17.417]\n",
       "\n",
       "Float32[11.6305 11.6672 11.6568; 11.6808 11.7317 11.7098; 11.7197 11.7587 11.7442]\n",
       "\n",
       "Float32[10.2796 10.3353 10.3172; 10.309 10.3745 10.3536; 10.3154 10.3719 10.3546]\n",
       "\n",
       "Float32[0.466891 0.46768 0.462473; 0.470833 0.470695 0.464415; 0.468675 0.467455 0.461088]\n",
       "\n",
       "Float32[0.347196 0.347873 0.342894; 0.351255 0.350988 0.345138; 0.349529 0.348432 0.342433]\n",
       "\n",
       "Float32[0.302962 0.303438 0.299008; 0.306049 0.305756 0.30063; 0.304763 0.303741 0.298656]\n",
       "\n",
       "Float32[7.90824 7.88641 7.86757; 7.99838 7.97817 7.95777; 8.08586 8.07461 8.06473]\n",
       "\n",
       "Float32[5.33202 5.30987 5.29545; 5.41898 5.39512 5.37802; 5.5021 5.49013 5.47547]\n",
       "\n",
       "Float32[4.56579 4.53382 4.52312; 4.62375 4.59432 4.5809; 4.68418 4.66682 4.66384])"
      ]
     },
     "execution_count": 32,
     "metadata": {},
     "output_type": "execute_result"
    }
   ],
   "source": [
    "CC.layers[1].w.opt"
   ]
  },
  {
   "cell_type": "code",
   "execution_count": 9,
   "metadata": {},
   "outputs": [],
   "source": [
    "# Let's define a chain of layers\n",
    "struct Chain\n",
    "    layers\n",
    "    Chain(layers...) = new(layers)\n",
    "end\n",
    "(c::Chain)(x) = (for l in c.layers; x = l(x); end; x)\n",
    "(c::Chain)(x,y) = nll(c(x),y)\n",
    "(c::Chain)(d::Data) = mean(c(x,y) for (x,y) in d)"
   ]
  },
  {
   "cell_type": "code",
   "execution_count": 10,
   "metadata": {},
   "outputs": [
    {
     "data": {
      "text/plain": [
       "Conv"
      ]
     },
     "execution_count": 10,
     "metadata": {},
     "output_type": "execute_result"
    }
   ],
   "source": [
    "# Define a convolutional layer:\n",
    "struct Conv; w; b; f; p; end\n",
    "(c::Conv)(x) = c.f.(pool(conv4(c.w, dropout(x,c.p)) .+ c.b))\n",
    "Conv(w1::Int,w2::Int,cx::Int,cy::Int,f=relu;pdrop=0) = Conv(param(w1,w2,cx,cy), param0(1,1,cy,1), f, pdrop)"
   ]
  },
  {
   "cell_type": "code",
   "execution_count": 11,
   "metadata": {},
   "outputs": [
    {
     "data": {
      "text/plain": [
       "Conv0"
      ]
     },
     "execution_count": 11,
     "metadata": {},
     "output_type": "execute_result"
    }
   ],
   "source": [
    "# Define a convolutional layer:\n",
    "struct Conv0; w; b; f; p; end\n",
    "(c::Conv0)(x) = c.f.(pool(conv4(c.w, dropout(x,c.p);padding=1).+ c.b;window=3,stride=2))\n",
    "Conv0(w1::Int,w2::Int,cx::Int,cy::Int,f=relu;pdrop=0) = Conv0(param(w1,w2,cx,cy), param0(1,1,cy,1), f, pdrop)"
   ]
  },
  {
   "cell_type": "code",
   "execution_count": 12,
   "metadata": {},
   "outputs": [
    {
     "data": {
      "text/plain": [
       "Conv01"
      ]
     },
     "execution_count": 12,
     "metadata": {},
     "output_type": "execute_result"
    }
   ],
   "source": [
    "# Define a convolutional layer:\n",
    "struct Conv01; w; b; f; p; end\n",
    "(c::Conv01)(x) = c.f.(pool(conv4(c.w, dropout(x,c.p);padding=1).+ c.b;window=3,stride=2))\n",
    "Conv01(w ,b,f=relu;pdrop=0) = Conv01(w ,b, f, pdrop)"
   ]
  },
  {
   "cell_type": "code",
   "execution_count": 20,
   "metadata": {},
   "outputs": [
    {
     "data": {
      "text/plain": [
       "Conv1"
      ]
     },
     "execution_count": 20,
     "metadata": {},
     "output_type": "execute_result"
    }
   ],
   "source": [
    "# Define a convolutional layer:\n",
    "struct Conv1; w; b; f; p; end\n",
    "(c::Conv1)(x) = c.f.(pool(conv4(c.w, dropout(x,c.p);padding=1).+ c.b;window=3,padding=1,stride=2))\n",
    "Conv1(w1::Int,w2::Int,cx::Int,cy::Int,f=relu;pdrop=0) = Conv1(param(w1,w2,cx,cy), param0(1,1,cy,1), f, pdrop)\n"
   ]
  },
  {
   "cell_type": "code",
   "execution_count": 27,
   "metadata": {},
   "outputs": [
    {
     "data": {
      "text/plain": [
       "Conv11"
      ]
     },
     "execution_count": 27,
     "metadata": {},
     "output_type": "execute_result"
    }
   ],
   "source": [
    "# Define a convolutional layer:\n",
    "struct Conv11; w; b; f; p; end\n",
    "(c::Conv11)(x) = c.f.(pool(conv4(c.w, dropout(x,c.p);padding=1).+ c.b;window=3,padding=1,stride=2))\n",
    "Conv11(w ,b,f=relu;pdrop=0) = Conv11(w ,b, f, pdrop)\n"
   ]
  },
  {
   "cell_type": "code",
   "execution_count": 13,
   "metadata": {},
   "outputs": [
    {
     "data": {
      "text/plain": [
       "Dense"
      ]
     },
     "execution_count": 13,
     "metadata": {},
     "output_type": "execute_result"
    }
   ],
   "source": [
    "# Redefine dense layer (See mlp.ipynb):\n",
    "struct Dense; w; b; f; p; end\n",
    "(d::Dense)(x) = d.f.(d.w * mat(dropout(x,d.p)) .+ d.b) # mat reshapes 4-D tensor to 2-D matrix so we can use matmul\n",
    "Dense(i::Int,o::Int,f=relu;pdrop=0) = Dense(param(o,i), param0(o), f, pdrop)"
   ]
  },
  {
   "cell_type": "code",
   "execution_count": 48,
   "metadata": {},
   "outputs": [
    {
     "data": {
      "text/plain": [
       "7-element Array{String,1}:\n",
       " \"3×3×3×64 AutoGrad.Param{KnetArray{Float32,4}}\"   \n",
       " \"3×3×64×128 AutoGrad.Param{KnetArray{Float32,4}}\" \n",
       " \"3×3×128×256 AutoGrad.Param{KnetArray{Float32,4}}\"\n",
       " \"3×3×256×256 AutoGrad.Param{KnetArray{Float32,4}}\"\n",
       " \"3×3×256×512 AutoGrad.Param{KnetArray{Float32,4}}\"\n",
       " \"256×25088 AutoGrad.Param{KnetArray{Float32,2}}\"  \n",
       " \"6×256 AutoGrad.Param{KnetArray{Float32,2}}\"      "
      ]
     },
     "execution_count": 48,
     "metadata": {},
     "output_type": "execute_result"
    }
   ],
   "source": [
    "lenet =   Chain(Conv0(3,3,3,64),\n",
    "                 Conv0(3,3,64,128),\n",
    "                 Conv0(3,3,128,256),\n",
    "                Conv0(3,3,256,256),\n",
    "                Conv1(3,3,256,512),\n",
    "                Dense(7*7*512,256,pdrop=0.5),\n",
    "                    Dense(256,6,identity))\n",
    "summary.(l.w for l in lenet.layers)"
   ]
  },
  {
   "cell_type": "code",
   "execution_count": 39,
   "metadata": {},
   "outputs": [
    {
     "ename": "UndefVarError",
     "evalue": "UndefVarError: lenet not defined",
     "output_type": "error",
     "traceback": [
      "UndefVarError: lenet not defined",
      "",
      "Stacktrace:",
      " [1] top-level scope at In[39]:1"
     ]
    }
   ],
   "source": [
    "lenet(x)"
   ]
  },
  {
   "cell_type": "code",
   "execution_count": 52,
   "metadata": {},
   "outputs": [
    {
     "ename": "ErrorException",
     "evalue": "Out of gpu memory",
     "output_type": "error",
     "traceback": [
      "Out of gpu memory",
      "",
      "Stacktrace:",
      " [1] error(::String) at ./error.jl:33",
      " [2] Knet.KnetPtr(::Int64) at /home/mvgl/.julia/packages/Knet/05UDD/src/kptr.jl:138",
      " [3] Type at /home/mvgl/.julia/packages/Knet/05UDD/src/karray.jl:117 [inlined]",
      " [4] similar at /home/mvgl/.julia/packages/Knet/05UDD/src/karray.jl:201 [inlined]",
      " [5] similar(::KnetArray{Float32,4}, ::NTuple{4,Int64}) at /home/mvgl/.julia/packages/Knet/05UDD/src/karray.jl:205",
      " [6] #conv4#232(::Ptr{Nothing}, ::Int64, ::Base.Iterators.Pairs{Symbol,Int64,Tuple{Symbol},NamedTuple{(:padding,),Tuple{Int64}}}, ::Function, ::KnetArray{Float32,4}, ::KnetArray{Float32,4}) at /home/mvgl/.julia/packages/Knet/05UDD/src/conv.jl:38",
      " [7] (::getfield(Knet, Symbol(\"#kw##conv4\")))(::NamedTuple{(:padding,),Tuple{Int64}}, ::typeof(conv4), ::KnetArray{Float32,4}, ::KnetArray{Float32,4}) at ./none:0",
      " [8] #forw#1(::Base.Iterators.Pairs{Symbol,Int64,Tuple{Symbol},NamedTuple{(:padding,),Tuple{Int64}}}, ::Function, ::Function, ::AutoGrad.Param{KnetArray{Float32,4}}, ::Vararg{Any,N} where N) at /home/mvgl/.julia/packages/AutoGrad/KsPMr/src/core.jl:66",
      " [9] #forw at ./none:0 [inlined]",
      " [10] #conv4#247 at ./none:0 [inlined]",
      " [11] (::getfield(Knet, Symbol(\"#kw##conv4\")))(::NamedTuple{(:padding,),Tuple{Int64}}, ::typeof(conv4), ::AutoGrad.Param{KnetArray{Float32,4}}, ::KnetArray{Float32,4}) at ./none:0",
      " [12] (::Conv0)(::KnetArray{Float32,4}) at ./In[11]:3",
      " [13] (::Chain)(::KnetArray{Float32,4}) at ./In[9]:6",
      " [14] #accuracy#718(::Int64, ::Bool, ::Base.Iterators.Pairs{Union{},Union{},Tuple{},NamedTuple{(),Tuple{}}}, ::Function, ::Chain, ::Data{Tuple{KnetArray{Float32,4},Array{UInt8,1}}}) at /home/mvgl/.julia/packages/Knet/05UDD/src/loss.jl:321",
      " [15] accuracy(::Chain, ::Data{Tuple{KnetArray{Float32,4},Array{UInt8,1}}}) at /home/mvgl/.julia/packages/Knet/05UDD/src/loss.jl:319",
      " [16] #zeroone#719(::Base.Iterators.Pairs{Union{},Union{},Tuple{},NamedTuple{(),Tuple{}}}, ::Function, ::Chain, ::Vararg{Any,N} where N) at /home/mvgl/.julia/packages/Knet/05UDD/src/loss.jl:328",
      " [17] zeroone(::Chain, ::Vararg{Any,N} where N) at /home/mvgl/.julia/packages/Knet/05UDD/src/loss.jl:328",
      " [18] top-level scope at In[52]:1"
     ]
    }
   ],
   "source": [
    "zeroone(lenet,dtest)"
   ]
  },
  {
   "cell_type": "code",
   "execution_count": 32,
   "metadata": {},
   "outputs": [
    {
     "data": {
      "text/plain": [
       "0.825"
      ]
     },
     "execution_count": 32,
     "metadata": {},
     "output_type": "execute_result"
    }
   ],
   "source": [
    "1-0.175"
   ]
  },
  {
   "cell_type": "code",
   "execution_count": 24,
   "metadata": {},
   "outputs": [],
   "source": [
    "CC.layers[1].w.opt=nothing\n",
    "CC.layers[2].w.opt=nothing\n",
    "CC.layers[3].w.opt=nothing\n",
    "CC.layers[4].w.opt=nothing\n",
    "CC.layers[5].w.opt=nothing"
   ]
  },
  {
   "cell_type": "code",
   "execution_count": 25,
   "metadata": {},
   "outputs": [],
   "source": [
    "CC.layers[1].b.opt=nothing\n",
    "CC.layers[2].b.opt=nothing\n",
    "CC.layers[3].b.opt=nothing\n",
    "CC.layers[4].b.opt=nothing\n",
    "CC.layers[5].b.opt=nothing"
   ]
  },
  {
   "cell_type": "code",
   "execution_count": 44,
   "metadata": {},
   "outputs": [
    {
     "ename": "BoundsError",
     "evalue": "BoundsError",
     "output_type": "error",
     "traceback": [
      "BoundsError",
      "",
      "Stacktrace:",
      " [1] size at ./number.jl:63 [inlined]",
      " [2] xavier(::Base.ReshapedArray{Float32,4,Base.ReinterpretArray{Float32,1,UInt8,SubArray{UInt8,1,Array{UInt8,1},Tuple{UnitRange{Int64}},true}},Tuple{}}) at /home/mvgl/.julia/packages/Knet/05UDD/src/distributions.jl:37",
      " [3] #param#669(::Function, ::Type, ::Function, ::Base.ReshapedArray{Float32,4,Base.ReinterpretArray{Float32,1,UInt8,SubArray{UInt8,1,Array{UInt8,1},Tuple{UnitRange{Int64}},true}},Tuple{}}) at /home/mvgl/.julia/packages/Knet/05UDD/src/train.jl:101",
      " [4] param(::Base.ReshapedArray{Float32,4,Base.ReinterpretArray{Float32,1,UInt8,SubArray{UInt8,1,Array{UInt8,1},Tuple{UnitRange{Int64}},true}},Tuple{}}) at /home/mvgl/.julia/packages/Knet/05UDD/src/train.jl:101",
      " [5] top-level scope at In[44]:1"
     ]
    }
   ],
   "source": [
    "w1=param(CC.layers[1].w.value)"
   ]
  },
  {
   "cell_type": "code",
   "execution_count": 28,
   "metadata": {},
   "outputs": [
    {
     "data": {
      "text/plain": [
       "7-element Array{String,1}:\n",
       " \"3×3×3×64 AutoGrad.Param{KnetArray{Float32,4}}\"   \n",
       " \"3×3×64×128 AutoGrad.Param{KnetArray{Float32,4}}\" \n",
       " \"3×3×128×256 AutoGrad.Param{KnetArray{Float32,4}}\"\n",
       " \"3×3×256×256 AutoGrad.Param{KnetArray{Float32,4}}\"\n",
       " \"3×3×256×512 AutoGrad.Param{KnetArray{Float32,4}}\"\n",
       " \"256×25088 AutoGrad.Param{KnetArray{Float32,2}}\"  \n",
       " \"6×256 AutoGrad.Param{KnetArray{Float32,2}}\"      "
      ]
     },
     "execution_count": 28,
     "metadata": {},
     "output_type": "execute_result"
    }
   ],
   "source": [
    "lenet2 =   Chain(Conv01(CC.layers[1].w,CC.layers[1].b),\n",
    "                 Conv01(CC.layers[2].w,CC.layers[2].b),\n",
    "                 Conv01(CC.layers[3].w,CC.layers[3].b),\n",
    "                Conv01(CC.layers[4].w,CC.layers[4].b),\n",
    "                Conv11(CC.layers[5].w,CC.layers[5].b),\n",
    "                 Dense(7*7*512,256,pdrop=0.5),\n",
    "                    Dense(256,6,identity))\n",
    "summary.(l.w for l in lenet2.layers)"
   ]
  },
  {
   "cell_type": "code",
   "execution_count": 40,
   "metadata": {},
   "outputs": [
    {
     "data": {
      "text/plain": [
       "6×32 KnetArray{Float32,2}:\n",
       "  3.49134   -6.59363  -3.16917  …   3.0695   14.9544    8.71627\n",
       "  0.636168  -6.54648  -3.08373     -2.68332   2.1633   16.1988 \n",
       " 13.1142     9.05847   9.11734     15.4011   -4.23388  -2.64853\n",
       " -0.217048   4.21947   5.01197      1.10378  -4.75542  -4.06968\n",
       "  0.847323  -3.04748   2.83288      1.8541    8.64995   4.14941\n",
       "  4.44896   11.0579    2.6405   …   8.03035  -8.96704  -8.86431"
      ]
     },
     "execution_count": 40,
     "metadata": {},
     "output_type": "execute_result"
    }
   ],
   "source": [
    "lenet2(x)"
   ]
  },
  {
   "cell_type": "code",
   "execution_count": 37,
   "metadata": {},
   "outputs": [
    {
     "data": {
      "text/plain": [
       "0.0625"
      ]
     },
     "execution_count": 37,
     "metadata": {},
     "output_type": "execute_result"
    }
   ],
   "source": [
    "zeroone(lenet2,dtst)"
   ]
  },
  {
   "cell_type": "code",
   "execution_count": 49,
   "metadata": {},
   "outputs": [
    {
     "name": "stdout",
     "output_type": "stream",
     "text": [
      "Train from scratch? stdin> y\n",
      "1.74e-01  100.00%┣█████████████████████┫ 3300/3300 [09:35/09:35, 5.74i/s]\n",
      "Float32[0.083246; 0.345735; 0.0123106; 0.08125]\n"
     ]
    }
   ],
   "source": [
    "cnn = trainresults(\"cnn2.jld2\", lenet);"
   ]
  },
  {
   "cell_type": "code",
   "execution_count": 33,
   "metadata": {},
   "outputs": [],
   "source": [
    "using Plots; default(fmt=:png,ls=:auto)"
   ]
  },
  {
   "cell_type": "code",
   "execution_count": 50,
   "metadata": {},
   "outputs": [
    {
     "data": {
      "image/png": "[encoded data removed]"
     },
     "execution_count": 50,
     "metadata": {},
     "output_type": "execute_result"
    }
   ],
   "source": [
    "plot([cnn[1,:], cnn[2,:]],\n",
    "     labels=[:trnCNN2 :tstCNN2],xlabel=\"Epochs\",ylabel=\"Loss\")"
   ]
  },
  {
   "cell_type": "code",
   "execution_count": 51,
   "metadata": {},
   "outputs": [
    {
     "data": {
      "image/png": "[encoded data removed]"
     },
     "execution_count": 51,
     "metadata": {},
     "output_type": "execute_result"
    }
   ],
   "source": [
    "plot([cnn[3,:], cnn[4,:]],\n",
    "     labels=[:trnCNN2 :tstCNN2],xlabel=\"Epochs\",ylabel=\"Error\")"
   ]
  }
 ],
 "metadata": {
  "kernelspec": {
   "display_name": "Julia 1.1.0",
   "language": "julia",
   "name": "julia-1.1"
  },
  "language_info": {
   "file_extension": ".jl",
   "mimetype": "application/julia",
   "name": "julia",
   "version": "1.1.0"
  }
 },
 "nbformat": 4,
 "nbformat_minor": 2
}
