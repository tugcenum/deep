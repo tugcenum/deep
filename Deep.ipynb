{
 "cells": [
  {
   "cell_type": "code",
   "execution_count": 1,
   "metadata": {},
   "outputs": [],
   "source": [
    "# Setup display width, load packages, import symbols\n",
    "ENV[\"COLUMNS\"]=72\n",
    "using Pkg; for p in (\"Knet\",\"Plots\"); haskey(Pkg.installed(),p) || Pkg.add(p); end\n",
    "using Base.Iterators: flatten\n",
    "using Statistics: mean\n",
    "using Knet: Knet, conv4, pool, mat, KnetArray, nll, zeroone, progress, sgd, param, param0, dropout, relu, Data, load, minibatch\n",
    "using Statistics\n",
    "using Random"
   ]
  },
  {
   "cell_type": "code",
   "execution_count": 2,
   "metadata": {},
   "outputs": [
    {
     "name": "stdout",
     "output_type": "stream",
     "text": [
      "\u001b[32m\u001b[1m  Updating\u001b[22m\u001b[39m registry at `~/.julia/registries/General`\n",
      "\u001b[32m\u001b[1m  Updating\u001b[22m\u001b[39m git-repo `https://github.com/JuliaRegistries/General.git`\n",
      "\u001b[2K\u001b[?25h[1mFetching:\u001b[22m\u001b[39m [========================================>]  100.0 %.0 %\u001b[32m\u001b[1m Resolving\u001b[22m\u001b[39m package versions...\n",
      "\u001b[32m\u001b[1m  Updating\u001b[22m\u001b[39m `~/.julia/environments/v1.1/Project.toml`\n",
      "\u001b[90m [no changes]\u001b[39m\n",
      "\u001b[32m\u001b[1m  Updating\u001b[22m\u001b[39m `~/.julia/environments/v1.1/Manifest.toml`\n",
      "\u001b[90m [no changes]\u001b[39m\n"
     ]
    }
   ],
   "source": [
    "Pkg.add(\"ImageMagick\")\n"
   ]
  },
  {
   "cell_type": "code",
   "execution_count": 3,
   "metadata": {},
   "outputs": [
    {
     "name": "stdout",
     "output_type": "stream",
     "text": [
      "\u001b[32m\u001b[1m    Status\u001b[22m\u001b[39m `~/.julia/environments/v1.1/Project.toml`\n",
      " \u001b[90m [6710c13c]\u001b[39m\u001b[37m AutoGrad v1.1.3\u001b[39m\n",
      " \u001b[90m [5ae59095]\u001b[39m\u001b[37m Colors v0.9.5\u001b[39m\n",
      " \u001b[90m [5789e2e9]\u001b[39m\u001b[37m FileIO v1.0.5\u001b[39m\n",
      " \u001b[90m [7073ff75]\u001b[39m\u001b[37m IJulia v1.17.0\u001b[39m\n",
      " \u001b[90m [6218d12a]\u001b[39m\u001b[37m ImageMagick v0.7.1\u001b[39m\n",
      " \u001b[90m [916415d5]\u001b[39m\u001b[37m Images v0.17.2\u001b[39m\n",
      " \u001b[90m [1902f260]\u001b[39m\u001b[37m Knet v1.2.1\u001b[39m\n",
      " \u001b[90m [91a5bcdd]\u001b[39m\u001b[37m Plots v0.23.2\u001b[39m\n"
     ]
    }
   ],
   "source": [
    "Pkg.status()"
   ]
  },
  {
   "cell_type": "code",
   "execution_count": 4,
   "metadata": {},
   "outputs": [],
   "source": [
    "using Images, Colors"
   ]
  },
  {
   "cell_type": "code",
   "execution_count": 5,
   "metadata": {},
   "outputs": [
    {
     "data": {
      "text/plain": [
       "\"/home/tugcenum\""
      ]
     },
     "execution_count": 5,
     "metadata": {},
     "output_type": "execute_result"
    }
   ],
   "source": [
    "cd()\n",
    "A=cd(readdir, \"/home/tugcenum/Downloads/Data-20190317T000335Z-001/Data/Anger\")\n",
    "pwd()"
   ]
  },
  {
   "cell_type": "code",
   "execution_count": 6,
   "metadata": {},
   "outputs": [],
   "source": [
    "cd()\n",
    "cd(\"Downloads/Data-20190317T000335Z-001/Data/Anger\")\n",
    "img= load(A[2])\n",
    "imgg=convert(Array{Float32}, img)\n",
    "imggg=reshape(imgg,(256*256))\n",
    "X=imggg\n",
    "Y=[1]\n",
    "for k=2:size(A,1)\n",
    "img= load(A[k])\n",
    "imgg=convert(Array{Float32}, img)\n",
    "imggg=reshape(imgg,(256*256))\n",
    "    X=cat(X,imggg;dims=2)\n",
    "    Y=push!(Y,1)\n",
    "end"
   ]
  },
  {
   "cell_type": "code",
   "execution_count": 7,
   "metadata": {},
   "outputs": [
    {
     "data": {
      "text/plain": [
       "\"65536×240 Array{Float32,2}\""
      ]
     },
     "execution_count": 7,
     "metadata": {},
     "output_type": "execute_result"
    }
   ],
   "source": [
    "summary(X)"
   ]
  },
  {
   "cell_type": "code",
   "execution_count": 8,
   "metadata": {},
   "outputs": [],
   "source": [
    "cd()\n",
    "D=cd(readdir, \"/home/tugcenum/Downloads/Data-20190317T000335Z-001/Data/Disgust\");\n"
   ]
  },
  {
   "cell_type": "code",
   "execution_count": 9,
   "metadata": {},
   "outputs": [],
   "source": [
    "cd()\n",
    "cd(\"Downloads/Data-20190317T000335Z-001/Data/Disgust\")\n",
    "for k=1:size(D,1)\n",
    "img= load(D[k])\n",
    "imgg=convert(Array{Float32}, img)\n",
    "    imggg=reshape(imgg,(256*256))\n",
    "     X=cat(X,imggg;dims=2)\n",
    "    Y=push!(Y,2)\n",
    "end"
   ]
  },
  {
   "cell_type": "code",
   "execution_count": 10,
   "metadata": {},
   "outputs": [
    {
     "data": {
      "text/plain": [
       "\"65536×480 Array{Float32,2}\""
      ]
     },
     "execution_count": 10,
     "metadata": {},
     "output_type": "execute_result"
    }
   ],
   "source": [
    "summary(X)"
   ]
  },
  {
   "cell_type": "code",
   "execution_count": 11,
   "metadata": {},
   "outputs": [
    {
     "data": {
      "text/plain": [
       "240-element Array{String,1}:\n",
       " \"F1.png\"  \n",
       " \"F10.png\" \n",
       " \"F100.png\"\n",
       " \"F101.png\"\n",
       " \"F102.png\"\n",
       " \"F103.png\"\n",
       " \"F104.png\"\n",
       " \"F105.png\"\n",
       " \"F106.png\"\n",
       " \"F107.png\"\n",
       " \"F108.png\"\n",
       " \"F109.png\"\n",
       " \"F11.png\" \n",
       " ⋮         \n",
       " \"F89.png\" \n",
       " \"F9.png\"  \n",
       " \"F90.png\" \n",
       " \"F91.png\" \n",
       " \"F92.png\" \n",
       " \"F93.png\" \n",
       " \"F94.png\" \n",
       " \"F95.png\" \n",
       " \"F96.png\" \n",
       " \"F97.png\" \n",
       " \"F98.png\" \n",
       " \"F99.png\" "
      ]
     },
     "execution_count": 11,
     "metadata": {},
     "output_type": "execute_result"
    }
   ],
   "source": [
    "cd()\n",
    "F=cd(readdir, \"/home/tugcenum/Downloads/Data-20190317T000335Z-001/Data/Fear\")\n"
   ]
  },
  {
   "cell_type": "code",
   "execution_count": 12,
   "metadata": {},
   "outputs": [],
   "source": [
    "cd()\n",
    "cd(\"Downloads/Data-20190317T000335Z-001/Data/Fear\")\n",
    "for k=1:size(F,1)\n",
    "img= load(F[k])\n",
    "imgg=convert(Array{Float32}, img)\n",
    "     imggg=reshape(imgg,(256*256))\n",
    "     X=cat(X,imggg;dims=2)\n",
    "    Y=push!(Y,3)\n",
    "end"
   ]
  },
  {
   "cell_type": "code",
   "execution_count": 13,
   "metadata": {},
   "outputs": [
    {
     "data": {
      "text/plain": [
       "\"65536×720 Array{Float32,2}\""
      ]
     },
     "execution_count": 13,
     "metadata": {},
     "output_type": "execute_result"
    }
   ],
   "source": [
    "summary(X)"
   ]
  },
  {
   "cell_type": "code",
   "execution_count": 14,
   "metadata": {},
   "outputs": [],
   "source": [
    "cd()\n",
    "H=cd(readdir, \"/home/tugcenum/Downloads/Data-20190317T000335Z-001/Data/Happiness\");\n",
    "cd()\n",
    "cd(\"Downloads/Data-20190317T000335Z-001/Data/Happiness\")\n",
    "for k=1:size(H,1)\n",
    "img= load(H[k])\n",
    "imgg=convert(Array{Float32}, img)\n",
    "  imggg=reshape(imgg,(256*256))\n",
    "     X=cat(X,imggg;dims=2)\n",
    "    Y=push!(Y,4)\n",
    "end"
   ]
  },
  {
   "cell_type": "code",
   "execution_count": 15,
   "metadata": {},
   "outputs": [
    {
     "data": {
      "text/plain": [
       "\"65536×960 Array{Float32,2}\""
      ]
     },
     "execution_count": 15,
     "metadata": {},
     "output_type": "execute_result"
    }
   ],
   "source": [
    "summary(X)"
   ]
  },
  {
   "cell_type": "code",
   "execution_count": 16,
   "metadata": {},
   "outputs": [],
   "source": [
    "cd()\n",
    "S=cd(readdir, \"/home/tugcenum/Downloads/Data-20190317T000335Z-001/Data/Sadness\");\n",
    "cd()\n",
    "cd(\"Downloads/Data-20190317T000335Z-001/Data/Sadness\")\n",
    "for k=1:size(S,1)\n",
    "img= load(S[k])\n",
    "imgg=convert(Array{Float32}, img)\n",
    "    imggg=reshape(imgg,(256*256))\n",
    "     X=cat(X,imggg;dims=2)\n",
    "    Y=push!(Y,5)\n",
    "end"
   ]
  },
  {
   "cell_type": "code",
   "execution_count": 17,
   "metadata": {},
   "outputs": [
    {
     "data": {
      "text/plain": [
       "\"65536×1200 Array{Float32,2}\""
      ]
     },
     "execution_count": 17,
     "metadata": {},
     "output_type": "execute_result"
    }
   ],
   "source": [
    "summary(X)"
   ]
  },
  {
   "cell_type": "code",
   "execution_count": 18,
   "metadata": {},
   "outputs": [
    {
     "data": {
      "text/plain": [
       "240-element Array{String,1}:\n",
       " \"P1.png\"  \n",
       " \"P10.png\" \n",
       " \"P100.png\"\n",
       " \"P101.png\"\n",
       " \"P102.png\"\n",
       " \"P103.png\"\n",
       " \"P104.png\"\n",
       " \"P105.png\"\n",
       " \"P106.png\"\n",
       " \"P107.png\"\n",
       " \"P108.png\"\n",
       " \"P109.png\"\n",
       " \"P11.png\" \n",
       " ⋮         \n",
       " \"P89.png\" \n",
       " \"P9.png\"  \n",
       " \"P90.png\" \n",
       " \"P91.png\" \n",
       " \"P92.png\" \n",
       " \"P93.png\" \n",
       " \"P94.png\" \n",
       " \"P95.png\" \n",
       " \"P96.png\" \n",
       " \"P97.png\" \n",
       " \"P98.png\" \n",
       " \"P99.png\" "
      ]
     },
     "execution_count": 18,
     "metadata": {},
     "output_type": "execute_result"
    }
   ],
   "source": [
    "cd()\n",
    "P=cd(readdir, \"/home/tugcenum/Downloads/Data-20190317T000335Z-001/Data/Surprise\")"
   ]
  },
  {
   "cell_type": "code",
   "execution_count": 19,
   "metadata": {},
   "outputs": [],
   "source": [
    "cd()\n",
    "P=cd(readdir, \"/home/tugcenum/Downloads/Data-20190317T000335Z-001/Data/Surprise\");\n",
    "cd()\n",
    "cd(\"Downloads/Data-20190317T000335Z-001/Data/Surprise\")\n",
    "for k=1:size(P,1)\n",
    "img= load(P[k])\n",
    "imgg=convert(Array{Float32}, img)\n",
    "     imggg=reshape(imgg,(256*256))\n",
    "     X=cat(X,imggg;dims=2)\n",
    "    Y=push!(Y,6)\n",
    "end"
   ]
  },
  {
   "cell_type": "code",
   "execution_count": 20,
   "metadata": {},
   "outputs": [],
   "source": [
    "Y=convert(Array{UInt8}, Y);"
   ]
  },
  {
   "cell_type": "code",
   "execution_count": 21,
   "metadata": {},
   "outputs": [
    {
     "data": {
      "text/plain": [
       "\"1440-element Array{UInt8,1}\""
      ]
     },
     "execution_count": 21,
     "metadata": {},
     "output_type": "execute_result"
    }
   ],
   "source": [
    "summary(Y)"
   ]
  },
  {
   "cell_type": "code",
   "execution_count": 22,
   "metadata": {},
   "outputs": [
    {
     "data": {
      "text/plain": [
       "\"65536×1440 Array{Float32,2}\""
      ]
     },
     "execution_count": 22,
     "metadata": {},
     "output_type": "execute_result"
    }
   ],
   "source": [
    "summary(X)"
   ]
  },
  {
   "cell_type": "code",
   "execution_count": 23,
   "metadata": {},
   "outputs": [],
   "source": [
    "ind=randperm(size(Y,1));"
   ]
  },
  {
   "cell_type": "code",
   "execution_count": 24,
   "metadata": {},
   "outputs": [],
   "source": [
    "Ynew=Y[ind,1];"
   ]
  },
  {
   "cell_type": "code",
   "execution_count": 25,
   "metadata": {},
   "outputs": [],
   "source": [
    "Xnew=X[:,ind];"
   ]
  },
  {
   "cell_type": "code",
   "execution_count": 26,
   "metadata": {},
   "outputs": [
    {
     "data": {
      "text/plain": [
       "\"65536×1440 Array{Float32,2}\""
      ]
     },
     "execution_count": 26,
     "metadata": {},
     "output_type": "execute_result"
    }
   ],
   "source": [
    "summary(Xnew)"
   ]
  },
  {
   "cell_type": "code",
   "execution_count": 27,
   "metadata": {},
   "outputs": [],
   "source": [
    "Xdtrn=Xnew[:,1:1296]\n",
    "\n",
    "Ydtrn=Ynew[1:1296];"
   ]
  },
  {
   "cell_type": "code",
   "execution_count": 28,
   "metadata": {},
   "outputs": [
    {
     "data": {
      "text/plain": [
       "\"65536×1296 Array{Float32,2}\""
      ]
     },
     "execution_count": 28,
     "metadata": {},
     "output_type": "execute_result"
    }
   ],
   "source": [
    "summary(Xdtrn)"
   ]
  },
  {
   "cell_type": "code",
   "execution_count": 29,
   "metadata": {},
   "outputs": [
    {
     "data": {
      "text/plain": [
       "Data{Tuple{Array{Float32,2},Array{UInt8,1}}}(Float32[0.623529 0.545098 … 0.521569 0.341176; 0.623529 0.545098 … 0.521569 0.341176; … ; 0.184314 0.380392 … 0.247059 0.533333; 0.184314 0.380392 … 0.247059 0.533333], UInt8[0x04 0x03 … 0x01 0x03], 60, 1296, false, 1237, 1:1296, false, (65536, 1296), (1296,), Array{Float32,2}, Array{UInt8,1})"
      ]
     },
     "execution_count": 29,
     "metadata": {},
     "output_type": "execute_result"
    }
   ],
   "source": [
    "dtrn=minibatch(Xdtrn,Ydtrn,60)"
   ]
  },
  {
   "cell_type": "code",
   "execution_count": 30,
   "metadata": {},
   "outputs": [
    {
     "name": "stdout",
     "output_type": "stream",
     "text": [
      "65536×60 Array{Float32,2}\n",
      "60-element Array{UInt8,1}\n"
     ]
    }
   ],
   "source": [
    "(x,y) = first(dtrn)\n",
    "println.(summary.((x,y)));"
   ]
  },
  {
   "cell_type": "code",
   "execution_count": 31,
   "metadata": {},
   "outputs": [],
   "source": [
    "Xtst=Xnew[:,1297:1440];\n",
    "\n",
    "Ytst=Ynew[1297:1440];"
   ]
  },
  {
   "cell_type": "code",
   "execution_count": 32,
   "metadata": {},
   "outputs": [
    {
     "data": {
      "text/plain": [
       "Data{Tuple{Array{Float32,2},Array{UInt8,1}}}(Float32[0.705882 0.513726 … 0.541176 0.662745; 0.705882 0.513726 … 0.541176 0.662745; … ; 0.454902 0.337255 … 0.27451 0.431373; 0.454902 0.337255 … 0.27451 0.431373], UInt8[0x03 0x04 … 0x03 0x06], 60, 144, false, 85, 1:144, false, (65536, 144), (144,), Array{Float32,2}, Array{UInt8,1})"
      ]
     },
     "execution_count": 32,
     "metadata": {},
     "output_type": "execute_result"
    }
   ],
   "source": [
    "dtst=minibatch(Xtst,Ytst,60)"
   ]
  },
  {
   "cell_type": "code",
   "execution_count": 33,
   "metadata": {},
   "outputs": [
    {
     "name": "stdout",
     "output_type": "stream",
     "text": [
      "65536×60 Array{Float32,2}\n",
      "60-element Array{UInt8,1}\n"
     ]
    }
   ],
   "source": [
    "(x,y) = first(dtrn)\n",
    "println.(summary.((x,y)));"
   ]
  },
  {
   "cell_type": "code",
   "execution_count": 34,
   "metadata": {},
   "outputs": [
    {
     "name": "stderr",
     "output_type": "stream",
     "text": [
      "┌ Info: Precompiling Plots [91a5bcdd-55d7-5caf-9e0b-520d859cae80]\n",
      "└ @ Base loading.jl:1186\n"
     ]
    }
   ],
   "source": [
    "# Set display width, load packages, import symbols\n",
    "ENV[\"COLUMNS\"]=72\n",
    "using Pkg; for p in (\"Knet\",\"Plots\",\"Images\"); haskey(Pkg.installed(),p) || Pkg.add(p); end\n",
    "using Knet: Knet, dir,sigm , zeroone, progress, sgd, load, save, gc, Param, KnetArray, gpu, Data, nll, training, dropout,conv4, pool, mat, nll, zeroone,\n",
    "progress, sgd, param, param0, dropout, relu, Data,sigm, Adam # param, param0, xavier\n",
    "using Statistics: mean\n",
    "using Base.Iterators: flatten\n",
    "using Plots; default(fmt=:png,ls=:auto)\n",
    "import Knet.param0\n",
    "import Knet.param\n",
    "import Knet.xavier"
   ]
  },
  {
   "cell_type": "code",
   "execution_count": 35,
   "metadata": {},
   "outputs": [
    {
     "data": {
      "text/plain": [
       "atype (generic function with 1 method)"
      ]
     },
     "execution_count": 35,
     "metadata": {},
     "output_type": "execute_result"
    }
   ],
   "source": [
    "# Some utilities to make model definitions easier:\n",
    "param(d...; init=xavier, atype=atype())=Param(atype(init(d...)))\n",
    "param0(d...; atype=atype())=param(d...; init=zeros, atype=atype)\n",
    "xavier(o,i) = (s = sqrt(2/(i+o)); 2s .* rand(o,i) .- s)\n",
    "atype()=(gpu() >= 0 ? KnetArray{Float32} : Array{Float32})"
   ]
  },
  {
   "cell_type": "code",
   "execution_count": 36,
   "metadata": {},
   "outputs": [
    {
     "data": {
      "text/plain": [
       "trainresults (generic function with 1 method)"
      ]
     },
     "execution_count": 36,
     "metadata": {},
     "output_type": "execute_result"
    }
   ],
   "source": [
    "function trainresults(file,model; o...)\n",
    "    if (print(\"Train from scratch? \"); readline()[1]=='y')\n",
    "        takeevery(n,itr) = (x for (i,x) in enumerate(itr) if i % n == 1)\n",
    "        r = ((model(dtrn), model(dtst), zeroone(model,dtrn), zeroone(model,dtst))\n",
    "             for x in takeevery(length(dtrn), progress(sgd(model,repeat(dtrn,100)))))\n",
    "        r = reshape(collect(Float32,flatten(r)),(4,:))\n",
    "        Knet.gc() # To save gpu memory\n",
    "    else\n",
    "        isfile(file) || download(\"http://people.csail.mit.edu/deniz/models/tutorial/$file\",file)\n",
    "        r = Knet.load(file,\"results\")\n",
    "    end\n",
    "    println(minimum(r,dims=2))\n",
    "    return r\n",
    "end"
   ]
  },
  {
   "cell_type": "code",
   "execution_count": 37,
   "metadata": {},
   "outputs": [],
   "source": [
    "# Let's define a chain of layers\n",
    "struct Chain\n",
    "    layers\n",
    "    Chain(layers...) = new(layers)\n",
    "end\n",
    "(c::Chain)(x) = (for l in c.layers; x = l(x); end; x)\n",
    "(c::Chain)(x,y) = nll(c(x),y)\n",
    "(c::Chain)(d::Data) = mean(c(x,y) for (x,y) in d)"
   ]
  },
  {
   "cell_type": "code",
   "execution_count": 38,
   "metadata": {},
   "outputs": [],
   "source": [
    "struct Layer0; w; b; end\n",
    "Layer0(i::Int,o::Int) = Layer0(param(o,i),param0(o))\n",
    "(l::Layer0)(x) = (l.w * x .+ l.b)"
   ]
  },
  {
   "cell_type": "code",
   "execution_count": 39,
   "metadata": {},
   "outputs": [
    {
     "name": "stdout",
     "output_type": "stream",
     "text": [
      "Train from scratch? stdin> y\n",
      "1.02e+02  100.00%┣████████████████████┫ 2100/2100 [01:18/01:18, 27.02i/s]\n",
      "Float32[22.1392; 49.8861; 0.252381; 0.375]\n"
     ]
    }
   ],
   "source": [
    "model=Chain(Layer0(65536,6))\n",
    "lin1 = trainresults(\"mlp1.jld2\", model);"
   ]
  },
  {
   "cell_type": "code",
   "execution_count": 40,
   "metadata": {},
   "outputs": [
    {
     "data": {
      "image/png": "[encoded data removed]"
     },
     "execution_count": 40,
     "metadata": {},
     "output_type": "execute_result"
    }
   ],
   "source": [
    "plot([lin1[1,:], lin1[2,:]],\n",
    "     labels=[:trnLin :tstLin],xlabel=\"Epochs\",ylabel=\"Loss\")"
   ]
  },
  {
   "cell_type": "code",
   "execution_count": 41,
   "metadata": {},
   "outputs": [
    {
     "data": {
      "image/png": "[encoded data removed]"
     },
     "execution_count": 41,
     "metadata": {},
     "output_type": "execute_result"
    }
   ],
   "source": [
    "plot([lin1[3,:], lin1[4,:]],\n",
    "     labels=[:trnLin :tstLin],xlabel=\"Epochs\",ylabel=\"Error\")"
   ]
  },
  {
   "cell_type": "code",
   "execution_count": 51,
   "metadata": {},
   "outputs": [
    {
     "data": {
      "text/plain": [
       "(Layer0(P(Array{Float32,2}(6,65536)), P(Array{Float32,1}(6))),)"
      ]
     },
     "execution_count": 51,
     "metadata": {},
     "output_type": "execute_result"
    }
   ],
   "source": [
    "k=model.layers"
   ]
  },
  {
   "cell_type": "code",
   "execution_count": 76,
   "metadata": {},
   "outputs": [
    {
     "data": {
      "text/plain": [
       "\"/home/tugcenum/Downloads/Data-20190317T000335Z-001/Data\""
      ]
     },
     "execution_count": 76,
     "metadata": {},
     "output_type": "execute_result"
    }
   ],
   "source": [
    "cd()\n",
    "cd(\"Downloads/Data-20190317T000335Z-001/Data\")\n",
    "pwd()"
   ]
  },
  {
   "cell_type": "code",
   "execution_count": 82,
   "metadata": {},
   "outputs": [],
   "source": [
    "using DelimitedFiles\n",
    "writedlm( \"Loss1.csv\",  lin1[2,:])"
   ]
  },
  {
   "cell_type": "code",
   "execution_count": 75,
   "metadata": {},
   "outputs": [
    {
     "data": {
      "text/plain": [
       "\"/home/tugcenum\""
      ]
     },
     "execution_count": 75,
     "metadata": {},
     "output_type": "execute_result"
    }
   ],
   "source": [
    "pwd()"
   ]
  },
  {
   "cell_type": "code",
   "execution_count": 70,
   "metadata": {},
   "outputs": [],
   "source": [
    "save(\"Loss1.jld2\",\"results\",lin1[2,:])"
   ]
  },
  {
   "cell_type": "code",
   "execution_count": 79,
   "metadata": {},
   "outputs": [
    {
     "data": {
      "text/plain": [
       "6-element Param{Array{Float32,1}}:\n",
       " -0.022947535\n",
       "  0.16331743 \n",
       "  0.42501777 \n",
       " -0.43897742 \n",
       "  0.08530485 \n",
       " -0.2117235  "
      ]
     },
     "execution_count": 79,
     "metadata": {},
     "output_type": "execute_result"
    }
   ],
   "source": [
    "a=first(k)\n",
    "B=a.b"
   ]
  }
 ],
 "metadata": {
  "kernelspec": {
   "display_name": "Julia 1.1.0",
   "language": "julia",
   "name": "julia-1.1"
  },
  "language_info": {
   "file_extension": ".jl",
   "mimetype": "application/julia",
   "name": "julia",
   "version": "1.1.0"
  }
 },
 "nbformat": 4,
 "nbformat_minor": 2
}
