{
 "cells": [
  {
   "cell_type": "code",
   "execution_count": 1,
   "metadata": {},
   "outputs": [],
   "source": [
    "# Set display width, load packages, import symbols\n",
    "ENV[\"COLUMNS\"]=72\n",
    "using Pkg; for p in (\"Knet\",\"Plots\",\"Images\"); haskey(Pkg.installed(),p) || Pkg.add(p); end\n",
    "using Knet: Knet, dir,sigm , zeroone, progress, sgd, load, save, gc, Param, KnetArray, gpu, Data, nll, training, dropout,conv4, pool, mat, nll, zeroone,\n",
    "progress, sgd, param, param0, dropout, relu, Data,sigm, Adam, minibatch, cycle# param, param0, xavier\n",
    "using Statistics: mean\n",
    "using Base.Iterators: flatten\n",
    "import .Iterators: cycle, Cycle, take\n",
    "using Plots; default(fmt=:png,ls=:auto)\n",
    "using Statistics\n",
    "using Random\n",
    "import Knet.param0\n",
    "import Knet.param\n",
    "import Knet.xavier\n",
    "using Knet, Luxor, Plots,Printf"
   ]
  },
  {
   "cell_type": "code",
   "execution_count": 2,
   "metadata": {},
   "outputs": [
    {
     "name": "stdout",
     "output_type": "stream",
     "text": [
      "\u001b[32m\u001b[1m    Status\u001b[22m\u001b[39m `~/.julia/environments/v1.1/Project.toml`\n",
      " \u001b[90m [5ae59095]\u001b[39m\u001b[37m Colors v0.9.5\u001b[39m\n",
      " \u001b[90m [5789e2e9]\u001b[39m\u001b[37m FileIO v1.0.6\u001b[39m\n",
      " \u001b[90m [7073ff75]\u001b[39m\u001b[37m IJulia v1.18.0\u001b[39m\n",
      " \u001b[90m [6218d12a]\u001b[39m\u001b[37m ImageMagick v0.7.1\u001b[39m\n",
      " \u001b[90m [916415d5]\u001b[39m\u001b[37m Images v0.17.3\u001b[39m\n",
      " \u001b[90m [033835bb]\u001b[39m\u001b[37m JLD2 v0.1.2\u001b[39m\n",
      " \u001b[90m [682c06a0]\u001b[39m\u001b[37m JSON v0.20.0\u001b[39m\n",
      " \u001b[90m [1902f260]\u001b[39m\u001b[37m Knet v1.2.1\u001b[39m\n",
      " \u001b[90m [ae8d54c2]\u001b[39m\u001b[37m Luxor v1.2.0\u001b[39m\n",
      " \u001b[90m [23992714]\u001b[39m\u001b[37m MAT v0.5.0\u001b[39m\n",
      " \u001b[90m [91a5bcdd]\u001b[39m\u001b[37m Plots v0.24.0\u001b[39m\n",
      " \u001b[90m [438e738f]\u001b[39m\u001b[37m PyCall v1.91.1\u001b[39m\n"
     ]
    }
   ],
   "source": [
    "Pkg.status()"
   ]
  },
  {
   "cell_type": "code",
   "execution_count": 3,
   "metadata": {},
   "outputs": [
    {
     "data": {
      "text/plain": [
       "0.052109734951241424"
      ]
     },
     "execution_count": 3,
     "metadata": {},
     "output_type": "execute_result"
    }
   ],
   "source": [
    "std(gaussian(5,3; std=0.05))"
   ]
  },
  {
   "cell_type": "code",
   "execution_count": 2,
   "metadata": {},
   "outputs": [],
   "source": [
    "using Images, Colors"
   ]
  },
  {
   "cell_type": "code",
   "execution_count": 3,
   "metadata": {},
   "outputs": [
    {
     "data": {
      "text/plain": [
       "atype (generic function with 1 method)"
      ]
     },
     "execution_count": 3,
     "metadata": {},
     "output_type": "execute_result"
    }
   ],
   "source": [
    "# Some utilities to make model definitions easier:\n",
    "param(d...; init=xavier, atype=atype())=Param(atype(init(d...)))\n",
    "paramd1(d...; init=gaussian, atype=atype())=Param(atype(init(d...)))\n",
    "paramd2(d...; init=gaussian, atype=atype())=Param(atype(init(d...;std=0.005)))\n",
    "param0(d...; atype=atype())=param(d...; init=zeros, atype=atype)\n",
    "param1(d...; atype=atype())=param(d...; init=ones, atype=atype)\n",
    "xavier(o,i) = (s = sqrt(2/(i+o)); 2s .* rand(o,i) .- s)\n",
    "atype()=(gpu() >= 0 ? KnetArray{Float32} : Array{Float32})"
   ]
  },
  {
   "cell_type": "code",
   "execution_count": 4,
   "metadata": {},
   "outputs": [
    {
     "data": {
      "text/plain": [
       "\"224×224×3×1440 Array{Float64,4}\""
      ]
     },
     "execution_count": 4,
     "metadata": {},
     "output_type": "execute_result"
    }
   ],
   "source": [
    "cd()\n",
    "cd(\"Desktop/DeepProject/21.04.19\")\n",
    "X=load(\"datax2.jld2\",\"a\");\n",
    "Y=load(\"datay.jld2\",\"b\");\n",
    "Z=load(\"dataz.jld2\",\"c\");\n",
    "summary(X)"
   ]
  },
  {
   "cell_type": "code",
   "execution_count": 6,
   "metadata": {},
   "outputs": [
    {
     "data": {
      "text/plain": [
       "\"1440-element Array{Int64,1}\""
      ]
     },
     "execution_count": 6,
     "metadata": {},
     "output_type": "execute_result"
    }
   ],
   "source": [
    "summary(Y)"
   ]
  },
  {
   "cell_type": "code",
   "execution_count": 7,
   "metadata": {},
   "outputs": [
    {
     "data": {
      "text/plain": [
       "\"1440-element Array{Int64,1}\""
      ]
     },
     "execution_count": 7,
     "metadata": {},
     "output_type": "execute_result"
    }
   ],
   "source": [
    "ind=randperm(size(Y,1));\n",
    "Ynew=Y[ind];\n",
    "Xnew=X[:,:,:,ind];\n",
    "Znew=Z[:,:,:,ind];\n",
    "summary(Ynew)"
   ]
  },
  {
   "cell_type": "code",
   "execution_count": 13,
   "metadata": {},
   "outputs": [
    {
     "data": {
      "text/plain": [
       "0.9"
      ]
     },
     "execution_count": 13,
     "metadata": {},
     "output_type": "execute_result"
    }
   ],
   "source": [
    "1296/1440"
   ]
  },
  {
   "cell_type": "code",
   "execution_count": 8,
   "metadata": {},
   "outputs": [
    {
     "data": {
      "text/plain": [
       "\"1296-element Array{Int64,1}\""
      ]
     },
     "execution_count": 8,
     "metadata": {},
     "output_type": "execute_result"
    }
   ],
   "source": [
    "Xdtrn=Xnew[:,:,:,1:1296]\n",
    "Ydtrn=Ynew[1:1296];\n",
    "Zdtrn=Znew[:,:,:,1:1296]\n",
    "summary(Ydtrn)"
   ]
  },
  {
   "cell_type": "code",
   "execution_count": 9,
   "metadata": {},
   "outputs": [
    {
     "data": {
      "text/plain": [
       "Data{Tuple{KnetArray{Float32,4},Array{UInt8,1}}}([0.482353 0.568627 … 0.894118 0.666667; 0.482353 0.552941 … 0.886275 0.662745; … ; 0.662745 0.643137 … 0.631373 0.196078; 0.717647 0.647059 … 0.647059 0.196078], [3 5 … 1 4], 32, 1296, false, 1265, 1:1296, false, (224, 224, 3, 32), (1296,), KnetArray{Float32,N} where N, Array{UInt8,1})"
      ]
     },
     "execution_count": 9,
     "metadata": {},
     "output_type": "execute_result"
    }
   ],
   "source": [
    "dtrn=minibatch(Xdtrn,Ydtrn,32;xsize=(224,224,3,32),xtype=atype(),ytype=Array{UInt8,1})"
   ]
  },
  {
   "cell_type": "code",
   "execution_count": 10,
   "metadata": {},
   "outputs": [
    {
     "name": "stdout",
     "output_type": "stream",
     "text": [
      "224×224×3×32 KnetArray{Float32,4}\n",
      "32-element Array{UInt8,1}\n"
     ]
    }
   ],
   "source": [
    "(x,y) = first(dtrn)\n",
    "println.(summary.((x,y)));"
   ]
  },
  {
   "cell_type": "code",
   "execution_count": 11,
   "metadata": {},
   "outputs": [],
   "source": [
    "Xtst=Xnew[:,:,:,1297:1440];\n",
    "Ytst=Ynew[1297:1440];\n",
    "Ztst=Znew[:,:,:,1297:1440];"
   ]
  },
  {
   "cell_type": "code",
   "execution_count": 12,
   "metadata": {},
   "outputs": [
    {
     "data": {
      "text/plain": [
       "Data{Tuple{KnetArray{Float32,4},Array{UInt8,1}}}([0.109804 0.847059 … 0.831373 0.396078; 0.105882 0.839216 … 0.835294 0.384314; … ; 0.0862745 0.101961 … 0.615686 0.168627; 0.0862745 0.101961 … 0.615686 0.164706], [4 4 … 6 1], 32, 144, false, 113, 1:144, false, (224, 224, 3, 32), (144,), KnetArray{Float32,N} where N, Array{UInt8,1})"
      ]
     },
     "execution_count": 12,
     "metadata": {},
     "output_type": "execute_result"
    }
   ],
   "source": [
    "dtst=minibatch(Xtst,Ytst,32;xsize=(224,224,3,32),xtype=atype(),ytype=Array{UInt8,1})"
   ]
  },
  {
   "cell_type": "code",
   "execution_count": 13,
   "metadata": {},
   "outputs": [
    {
     "name": "stdout",
     "output_type": "stream",
     "text": [
      "224×224×3×32 KnetArray{Float32,4}\n",
      "32-element Array{UInt8,1}\n"
     ]
    }
   ],
   "source": [
    "(x1,y1) = first(dtst)\n",
    "println.(summary.((x1,y1)));"
   ]
  },
  {
   "cell_type": "code",
   "execution_count": 96,
   "metadata": {},
   "outputs": [
    {
     "data": {
      "text/plain": [
       "trainresults (generic function with 1 method)"
      ]
     },
     "execution_count": 96,
     "metadata": {},
     "output_type": "execute_result"
    }
   ],
   "source": [
    "function trainresults(file,model; o...)\n",
    "   # if (print(\"Train from scratch? \"); readline()[1]=='y')\n",
    "        takeevery(n,itr) = (x for (i,x) in enumerate(itr) if i % n == 1)\n",
    "         r = ((model(dtrn), model(dtst), zeroone(model,dtrn), zeroone(model,dtst))\n",
    "             for x in takeevery(length(dtrn), progress(momentum(model,repeat(dtrn,50); lr=1e-07, gamma=0.9))))\n",
    "        print(\"done\")\n",
    "          # print(size(r,1))      \n",
    "        r = reshape(collect(Float32,flatten(r)),(4,:))\n",
    "               \n",
    "          print(\"done\")\n",
    "       # Knet.gc() # To save gpu memory\n",
    "    #else\n",
    "       # isfile(file) || download(\"http://people.csail.mit.edu/deniz/models/tutorial/$file\",file)\n",
    "       # r = Knet.load(file,\"results\")\n",
    "   # end\n",
    "   # println(minimum(r,dims=2))\n",
    "   return r\n",
    "end"
   ]
  },
  {
   "cell_type": "code",
   "execution_count": 43,
   "metadata": {},
   "outputs": [
    {
     "data": {
      "text/latex": [
       "\\begin{verbatim}\n",
       "minimize(func, data, optimizer=Adam(); params)\n",
       "sgd     (func, data; lr=0.1,  gclip, params)\n",
       "momentum(func, data; lr=0.05, gamma=0.95, gclip, params)\n",
       "nesterov(func, data; lr=0.05, gamma=0.95, gclip, params)\n",
       "adagrad (func, data; lr=0.05, eps=1e-6, gclip, params)\n",
       "rmsprop (func, data; lr=0.01, rho=0.9, eps=1e-6, gclip, params)\n",
       "adadelta(func, data; lr=1.0,  rho=0.9, eps=1e-6, gclip, params)\n",
       "adam    (func, data; lr=0.001, beta1=0.9, beta2=0.999, eps=1e-8, gclip, params)\n",
       "\\end{verbatim}\n",
       "Return an iterator which applies \\texttt{func} to arguments in \\texttt{data}, i.e.  \\texttt{(func(args...) for args in data)}, and updates the parameters every iteration to minimize \\texttt{func}.  \\texttt{func} should return a scalar value.\n",
       "\n",
       "The common keyword argument \\texttt{params} can be used to list the \\texttt{Param}s to be optimized.  If not specified, any \\texttt{Param} that takes part in the computation of \\texttt{func(args...)} will be updated.\n",
       "\n",
       "The common keyword argument \\texttt{gclip} can be used to implement per-parameter gradient clipping. For a parameter gradient \\texttt{g}, if \\texttt{norm(g) > gclip > 0}, \\texttt{g} is scaled so that its norm is equal to \\texttt{gclip}. If not specified no gradient clipping is performed.\n",
       "\n",
       "These functions do not perform optimization, but return an iterator that can. Any function that produces values from an iterator can be used with such an object, e.g. \\texttt{progress!(sgd(f,d))} iterates the sgd optimizer and displays a progress bar. For convenience, appending \\texttt{!} to the name of the function iterates and returns \\texttt{nothing}, i.e. \\texttt{sgd!(...)} is equivalent to \\texttt{(for x in sgd(...) end)}.\n",
       "\n",
       "We define optimizers as lazy iterators to have explicit control over them:\n",
       "\n",
       "\\begin{itemize}\n",
       "\\item To report progress use \\texttt{progress(sgd(f,d))}.\n",
       "\n",
       "\n",
       "\\item To run until convergence use \\texttt{converge(sgd(f,cycle(d)))}.\n",
       "\n",
       "\n",
       "\\item To run multiple epochs use \\texttt{sgd(f,repeat(d,n))}.\n",
       "\n",
       "\n",
       "\\item To run a given number of iterations use \\texttt{sgd(f,take(cycle(d),n))}.\n",
       "\n",
       "\n",
       "\\item To do a task every n iterations use \\texttt{(task() for (i,j) in enumerate(sgd(f,d)) if i\\%n == 1)}.\n",
       "\n",
       "\\end{itemize}\n",
       "These functions apply the same algorithm with the same configuration to every parameter by default. \\texttt{minimize} takes an explicit optimizer argument, all others call \\texttt{minimize} with an appropriate optimizer argument (see \\texttt{@doc update!} for a list of possible optimizers). Before calling \\href{@ref}{\\texttt{update!}} on a \\texttt{Param}, \\texttt{minimize} sets its \\texttt{opt} field to a copy of this default optimizer if it is not already set. The \\texttt{opt} field is used by the \\texttt{update!} function to determine the type of update performed on that parameter.  If you need finer grained control, you can set the optimizer of an individual \\texttt{Param} by setting its \\texttt{opt} field before calling one of these functions. They will not override the \\texttt{opt} field if it is already set, e.g. \\texttt{sgd(model,data)} will perform an \\texttt{Adam} update for a parameter whose \\texttt{opt} field is an \\texttt{Adam} object. This also means you can stop and start the training without losing optimization state, the first call will set the \\texttt{opt} fields and the subsequent calls will not override them.\n",
       "\n",
       "Given a parameter \\texttt{w} and its gradient \\texttt{g} here are the updates applied by each optimizer:\n",
       "\n",
       "\\begin{verbatim}\n",
       "# sgd (http://en.wikipedia.org/wiki/Stochastic_gradient_descent)\n",
       "w .= w - lr * g\n",
       "\n",
       "# momentum (http://jlmelville.github.io/mize/nesterov.html)\n",
       "v .= gamma * v - lr * g\n",
       "w .= w + v\n",
       "\n",
       "# nesterov (http://jlmelville.github.io/mize/nesterov.html)\n",
       "w .= w - gamma * v\n",
       "v .= gamma * v - lr * g\n",
       "w .= w + (1 + gamma) * v\n",
       "\n",
       "# adagrad (http://www.jmlr.org/papers/v12/duchi11a.html)\n",
       "G .= G + g .^ 2\n",
       "w .= w - lr * g ./ sqrt(G + eps)\n",
       "\n",
       "# rmsprop (http://www.cs.toronto.edu/~tijmen/csc321/slides/lecture_slides_lec6.pdf)\n",
       "G .= rho * G + (1-rho) * g .^ 2 \n",
       "w .= w - lr * g ./ sqrt(G + eps)\n",
       "\n",
       "# adadelta (http://arxiv.org/abs/1212.5701)\n",
       "G .= rho * G + (1-rho) * g .^ 2\n",
       "update = sqrt(delta + eps) .* g ./ sqrt(G + eps)\n",
       "w = w - lr * update\n",
       "delta = rho * delta + (1-rho) * update .^ 2\n",
       "\n",
       "# adam (http://arxiv.org/abs/1412.6980)\n",
       "v = beta1 * v + (1 - beta1) * g\n",
       "G = beta2 * G + (1 - beta2) * g .^ 2\n",
       "vhat = v ./ (1 - beta1 ^ t)\n",
       "Ghat = G ./ (1 - beta2 ^ t)\n",
       "w = w - (lr / (sqrt(Ghat) + eps)) * vhat\n",
       "\\end{verbatim}\n"
      ],
      "text/markdown": [
       "```\n",
       "minimize(func, data, optimizer=Adam(); params)\n",
       "sgd     (func, data; lr=0.1,  gclip, params)\n",
       "momentum(func, data; lr=0.05, gamma=0.95, gclip, params)\n",
       "nesterov(func, data; lr=0.05, gamma=0.95, gclip, params)\n",
       "adagrad (func, data; lr=0.05, eps=1e-6, gclip, params)\n",
       "rmsprop (func, data; lr=0.01, rho=0.9, eps=1e-6, gclip, params)\n",
       "adadelta(func, data; lr=1.0,  rho=0.9, eps=1e-6, gclip, params)\n",
       "adam    (func, data; lr=0.001, beta1=0.9, beta2=0.999, eps=1e-8, gclip, params)\n",
       "```\n",
       "\n",
       "Return an iterator which applies `func` to arguments in `data`, i.e.  `(func(args...) for args in data)`, and updates the parameters every iteration to minimize `func`.  `func` should return a scalar value.\n",
       "\n",
       "The common keyword argument `params` can be used to list the `Param`s to be optimized.  If not specified, any `Param` that takes part in the computation of `func(args...)` will be updated.\n",
       "\n",
       "The common keyword argument `gclip` can be used to implement per-parameter gradient clipping. For a parameter gradient `g`, if `norm(g) > gclip > 0`, `g` is scaled so that its norm is equal to `gclip`. If not specified no gradient clipping is performed.\n",
       "\n",
       "These functions do not perform optimization, but return an iterator that can. Any function that produces values from an iterator can be used with such an object, e.g. `progress!(sgd(f,d))` iterates the sgd optimizer and displays a progress bar. For convenience, appending `!` to the name of the function iterates and returns `nothing`, i.e. `sgd!(...)` is equivalent to `(for x in sgd(...) end)`.\n",
       "\n",
       "We define optimizers as lazy iterators to have explicit control over them:\n",
       "\n",
       "  * To report progress use `progress(sgd(f,d))`.\n",
       "  * To run until convergence use `converge(sgd(f,cycle(d)))`.\n",
       "  * To run multiple epochs use `sgd(f,repeat(d,n))`.\n",
       "  * To run a given number of iterations use `sgd(f,take(cycle(d),n))`.\n",
       "  * To do a task every n iterations use `(task() for (i,j) in enumerate(sgd(f,d)) if i%n == 1)`.\n",
       "\n",
       "These functions apply the same algorithm with the same configuration to every parameter by default. `minimize` takes an explicit optimizer argument, all others call `minimize` with an appropriate optimizer argument (see `@doc update!` for a list of possible optimizers). Before calling [`update!`](@ref) on a `Param`, `minimize` sets its `opt` field to a copy of this default optimizer if it is not already set. The `opt` field is used by the `update!` function to determine the type of update performed on that parameter.  If you need finer grained control, you can set the optimizer of an individual `Param` by setting its `opt` field before calling one of these functions. They will not override the `opt` field if it is already set, e.g. `sgd(model,data)` will perform an `Adam` update for a parameter whose `opt` field is an `Adam` object. This also means you can stop and start the training without losing optimization state, the first call will set the `opt` fields and the subsequent calls will not override them.\n",
       "\n",
       "Given a parameter `w` and its gradient `g` here are the updates applied by each optimizer:\n",
       "\n",
       "```\n",
       "# sgd (http://en.wikipedia.org/wiki/Stochastic_gradient_descent)\n",
       "w .= w - lr * g\n",
       "\n",
       "# momentum (http://jlmelville.github.io/mize/nesterov.html)\n",
       "v .= gamma * v - lr * g\n",
       "w .= w + v\n",
       "\n",
       "# nesterov (http://jlmelville.github.io/mize/nesterov.html)\n",
       "w .= w - gamma * v\n",
       "v .= gamma * v - lr * g\n",
       "w .= w + (1 + gamma) * v\n",
       "\n",
       "# adagrad (http://www.jmlr.org/papers/v12/duchi11a.html)\n",
       "G .= G + g .^ 2\n",
       "w .= w - lr * g ./ sqrt(G + eps)\n",
       "\n",
       "# rmsprop (http://www.cs.toronto.edu/~tijmen/csc321/slides/lecture_slides_lec6.pdf)\n",
       "G .= rho * G + (1-rho) * g .^ 2 \n",
       "w .= w - lr * g ./ sqrt(G + eps)\n",
       "\n",
       "# adadelta (http://arxiv.org/abs/1212.5701)\n",
       "G .= rho * G + (1-rho) * g .^ 2\n",
       "update = sqrt(delta + eps) .* g ./ sqrt(G + eps)\n",
       "w = w - lr * update\n",
       "delta = rho * delta + (1-rho) * update .^ 2\n",
       "\n",
       "# adam (http://arxiv.org/abs/1412.6980)\n",
       "v = beta1 * v + (1 - beta1) * g\n",
       "G = beta2 * G + (1 - beta2) * g .^ 2\n",
       "vhat = v ./ (1 - beta1 ^ t)\n",
       "Ghat = G ./ (1 - beta2 ^ t)\n",
       "w = w - (lr / (sqrt(Ghat) + eps)) * vhat\n",
       "```\n"
      ],
      "text/plain": [
       "\u001b[36m  minimize(func, data, optimizer=Adam(); params)\u001b[39m\n",
       "\u001b[36m  sgd     (func, data; lr=0.1,  gclip, params)\u001b[39m\n",
       "\u001b[36m  momentum(func, data; lr=0.05, gamma=0.95, gclip, params)\u001b[39m\n",
       "\u001b[36m  nesterov(func, data; lr=0.05, gamma=0.95, gclip, params)\u001b[39m\n",
       "\u001b[36m  adagrad (func, data; lr=0.05, eps=1e-6, gclip, params)\u001b[39m\n",
       "\u001b[36m  rmsprop (func, data; lr=0.01, rho=0.9, eps=1e-6, gclip, params)\u001b[39m\n",
       "\u001b[36m  adadelta(func, data; lr=1.0,  rho=0.9, eps=1e-6, gclip, params)\u001b[39m\n",
       "\u001b[36m  adam    (func, data; lr=0.001, beta1=0.9, beta2=0.999, eps=1e-8, gclip, params)\u001b[39m\n",
       "\n",
       "  Return an iterator which applies \u001b[36mfunc\u001b[39m to arguments in \u001b[36mdata\u001b[39m, i.e.\n",
       "  \u001b[36m(func(args...) for args in data)\u001b[39m, and updates the parameters every\n",
       "  iteration to minimize \u001b[36mfunc\u001b[39m. \u001b[36mfunc\u001b[39m should return a scalar value.\n",
       "\n",
       "  The common keyword argument \u001b[36mparams\u001b[39m can be used to list the \u001b[36mParam\u001b[39ms to\n",
       "  be optimized. If not specified, any \u001b[36mParam\u001b[39m that takes part in the\n",
       "  computation of \u001b[36mfunc(args...)\u001b[39m will be updated.\n",
       "\n",
       "  The common keyword argument \u001b[36mgclip\u001b[39m can be used to implement\n",
       "  per-parameter gradient clipping. For a parameter gradient \u001b[36mg\u001b[39m, if\n",
       "  \u001b[36mnorm(g) > gclip > 0\u001b[39m, \u001b[36mg\u001b[39m is scaled so that its norm is equal to \u001b[36mgclip\u001b[39m.\n",
       "  If not specified no gradient clipping is performed.\n",
       "\n",
       "  These functions do not perform optimization, but return an iterator\n",
       "  that can. Any function that produces values from an iterator can be\n",
       "  used with such an object, e.g. \u001b[36mprogress!(sgd(f,d))\u001b[39m iterates the sgd\n",
       "  optimizer and displays a progress bar. For convenience, appending \u001b[36m!\u001b[39m\n",
       "  to the name of the function iterates and returns \u001b[36mnothing\u001b[39m, i.e.\n",
       "  \u001b[36msgd!(...)\u001b[39m is equivalent to \u001b[36m(for x in sgd(...) end)\u001b[39m.\n",
       "\n",
       "  We define optimizers as lazy iterators to have explicit control over\n",
       "  them:\n",
       "\n",
       "    •    To report progress use \u001b[36mprogress(sgd(f,d))\u001b[39m.\n",
       "\n",
       "    •    To run until convergence use \u001b[36mconverge(sgd(f,cycle(d)))\u001b[39m.\n",
       "\n",
       "    •    To run multiple epochs use \u001b[36msgd(f,repeat(d,n))\u001b[39m.\n",
       "\n",
       "    •    To run a given number of iterations use\n",
       "        \u001b[36msgd(f,take(cycle(d),n))\u001b[39m.\n",
       "\n",
       "    •    To do a task every n iterations use \u001b[36m(task() for (i,j) in\n",
       "        enumerate(sgd(f,d)) if i%n == 1)\u001b[39m.\n",
       "\n",
       "  These functions apply the same algorithm with the same configuration\n",
       "  to every parameter by default. \u001b[36mminimize\u001b[39m takes an explicit optimizer\n",
       "  argument, all others call \u001b[36mminimize\u001b[39m with an appropriate optimizer\n",
       "  argument (see \u001b[36m@doc update!\u001b[39m for a list of possible optimizers).\n",
       "  Before calling \u001b[36mupdate!\u001b[39m on a \u001b[36mParam\u001b[39m, \u001b[36mminimize\u001b[39m sets its \u001b[36mopt\u001b[39m field to a\n",
       "  copy of this default optimizer if it is not already set. The \u001b[36mopt\u001b[39m\n",
       "  field is used by the \u001b[36mupdate!\u001b[39m function to determine the type of\n",
       "  update performed on that parameter. If you need finer grained\n",
       "  control, you can set the optimizer of an individual \u001b[36mParam\u001b[39m by setting\n",
       "  its \u001b[36mopt\u001b[39m field before calling one of these functions. They will not\n",
       "  override the \u001b[36mopt\u001b[39m field if it is already set, e.g. \u001b[36msgd(model,data)\u001b[39m\n",
       "  will perform an \u001b[36mAdam\u001b[39m update for a parameter whose \u001b[36mopt\u001b[39m field is an\n",
       "  \u001b[36mAdam\u001b[39m object. This also means you can stop and start the training\n",
       "  without losing optimization state, the first call will set the \u001b[36mopt\u001b[39m\n",
       "  fields and the subsequent calls will not override them.\n",
       "\n",
       "  Given a parameter \u001b[36mw\u001b[39m and its gradient \u001b[36mg\u001b[39m here are the updates applied\n",
       "  by each optimizer:\n",
       "\n",
       "\u001b[36m  # sgd (http://en.wikipedia.org/wiki/Stochastic_gradient_descent)\u001b[39m\n",
       "\u001b[36m  w .= w - lr * g\u001b[39m\n",
       "\u001b[36m  \u001b[39m\n",
       "\u001b[36m  # momentum (http://jlmelville.github.io/mize/nesterov.html)\u001b[39m\n",
       "\u001b[36m  v .= gamma * v - lr * g\u001b[39m\n",
       "\u001b[36m  w .= w + v\u001b[39m\n",
       "\u001b[36m  \u001b[39m\n",
       "\u001b[36m  # nesterov (http://jlmelville.github.io/mize/nesterov.html)\u001b[39m\n",
       "\u001b[36m  w .= w - gamma * v\u001b[39m\n",
       "\u001b[36m  v .= gamma * v - lr * g\u001b[39m\n",
       "\u001b[36m  w .= w + (1 + gamma) * v\u001b[39m\n",
       "\u001b[36m  \u001b[39m\n",
       "\u001b[36m  # adagrad (http://www.jmlr.org/papers/v12/duchi11a.html)\u001b[39m\n",
       "\u001b[36m  G .= G + g .^ 2\u001b[39m\n",
       "\u001b[36m  w .= w - lr * g ./ sqrt(G + eps)\u001b[39m\n",
       "\u001b[36m  \u001b[39m\n",
       "\u001b[36m  # rmsprop (http://www.cs.toronto.edu/~tijmen/csc321/slides/lecture_slides_lec6.pdf)\u001b[39m\n",
       "\u001b[36m  G .= rho * G + (1-rho) * g .^ 2 \u001b[39m\n",
       "\u001b[36m  w .= w - lr * g ./ sqrt(G + eps)\u001b[39m\n",
       "\u001b[36m  \u001b[39m\n",
       "\u001b[36m  # adadelta (http://arxiv.org/abs/1212.5701)\u001b[39m\n",
       "\u001b[36m  G .= rho * G + (1-rho) * g .^ 2\u001b[39m\n",
       "\u001b[36m  update = sqrt(delta + eps) .* g ./ sqrt(G + eps)\u001b[39m\n",
       "\u001b[36m  w = w - lr * update\u001b[39m\n",
       "\u001b[36m  delta = rho * delta + (1-rho) * update .^ 2\u001b[39m\n",
       "\u001b[36m  \u001b[39m\n",
       "\u001b[36m  # adam (http://arxiv.org/abs/1412.6980)\u001b[39m\n",
       "\u001b[36m  v = beta1 * v + (1 - beta1) * g\u001b[39m\n",
       "\u001b[36m  G = beta2 * G + (1 - beta2) * g .^ 2\u001b[39m\n",
       "\u001b[36m  vhat = v ./ (1 - beta1 ^ t)\u001b[39m\n",
       "\u001b[36m  Ghat = G ./ (1 - beta2 ^ t)\u001b[39m\n",
       "\u001b[36m  w = w - (lr / (sqrt(Ghat) + eps)) * vhat\u001b[39m"
      ]
     },
     "execution_count": 43,
     "metadata": {},
     "output_type": "execute_result"
    }
   ],
   "source": [
    "@doc sgd"
   ]
  },
  {
   "cell_type": "code",
   "execution_count": 26,
   "metadata": {},
   "outputs": [
    {
     "data": {
      "text/plain": [
       "12-element Array{String,1}:\n",
       " \"21.04.19\"          \n",
       " \"CNNModel.ipynb\"    \n",
       " \"Dataset.ipynb\"     \n",
       " \"Deep (1).ipynb\"    \n",
       " \"DeepCNNMOdel.ipynb\"\n",
       " \"datax.jld2\"        \n",
       " \"datay.jld2\"        \n",
       " \"dtrn.jld2\"         \n",
       " \"dtst.jld2\"         \n",
       " \"lenet1.jld2\"       \n",
       " \"lenet1last.jld2\"   \n",
       " \"lenet1last2.jld2\"  "
      ]
     },
     "execution_count": 26,
     "metadata": {},
     "output_type": "execute_result"
    }
   ],
   "source": [
    "cd()\n",
    "cd(readdir, \"Desktop/DeepProject\")"
   ]
  },
  {
   "cell_type": "code",
   "execution_count": 27,
   "metadata": {},
   "outputs": [
    {
     "data": {
      "text/plain": [
       "Chain((Conv0(P(KnetArray{Float32,4}(3,3,3,64)), P(KnetArray{Float32,4}(1,1,64,1)), Knet.relu, 0), Conv1(P(KnetArray{Float32,4}(3,3,64,128)), P(KnetArray{Float32,4}(1,1,128,1)), Knet.relu, 0), Conv1(P(KnetArray{Float32,4}(3,3,128,256)), P(KnetArray{Float32,4}(1,1,256,1)), Knet.relu, 0), Conv1(P(KnetArray{Float32,4}(3,3,256,256)), P(KnetArray{Float32,4}(1,1,256,1)), Knet.relu, 0), Conv1(P(KnetArray{Float32,4}(3,3,256,512)), P(KnetArray{Float32,4}(1,1,512,1)), Knet.relu, 0), Conv3(P(KnetArray{Float32,4}(2,2,512,512)), P(KnetArray{Float32,4}(1,1,512,1)), Knet.relu, 0)))"
      ]
     },
     "execution_count": 27,
     "metadata": {},
     "output_type": "execute_result"
    }
   ],
   "source": [
    "cd(\"Desktop/DeepProject\")\n",
    "CC=Knet.load(\"lenet1last2.jld2\",\"b\")"
   ]
  },
  {
   "cell_type": "code",
   "execution_count": 28,
   "metadata": {},
   "outputs": [
    {
     "data": {
      "text/plain": [
       "P(KnetArray{Float32,4}(3,3,3,64))"
      ]
     },
     "execution_count": 28,
     "metadata": {},
     "output_type": "execute_result"
    }
   ],
   "source": [
    "CC.layers[1].w"
   ]
  },
  {
   "cell_type": "code",
   "execution_count": 9,
   "metadata": {},
   "outputs": [],
   "source": [
    "gg=convert(Array{Float32,4},CC.layers[1].w);"
   ]
  },
  {
   "cell_type": "code",
   "execution_count": 16,
   "metadata": {},
   "outputs": [
    {
     "data": {
      "text/plain": [
       "crossent (generic function with 1 method)"
      ]
     },
     "execution_count": 16,
     "metadata": {},
     "output_type": "execute_result"
    }
   ],
   "source": [
    "function crossent(scores, y)\n",
    "   logscores = log.(scores)\n",
    "    answerprobs = (logscores[y[i],i] for i in 1:length(y))\n",
    "-mean(answerprobs)\n",
    "end"
   ]
  },
  {
   "cell_type": "code",
   "execution_count": 52,
   "metadata": {},
   "outputs": [],
   "source": [
    "# Let's define a chain of layers\n",
    "struct Chain\n",
    "    layers\n",
    "    Chain(layers...) = new(layers)\n",
    "end\n",
    "(c::Chain)(x) = (for l in c.layers; x = l(x); end; x)\n",
    "(c::Chain)(x,y) = nll(c(x),y)\n",
    "(c::Chain)(d::Data) = mean(c(x,y) for (x,y) in d)"
   ]
  },
  {
   "cell_type": "code",
   "execution_count": 18,
   "metadata": {},
   "outputs": [
    {
     "data": {
      "text/plain": [
       "Conv"
      ]
     },
     "execution_count": 18,
     "metadata": {},
     "output_type": "execute_result"
    }
   ],
   "source": [
    "# Define a convolutional layer:\n",
    "struct Conv; w; b; f; p; end\n",
    "(c::Conv)(x) = c.f.(pool(conv4(c.w, dropout(x,c.p)) .+ c.b))\n",
    "Conv(w ,b,f=relu;pdrop=0) = Conv(w,b, f, pdrop)"
   ]
  },
  {
   "cell_type": "code",
   "execution_count": 19,
   "metadata": {},
   "outputs": [
    {
     "data": {
      "text/plain": [
       "Conv0"
      ]
     },
     "execution_count": 19,
     "metadata": {},
     "output_type": "execute_result"
    }
   ],
   "source": [
    "# Define a convolutional layer:\n",
    "struct Conv0; w; b; f; p; end\n",
    "(c::Conv0)(x) = c.f.(pool(conv4(c.w, dropout(x,c.p);padding=1).+ c.b;window=3,stride=2))\n",
    "Conv0(w ,b,f=relu;pdrop=0) = Conv0(w ,b,f, pdrop)"
   ]
  },
  {
   "cell_type": "code",
   "execution_count": 42,
   "metadata": {},
   "outputs": [
    {
     "data": {
      "text/plain": [
       "Conv02"
      ]
     },
     "execution_count": 42,
     "metadata": {},
     "output_type": "execute_result"
    }
   ],
   "source": [
    "# Define a convolutional layer:\n",
    "struct Conv02; w; b; f; p; end\n",
    "(c::Conv02)(x) = c.f.(pool(conv4(c.w, dropout(x,c.p);padding=1).+ c.b;window=3,stride=2))\n",
    "Conv02(w1::Int,w2::Int,cx::Int,cy::Int,f=relu;pdrop=0) = Conv02(paramd1(w1,w2,cx,cy), param0(1,1,cy,1), f, pdrop)"
   ]
  },
  {
   "cell_type": "code",
   "execution_count": 20,
   "metadata": {},
   "outputs": [
    {
     "data": {
      "text/plain": [
       "Conv1"
      ]
     },
     "execution_count": 20,
     "metadata": {},
     "output_type": "execute_result"
    }
   ],
   "source": [
    "# Define a convolutional layer:\n",
    "struct Conv1; w; b; f; p; end\n",
    "(c::Conv1)(x) = c.f.(pool(conv4(c.w, dropout(x,c.p);padding=1).+ c.b;window=3,stride=2))\n",
    "Conv1(w ,b,f=relu;pdrop=0) = Conv1(w ,b, f, pdrop)"
   ]
  },
  {
   "cell_type": "code",
   "execution_count": 43,
   "metadata": {},
   "outputs": [
    {
     "data": {
      "text/plain": [
       "Conv12"
      ]
     },
     "execution_count": 43,
     "metadata": {},
     "output_type": "execute_result"
    }
   ],
   "source": [
    "# Define a convolutional layer:\n",
    "struct Conv12; w; b; f; p; end\n",
    "(c::Conv12)(x) = c.f.(pool(conv4(c.w, dropout(x,c.p);padding=1).+ c.b;window=3,stride=2))\n",
    "Conv12(w1::Int,w2::Int,cx::Int,cy::Int,f=relu;pdrop=0) = Conv12(paramd1(w1,w2,cx,cy), param1(1,1,cy,1), f, pdrop)"
   ]
  },
  {
   "cell_type": "code",
   "execution_count": 21,
   "metadata": {},
   "outputs": [
    {
     "data": {
      "text/plain": [
       "Conv2"
      ]
     },
     "execution_count": 21,
     "metadata": {},
     "output_type": "execute_result"
    }
   ],
   "source": [
    "\n",
    "struct Conv2; w; b; f; p; end\n",
    "(c::Conv2)(x) = c.f.(conv4(c.w, dropout(x,c.p);padding=0))\n",
    "Conv2(w ,b,f=relu;pdrop=0) = Conv2(w ,b, f, pdrop)"
   ]
  },
  {
   "cell_type": "code",
   "execution_count": 44,
   "metadata": {},
   "outputs": [
    {
     "data": {
      "text/plain": [
       "Conv22"
      ]
     },
     "execution_count": 44,
     "metadata": {},
     "output_type": "execute_result"
    }
   ],
   "source": [
    "\n",
    "struct Conv22; w; b; f; p; end\n",
    "(c::Conv22)(x) = c.f.(conv4(c.w, dropout(x,c.p);padding=0))\n",
    "Conv22(w1::Int,w2::Int,cx::Int,cy::Int,f=relu;pdrop=0) = Conv22(paramd1(w1,w2,cx,cy), param1(1,1,cy,1), f, pdrop)"
   ]
  },
  {
   "cell_type": "code",
   "execution_count": 22,
   "metadata": {},
   "outputs": [
    {
     "data": {
      "text/plain": [
       "Conv3"
      ]
     },
     "execution_count": 22,
     "metadata": {},
     "output_type": "execute_result"
    }
   ],
   "source": [
    "struct Conv3; w; b; f; p; end\n",
    "(c::Conv3)(x) = c.f.(conv4(c.w, dropout(x,c.p);padding=1))\n",
    "Conv3(w ,b,f=relu;pdrop=0) = Conv3(w ,b,f, pdrop)"
   ]
  },
  {
   "cell_type": "code",
   "execution_count": 45,
   "metadata": {},
   "outputs": [
    {
     "data": {
      "text/plain": [
       "Conv32"
      ]
     },
     "execution_count": 45,
     "metadata": {},
     "output_type": "execute_result"
    }
   ],
   "source": [
    "struct Conv32; w; b; f; p; end\n",
    "(c::Conv32)(x) = c.f.(conv4(c.w, dropout(x,c.p);padding=1))\n",
    "Conv32(w1::Int,w2::Int,cx::Int,cy::Int,f=relu;pdrop=0) = Conv32(paramd1(w1,w2,cx,cy), param1(1,1,cy,1), f, pdrop)"
   ]
  },
  {
   "cell_type": "code",
   "execution_count": 62,
   "metadata": {},
   "outputs": [
    {
     "data": {
      "text/plain": [
       "Dense"
      ]
     },
     "execution_count": 62,
     "metadata": {},
     "output_type": "execute_result"
    }
   ],
   "source": [
    "struct Dense; w; b; f; p; end\n",
    "(d::Dense)(x) = d.f.(d.w * mat(dropout(x,d.p)) .+ d.b) # mat reshapes 4-D tensor to 2-D matrix so we can use matmul\n",
    "Dense(i::Int,o::Int,f=relu;pdrop=0) = Dense(param(o,i), param0(o), f, pdrop)"
   ]
  },
  {
   "cell_type": "code",
   "execution_count": 24,
   "metadata": {},
   "outputs": [
    {
     "data": {
      "text/plain": [
       "Dense0"
      ]
     },
     "execution_count": 24,
     "metadata": {},
     "output_type": "execute_result"
    }
   ],
   "source": [
    "# Redefine dense layer (See mlp.ipynb):\n",
    "struct Dense0; w; b; f; p; end\n",
    "(d::Dense0)(x) = d.f.(d.w * mat(dropout(x,d.p)) .+ d.b) # mat reshapes 4-D tensor to 2-D matrix so we can use matmul\n",
    "Dense0(i::Int,o::Int,f=relu;pdrop=0.5) = Dense0(paramd2(o,i), param1(o), f, pdrop)"
   ]
  },
  {
   "cell_type": "code",
   "execution_count": 25,
   "metadata": {},
   "outputs": [
    {
     "data": {
      "text/plain": [
       "Dense1"
      ]
     },
     "execution_count": 25,
     "metadata": {},
     "output_type": "execute_result"
    }
   ],
   "source": [
    "# Redefine dense layer (See mlp.ipynb):\n",
    "struct Dense1; w; b; f; p; end\n",
    "(d::Dense1)(x) = d.f.(d.w * mat(dropout(x,d.p)) .+ d.b) # mat reshapes 4-D tensor to 2-D matrix so we can use matmul\n",
    "Dense1(i::Int,o::Int,f=relu;pdrop=0.5) = Dense1(paramd1(o,i), param0(o), f, pdrop)"
   ]
  },
  {
   "cell_type": "code",
   "execution_count": 66,
   "metadata": {},
   "outputs": [
    {
     "data": {
      "text/latex": [
       "\\begin{verbatim}\n",
       "identity(x)\n",
       "\\end{verbatim}\n",
       "The identity function. Returns its argument.\n",
       "\n",
       "\\section{Examples}\n",
       "\\begin{verbatim}\n",
       "julia> identity(\"Well, what did you expect?\")\n",
       "\"Well, what did you expect?\"\n",
       "\\end{verbatim}\n"
      ],
      "text/markdown": [
       "```\n",
       "identity(x)\n",
       "```\n",
       "\n",
       "The identity function. Returns its argument.\n",
       "\n",
       "# Examples\n",
       "\n",
       "```jldoctest\n",
       "julia> identity(\"Well, what did you expect?\")\n",
       "\"Well, what did you expect?\"\n",
       "```\n"
      ],
      "text/plain": [
       "\u001b[36m  identity(x)\u001b[39m\n",
       "\n",
       "  The identity function. Returns its argument.\n",
       "\n",
       "\u001b[1m  Examples\u001b[22m\n",
       "\u001b[1m  ≡≡≡≡≡≡≡≡≡≡\u001b[22m\n",
       "\n",
       "\u001b[36m  julia> identity(\"Well, what did you expect?\")\u001b[39m\n",
       "\u001b[36m  \"Well, what did you expect?\"\u001b[39m"
      ]
     },
     "execution_count": 66,
     "metadata": {},
     "output_type": "execute_result"
    }
   ],
   "source": [
    "@doc identity"
   ]
  },
  {
   "cell_type": "code",
   "execution_count": 83,
   "metadata": {},
   "outputs": [
    {
     "data": {
      "text/plain": [
       "8-element Array{String,1}:\n",
       " \"3×3×3×64 Param{KnetArray{Float32,4}}\"   \n",
       " \"3×3×64×128 Param{KnetArray{Float32,4}}\" \n",
       " \"3×3×128×256 Param{KnetArray{Float32,4}}\"\n",
       " \"3×3×256×256 Param{KnetArray{Float32,4}}\"\n",
       " \"3×3×256×512 Param{KnetArray{Float32,4}}\"\n",
       " \"2×2×512×512 Param{KnetArray{Float32,4}}\"\n",
       " \"256×25088 Param{KnetArray{Float32,2}}\"  \n",
       " \"6×256 Param{KnetArray{Float32,2}}\"      "
      ]
     },
     "execution_count": 83,
     "metadata": {},
     "output_type": "execute_result"
    }
   ],
   "source": [
    "lenet2 =   Chain(Conv02(3,3,3,64),\n",
    "                 Conv12(3,3,64,128),\n",
    "                 Conv12(3,3,128,256),\n",
    "                Conv12(3,3,256,256),\n",
    "                Conv12(3,3,256,512),\n",
    "                Conv32(2,2,512,512),\n",
    "                 Dense(7*7*512,256,pdrop=0.5),\n",
    "                    Dense(256,6))\n",
    "summary.(l.w for l in lenet1.layers)"
   ]
  },
  {
   "cell_type": "code",
   "execution_count": 86,
   "metadata": {},
   "outputs": [
    {
     "data": {
      "text/plain": [
       "6.159791f0"
      ]
     },
     "execution_count": 86,
     "metadata": {},
     "output_type": "execute_result"
    }
   ],
   "source": [
    "lenet1(x1,y1)"
   ]
  },
  {
   "cell_type": "code",
   "execution_count": 69,
   "metadata": {},
   "outputs": [
    {
     "data": {
      "text/plain": [
       "Inf32"
      ]
     },
     "execution_count": 69,
     "metadata": {},
     "output_type": "execute_result"
    }
   ],
   "source": [
    "crossent(lenet2(x1),y1)"
   ]
  },
  {
   "cell_type": "code",
   "execution_count": 101,
   "metadata": {},
   "outputs": [
    {
     "data": {
      "text/plain": [
       "0.8333333333333334"
      ]
     },
     "execution_count": 101,
     "metadata": {},
     "output_type": "execute_result"
    }
   ],
   "source": [
    "5/6"
   ]
  },
  {
   "cell_type": "code",
   "execution_count": null,
   "metadata": {},
   "outputs": [],
   "source": [
    " \n",
    "    answerprobs = (logscores[y[i],i] for i in 1:length(y))\n",
    "-mean(answerprobs)"
   ]
  },
  {
   "cell_type": "code",
   "execution_count": 97,
   "metadata": {},
   "outputs": [
    {
     "data": {
      "text/plain": [
       "8-element Array{String,1}:\n",
       " \"3×3×3×64 Param{KnetArray{Float32,4}}\"   \n",
       " \"3×3×64×128 Param{KnetArray{Float32,4}}\" \n",
       " \"3×3×128×256 Param{KnetArray{Float32,4}}\"\n",
       " \"3×3×256×256 Param{KnetArray{Float32,4}}\"\n",
       " \"3×3×256×512 Param{KnetArray{Float32,4}}\"\n",
       " \"2×2×512×512 Param{KnetArray{Float32,4}}\"\n",
       " \"256×25088 Param{KnetArray{Float32,2}}\"  \n",
       " \"6×256 Param{KnetArray{Float32,2}}\"      "
      ]
     },
     "execution_count": 97,
     "metadata": {},
     "output_type": "execute_result"
    }
   ],
   "source": [
    "lenet1 =   Chain(Conv0(CC.layers[1].w,CC.layers[1].b),\n",
    "                 Conv1(CC.layers[2].w,CC.layers[2].b),\n",
    "                 Conv1(CC.layers[3].w,CC.layers[3].b),\n",
    "                Conv1(CC.layers[4].w,CC.layers[4].b),\n",
    "                Conv1(CC.layers[5].w,CC.layers[5].b),\n",
    "                Conv3(CC.layers[6].w,CC.layers[6].b),\n",
    "                 Dense(7*7*512,256,pdrop=0.5),\n",
    "                    Dense(256,6))\n",
    "summary.(l.w for l in lenet1.layers)"
   ]
  },
  {
   "cell_type": "code",
   "execution_count": 93,
   "metadata": {},
   "outputs": [
    {
     "data": {
      "text/plain": [
       "5.093852f0"
      ]
     },
     "execution_count": 93,
     "metadata": {},
     "output_type": "execute_result"
    }
   ],
   "source": [
    "lenet1(dtst)"
   ]
  },
  {
   "cell_type": "code",
   "execution_count": 98,
   "metadata": {},
   "outputs": [
    {
     "name": "stdout",
     "output_type": "stream",
     "text": [
      "1.80e+00  100.00%┣████████████████████▉┫ 2000/2000 [05:28/05:28, 6.09i/s]\n",
      "done"
     ]
    }
   ],
   "source": [
    "cnn2 = trainresults(\"cnn2.jld2\", lenet1);"
   ]
  },
  {
   "cell_type": "code",
   "execution_count": 74,
   "metadata": {},
   "outputs": [
    {
     "data": {
      "text/plain": [
       "10-element Array{Float32,1}:\n",
       " 344598.38     \n",
       "      1.8017166\n",
       "      1.7917595\n",
       "      1.7917595\n",
       "      1.7917595\n",
       "      1.7917595\n",
       "      1.7917595\n",
       "      1.7917597\n",
       "      1.7917595\n",
       "      1.7917597"
      ]
     },
     "execution_count": 74,
     "metadata": {},
     "output_type": "execute_result"
    }
   ],
   "source": [
    "cnn2[1,:]"
   ]
  },
  {
   "cell_type": "code",
   "execution_count": 99,
   "metadata": {},
   "outputs": [
    {
     "data": {
      "image/png": "[encoded data removed]"
     },
     "execution_count": 99,
     "metadata": {},
     "output_type": "execute_result"
    }
   ],
   "source": [
    "plot([cnn2[1,:], cnn2[2,:]],\n",
    "     labels=[:trnCNN2 :tstCNN2],xlabel=\"Epochs\",ylabel=\"Loss\")"
   ]
  },
  {
   "cell_type": "code",
   "execution_count": 100,
   "metadata": {},
   "outputs": [
    {
     "data": {
      "image/png": "[encoded data removed]"
     },
     "execution_count": 100,
     "metadata": {},
     "output_type": "execute_result"
    }
   ],
   "source": [
    "plot([cnn2[3,:], cnn2[4,:]],\n",
    "     labels=[:trnCNN2 :tstCNN2],xlabel=\"Epochs\",ylabel=\"Error\")"
   ]
  },
  {
   "cell_type": "code",
   "execution_count": 29,
   "metadata": {},
   "outputs": [],
   "source": [
    "cd()\n",
    "cd(\"Desktop/DeepProject\")\n",
    "save(\"lenet1last.jld2\",\"b\",lenet1)"
   ]
  },
  {
   "cell_type": "code",
   "execution_count": 80,
   "metadata": {},
   "outputs": [],
   "source": [
    "convert(Array{Float32,4},lenet1.layers[1].w);"
   ]
  }
 ],
 "metadata": {
  "kernelspec": {
   "display_name": "Julia 1.1.0",
   "language": "julia",
   "name": "julia-1.1"
  },
  "language_info": {
   "file_extension": ".jl",
   "mimetype": "application/julia",
   "name": "julia",
   "version": "1.1.0"
  }
 },
 "nbformat": 4,
 "nbformat_minor": 2
}
