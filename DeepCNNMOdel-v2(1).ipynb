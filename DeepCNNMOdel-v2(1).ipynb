{
 "cells": [
  {
   "cell_type": "code",
   "execution_count": 1,
   "metadata": {},
   "outputs": [],
   "source": [
    "# Set display width, load packages, import symbols\n",
    "ENV[\"COLUMNS\"]=72\n",
    "using Pkg; for p in (\"Knet\",\"Plots\",\"Images\"); haskey(Pkg.installed(),p) || Pkg.add(p); end\n",
    "using Knet: Knet, dir,sigm , zeroone, progress, sgd, load, save, gc, Param, KnetArray, gpu, Data, nll, training, dropout,conv4, pool, mat, nll, zeroone,\n",
    "progress, sgd, param, param0, dropout, relu, Data,sigm, Adam, minibatch, cycle# param, param0, xavier\n",
    "using Statistics: mean\n",
    "using Base.Iterators: flatten\n",
    "import .Iterators: cycle, Cycle, take\n",
    "using Plots; default(fmt=:png,ls=:auto)\n",
    "using Statistics\n",
    "using Random\n",
    "import Knet.param0\n",
    "import Knet.param\n",
    "import Knet.xavier\n",
    "using Knet, Luxor, Plots,Printf"
   ]
  },
  {
   "cell_type": "code",
   "execution_count": 2,
   "metadata": {},
   "outputs": [
    {
     "name": "stdout",
     "output_type": "stream",
     "text": [
      "\u001b[32m\u001b[1m    Status\u001b[22m\u001b[39m `~/.julia/environments/v1.1/Project.toml`\n",
      " \u001b[90m [5ae59095]\u001b[39m\u001b[37m Colors v0.9.5\u001b[39m\n",
      " \u001b[90m [5789e2e9]\u001b[39m\u001b[37m FileIO v1.0.6\u001b[39m\n",
      " \u001b[90m [7073ff75]\u001b[39m\u001b[37m IJulia v1.18.0\u001b[39m\n",
      " \u001b[90m [6218d12a]\u001b[39m\u001b[37m ImageMagick v0.7.1\u001b[39m\n",
      " \u001b[90m [916415d5]\u001b[39m\u001b[37m Images v0.17.3\u001b[39m\n",
      " \u001b[90m [033835bb]\u001b[39m\u001b[37m JLD2 v0.1.2\u001b[39m\n",
      " \u001b[90m [682c06a0]\u001b[39m\u001b[37m JSON v0.20.0\u001b[39m\n",
      " \u001b[90m [1902f260]\u001b[39m\u001b[37m Knet v1.2.1\u001b[39m\n",
      " \u001b[90m [ae8d54c2]\u001b[39m\u001b[37m Luxor v1.2.0\u001b[39m\n",
      " \u001b[90m [23992714]\u001b[39m\u001b[37m MAT v0.5.0\u001b[39m\n",
      " \u001b[90m [91a5bcdd]\u001b[39m\u001b[37m Plots v0.24.0\u001b[39m\n",
      " \u001b[90m [438e738f]\u001b[39m\u001b[37m PyCall v1.91.1\u001b[39m\n"
     ]
    }
   ],
   "source": [
    "Pkg.status()"
   ]
  },
  {
   "cell_type": "code",
   "execution_count": 3,
   "metadata": {},
   "outputs": [
    {
     "data": {
      "text/plain": [
       "0.052109734951241424"
      ]
     },
     "execution_count": 3,
     "metadata": {},
     "output_type": "execute_result"
    }
   ],
   "source": [
    "std(gaussian(5,3; std=0.05))"
   ]
  },
  {
   "cell_type": "code",
   "execution_count": 2,
   "metadata": {},
   "outputs": [],
   "source": [
    "using Images, Colors"
   ]
  },
  {
   "cell_type": "code",
   "execution_count": 3,
   "metadata": {},
   "outputs": [
    {
     "data": {
      "text/plain": [
       "atype (generic function with 1 method)"
      ]
     },
     "execution_count": 3,
     "metadata": {},
     "output_type": "execute_result"
    }
   ],
   "source": [
    "# Some utilities to make model definitions easier:\n",
    "param(d...; init=xavier, atype=atype())=Param(atype(init(d...)))\n",
    "paramd1(d...; init=gaussian, atype=atype())=Param(atype(init(d...)))\n",
    "paramd2(d...; init=gaussian, atype=atype())=Param(atype(init(d...;std=0.005)))\n",
    "param0(d...; atype=atype())=param(d...; init=zeros, atype=atype)\n",
    "param1(d...; atype=atype())=param(d...; init=ones, atype=atype)\n",
    "xavier(o,i) = (s = sqrt(2/(i+o)); 2s .* rand(o,i) .- s)\n",
    "atype()=(gpu() >= 0 ? KnetArray{Float32} : Array{Float32})"
   ]
  },
  {
   "cell_type": "code",
   "execution_count": 4,
   "metadata": {},
   "outputs": [
    {
     "data": {
      "text/plain": [
       "\"224×224×3×1440 Array{Float64,4}\""
      ]
     },
     "execution_count": 4,
     "metadata": {},
     "output_type": "execute_result"
    }
   ],
   "source": [
    "cd()\n",
    "cd(\"Desktop/DeepProject/21.04.19\")\n",
    "X=load(\"datax2.jld2\",\"a\");\n",
    "Y=load(\"datay.jld2\",\"b\");\n",
    "Z=load(\"dataz.jld2\",\"c\");\n",
    "summary(X)"
   ]
  },
  {
   "cell_type": "code",
   "execution_count": 5,
   "metadata": {},
   "outputs": [
    {
     "data": {
      "text/plain": [
       "\"7×7×512×1440 Array{Float32,4}\""
      ]
     },
     "execution_count": 5,
     "metadata": {},
     "output_type": "execute_result"
    }
   ],
   "source": [
    "ind=randperm(size(Y,1));\n",
    "Ynew=Y[ind,1];\n",
    "Xnew=X[:,:,:,ind];\n",
    "Znew=Z[:,:,:,ind];\n",
    "summary(Znew)"
   ]
  },
  {
   "cell_type": "code",
   "execution_count": 13,
   "metadata": {},
   "outputs": [
    {
     "data": {
      "text/plain": [
       "0.9"
      ]
     },
     "execution_count": 13,
     "metadata": {},
     "output_type": "execute_result"
    }
   ],
   "source": [
    "1296/1440"
   ]
  },
  {
   "cell_type": "code",
   "execution_count": 6,
   "metadata": {},
   "outputs": [
    {
     "data": {
      "text/plain": [
       "\"224×224×3×1296 Array{Float64,4}\""
      ]
     },
     "execution_count": 6,
     "metadata": {},
     "output_type": "execute_result"
    }
   ],
   "source": [
    "Xdtrn=Xnew[:,:,:,1:1296]\n",
    "Ydtrn=Ynew[1:1296];\n",
    "Zdtrn=Znew[:,:,:,1:1296]\n",
    "summary(Xdtrn)"
   ]
  },
  {
   "cell_type": "code",
   "execution_count": 7,
   "metadata": {},
   "outputs": [
    {
     "data": {
      "text/plain": [
       "Data{Tuple{KnetArray{Float32,4},KnetArray{Float32,4}}}([0.27451 0.796078 … 0.407843 0.698039; 0.270588 0.796078 … 0.396078 0.694118; … ; 0.478431 0.4 … 0.192157 0.129412; 0.498039 0.372549 … 0.192157 0.12549], Float32[14.4002 0.0 … 8.30414 9.88001; 0.0 0.0 … 0.151525 10.3678; … ; 0.0 0.0 … 0.0 0.0; 0.0 0.0 … 0.0 0.0], 32, 1296, false, 1265, 1:1296, false, (224, 224, 3, 32), (7, 7, 512, 1296), KnetArray{Float32,N} where N, KnetArray{Float32,N} where N)"
      ]
     },
     "execution_count": 7,
     "metadata": {},
     "output_type": "execute_result"
    }
   ],
   "source": [
    "dtrn=minibatch(Xdtrn,Zdtrn,32;xsize=(224,224,3,32),xtype=atype(),ytype=atype())"
   ]
  },
  {
   "cell_type": "code",
   "execution_count": 8,
   "metadata": {},
   "outputs": [
    {
     "name": "stdout",
     "output_type": "stream",
     "text": [
      "224×224×3×32 KnetArray{Float32,4}\n",
      "7×7×512×32 KnetArray{Float32,4}\n"
     ]
    }
   ],
   "source": [
    "(x,y) = first(dtrn)\n",
    "println.(summary.((x,y)));"
   ]
  },
  {
   "cell_type": "code",
   "execution_count": 9,
   "metadata": {},
   "outputs": [],
   "source": [
    "Xtst=Xnew[:,:,:,1297:1440];\n",
    "Ytst=Ynew[1297:1440];\n",
    "Ztst=Znew[:,:,:,1297:1440];"
   ]
  },
  {
   "cell_type": "code",
   "execution_count": 10,
   "metadata": {},
   "outputs": [
    {
     "data": {
      "text/plain": [
       "Data{Tuple{KnetArray{Float32,4},KnetArray{Float32,4}}}([0.54902 0.886275 … 0.65098 0.666667; 0.545098 0.894118 … 0.654902 0.654902; … ; 0.521569 0.627451 … 0.470588 0.478431; 0.529412 0.635294 … 0.458824 0.470588], Float32[0.0 5.11417 … 0.0 0.226084; 0.0 4.94547 … 10.7661 15.6079; … ; 0.0 0.0 … 0.0 0.0; 0.0 0.0 … 0.0 0.0], 32, 144, false, 113, 1:144, false, (224, 224, 3, 32), (7, 7, 512, 144), KnetArray{Float32,N} where N, KnetArray{Float32,N} where N)"
      ]
     },
     "execution_count": 10,
     "metadata": {},
     "output_type": "execute_result"
    }
   ],
   "source": [
    "dtst=minibatch(Xtst,Ztst,32;xsize=(224,224,3,32),xtype=atype(),ytype=atype())"
   ]
  },
  {
   "cell_type": "code",
   "execution_count": 11,
   "metadata": {},
   "outputs": [
    {
     "name": "stdout",
     "output_type": "stream",
     "text": [
      "224×224×3×32 KnetArray{Float32,4}\n",
      "7×7×512×32 KnetArray{Float32,4}\n"
     ]
    }
   ],
   "source": [
    "(x1,y1) = first(dtst)\n",
    "println.(summary.((x1,y1)));\n"
   ]
  },
  {
   "cell_type": "code",
   "execution_count": 12,
   "metadata": {},
   "outputs": [
    {
     "data": {
      "text/plain": [
       "\"4-element Data{Tuple{KnetArray{Float32,4},KnetArray{Float32,4}}}\""
      ]
     },
     "execution_count": 12,
     "metadata": {},
     "output_type": "execute_result"
    }
   ],
   "source": [
    "summary(dtst)"
   ]
  },
  {
   "cell_type": "code",
   "execution_count": 13,
   "metadata": {},
   "outputs": [
    {
     "data": {
      "text/plain": [
       "trainresults (generic function with 1 method)"
      ]
     },
     "execution_count": 13,
     "metadata": {},
     "output_type": "execute_result"
    }
   ],
   "source": [
    "function trainresults(file,model; o...)\n",
    "   # if (print(\"Train from scratch? \"); readline()[1]=='y')\n",
    "        takeevery(n,itr) = (x for (i,x) in enumerate(itr) if i % n == 1)\n",
    "        r = ((model(dtrn), model(dtst))\n",
    "           for x in takeevery(length(dtrn), progress(momentum(model,repeat(dtrn,100);lr=0.05, gamma=0.9))))\n",
    "        print(\"done\")\n",
    "          # print(size(r,1))      \n",
    "        r = reshape(collect(Float32,flatten(r)),(2,:))\n",
    "               \n",
    "          print(\"done\")\n",
    "       # Knet.gc() # To save gpu memory\n",
    "    #else\n",
    "       # isfile(file) || download(\"http://people.csail.mit.edu/deniz/models/tutorial/$file\",file)\n",
    "       # r = Knet.load(file,\"results\")\n",
    "   # end\n",
    "   # println(minimum(r,dims=2))\n",
    "   return r\n",
    "end"
   ]
  },
  {
   "cell_type": "code",
   "execution_count": 24,
   "metadata": {},
   "outputs": [
    {
     "data": {
      "text/latex": [
       "\\begin{verbatim}\n",
       "minimize(func, data, optimizer=Adam(); params)\n",
       "sgd     (func, data; lr=0.1,  gclip, params)\n",
       "momentum(func, data; lr=0.05, gamma=0.95, gclip, params)\n",
       "nesterov(func, data; lr=0.05, gamma=0.95, gclip, params)\n",
       "adagrad (func, data; lr=0.05, eps=1e-6, gclip, params)\n",
       "rmsprop (func, data; lr=0.01, rho=0.9, eps=1e-6, gclip, params)\n",
       "adadelta(func, data; lr=1.0,  rho=0.9, eps=1e-6, gclip, params)\n",
       "adam    (func, data; lr=0.001, beta1=0.9, beta2=0.999, eps=1e-8, gclip, params)\n",
       "\\end{verbatim}\n",
       "Return an iterator which applies \\texttt{func} to arguments in \\texttt{data}, i.e.  \\texttt{(func(args...) for args in data)}, and updates the parameters every iteration to minimize \\texttt{func}.  \\texttt{func} should return a scalar value.\n",
       "\n",
       "The common keyword argument \\texttt{params} can be used to list the \\texttt{Param}s to be optimized.  If not specified, any \\texttt{Param} that takes part in the computation of \\texttt{func(args...)} will be updated.\n",
       "\n",
       "The common keyword argument \\texttt{gclip} can be used to implement per-parameter gradient clipping. For a parameter gradient \\texttt{g}, if \\texttt{norm(g) > gclip > 0}, \\texttt{g} is scaled so that its norm is equal to \\texttt{gclip}. If not specified no gradient clipping is performed.\n",
       "\n",
       "These functions do not perform optimization, but return an iterator that can. Any function that produces values from an iterator can be used with such an object, e.g. \\texttt{progress!(sgd(f,d))} iterates the sgd optimizer and displays a progress bar. For convenience, appending \\texttt{!} to the name of the function iterates and returns \\texttt{nothing}, i.e. \\texttt{sgd!(...)} is equivalent to \\texttt{(for x in sgd(...) end)}.\n",
       "\n",
       "We define optimizers as lazy iterators to have explicit control over them:\n",
       "\n",
       "\\begin{itemize}\n",
       "\\item To report progress use \\texttt{progress(sgd(f,d))}.\n",
       "\n",
       "\n",
       "\\item To run until convergence use \\texttt{converge(sgd(f,cycle(d)))}.\n",
       "\n",
       "\n",
       "\\item To run multiple epochs use \\texttt{sgd(f,repeat(d,n))}.\n",
       "\n",
       "\n",
       "\\item To run a given number of iterations use \\texttt{sgd(f,take(cycle(d),n))}.\n",
       "\n",
       "\n",
       "\\item To do a task every n iterations use \\texttt{(task() for (i,j) in enumerate(sgd(f,d)) if i\\%n == 1)}.\n",
       "\n",
       "\\end{itemize}\n",
       "These functions apply the same algorithm with the same configuration to every parameter by default. \\texttt{minimize} takes an explicit optimizer argument, all others call \\texttt{minimize} with an appropriate optimizer argument (see \\texttt{@doc update!} for a list of possible optimizers). Before calling \\href{@ref}{\\texttt{update!}} on a \\texttt{Param}, \\texttt{minimize} sets its \\texttt{opt} field to a copy of this default optimizer if it is not already set. The \\texttt{opt} field is used by the \\texttt{update!} function to determine the type of update performed on that parameter.  If you need finer grained control, you can set the optimizer of an individual \\texttt{Param} by setting its \\texttt{opt} field before calling one of these functions. They will not override the \\texttt{opt} field if it is already set, e.g. \\texttt{sgd(model,data)} will perform an \\texttt{Adam} update for a parameter whose \\texttt{opt} field is an \\texttt{Adam} object. This also means you can stop and start the training without losing optimization state, the first call will set the \\texttt{opt} fields and the subsequent calls will not override them.\n",
       "\n",
       "Given a parameter \\texttt{w} and its gradient \\texttt{g} here are the updates applied by each optimizer:\n",
       "\n",
       "\\begin{verbatim}\n",
       "# sgd (http://en.wikipedia.org/wiki/Stochastic_gradient_descent)\n",
       "w .= w - lr * g\n",
       "\n",
       "# momentum (http://jlmelville.github.io/mize/nesterov.html)\n",
       "v .= gamma * v - lr * g\n",
       "w .= w + v\n",
       "\n",
       "# nesterov (http://jlmelville.github.io/mize/nesterov.html)\n",
       "w .= w - gamma * v\n",
       "v .= gamma * v - lr * g\n",
       "w .= w + (1 + gamma) * v\n",
       "\n",
       "# adagrad (http://www.jmlr.org/papers/v12/duchi11a.html)\n",
       "G .= G + g .^ 2\n",
       "w .= w - lr * g ./ sqrt(G + eps)\n",
       "\n",
       "# rmsprop (http://www.cs.toronto.edu/~tijmen/csc321/slides/lecture_slides_lec6.pdf)\n",
       "G .= rho * G + (1-rho) * g .^ 2 \n",
       "w .= w - lr * g ./ sqrt(G + eps)\n",
       "\n",
       "# adadelta (http://arxiv.org/abs/1212.5701)\n",
       "G .= rho * G + (1-rho) * g .^ 2\n",
       "update = sqrt(delta + eps) .* g ./ sqrt(G + eps)\n",
       "w = w - lr * update\n",
       "delta = rho * delta + (1-rho) * update .^ 2\n",
       "\n",
       "# adam (http://arxiv.org/abs/1412.6980)\n",
       "v = beta1 * v + (1 - beta1) * g\n",
       "G = beta2 * G + (1 - beta2) * g .^ 2\n",
       "vhat = v ./ (1 - beta1 ^ t)\n",
       "Ghat = G ./ (1 - beta2 ^ t)\n",
       "w = w - (lr / (sqrt(Ghat) + eps)) * vhat\n",
       "\\end{verbatim}\n"
      ],
      "text/markdown": [
       "```\n",
       "minimize(func, data, optimizer=Adam(); params)\n",
       "sgd     (func, data; lr=0.1,  gclip, params)\n",
       "momentum(func, data; lr=0.05, gamma=0.95, gclip, params)\n",
       "nesterov(func, data; lr=0.05, gamma=0.95, gclip, params)\n",
       "adagrad (func, data; lr=0.05, eps=1e-6, gclip, params)\n",
       "rmsprop (func, data; lr=0.01, rho=0.9, eps=1e-6, gclip, params)\n",
       "adadelta(func, data; lr=1.0,  rho=0.9, eps=1e-6, gclip, params)\n",
       "adam    (func, data; lr=0.001, beta1=0.9, beta2=0.999, eps=1e-8, gclip, params)\n",
       "```\n",
       "\n",
       "Return an iterator which applies `func` to arguments in `data`, i.e.  `(func(args...) for args in data)`, and updates the parameters every iteration to minimize `func`.  `func` should return a scalar value.\n",
       "\n",
       "The common keyword argument `params` can be used to list the `Param`s to be optimized.  If not specified, any `Param` that takes part in the computation of `func(args...)` will be updated.\n",
       "\n",
       "The common keyword argument `gclip` can be used to implement per-parameter gradient clipping. For a parameter gradient `g`, if `norm(g) > gclip > 0`, `g` is scaled so that its norm is equal to `gclip`. If not specified no gradient clipping is performed.\n",
       "\n",
       "These functions do not perform optimization, but return an iterator that can. Any function that produces values from an iterator can be used with such an object, e.g. `progress!(sgd(f,d))` iterates the sgd optimizer and displays a progress bar. For convenience, appending `!` to the name of the function iterates and returns `nothing`, i.e. `sgd!(...)` is equivalent to `(for x in sgd(...) end)`.\n",
       "\n",
       "We define optimizers as lazy iterators to have explicit control over them:\n",
       "\n",
       "  * To report progress use `progress(sgd(f,d))`.\n",
       "  * To run until convergence use `converge(sgd(f,cycle(d)))`.\n",
       "  * To run multiple epochs use `sgd(f,repeat(d,n))`.\n",
       "  * To run a given number of iterations use `sgd(f,take(cycle(d),n))`.\n",
       "  * To do a task every n iterations use `(task() for (i,j) in enumerate(sgd(f,d)) if i%n == 1)`.\n",
       "\n",
       "These functions apply the same algorithm with the same configuration to every parameter by default. `minimize` takes an explicit optimizer argument, all others call `minimize` with an appropriate optimizer argument (see `@doc update!` for a list of possible optimizers). Before calling [`update!`](@ref) on a `Param`, `minimize` sets its `opt` field to a copy of this default optimizer if it is not already set. The `opt` field is used by the `update!` function to determine the type of update performed on that parameter.  If you need finer grained control, you can set the optimizer of an individual `Param` by setting its `opt` field before calling one of these functions. They will not override the `opt` field if it is already set, e.g. `sgd(model,data)` will perform an `Adam` update for a parameter whose `opt` field is an `Adam` object. This also means you can stop and start the training without losing optimization state, the first call will set the `opt` fields and the subsequent calls will not override them.\n",
       "\n",
       "Given a parameter `w` and its gradient `g` here are the updates applied by each optimizer:\n",
       "\n",
       "```\n",
       "# sgd (http://en.wikipedia.org/wiki/Stochastic_gradient_descent)\n",
       "w .= w - lr * g\n",
       "\n",
       "# momentum (http://jlmelville.github.io/mize/nesterov.html)\n",
       "v .= gamma * v - lr * g\n",
       "w .= w + v\n",
       "\n",
       "# nesterov (http://jlmelville.github.io/mize/nesterov.html)\n",
       "w .= w - gamma * v\n",
       "v .= gamma * v - lr * g\n",
       "w .= w + (1 + gamma) * v\n",
       "\n",
       "# adagrad (http://www.jmlr.org/papers/v12/duchi11a.html)\n",
       "G .= G + g .^ 2\n",
       "w .= w - lr * g ./ sqrt(G + eps)\n",
       "\n",
       "# rmsprop (http://www.cs.toronto.edu/~tijmen/csc321/slides/lecture_slides_lec6.pdf)\n",
       "G .= rho * G + (1-rho) * g .^ 2 \n",
       "w .= w - lr * g ./ sqrt(G + eps)\n",
       "\n",
       "# adadelta (http://arxiv.org/abs/1212.5701)\n",
       "G .= rho * G + (1-rho) * g .^ 2\n",
       "update = sqrt(delta + eps) .* g ./ sqrt(G + eps)\n",
       "w = w - lr * update\n",
       "delta = rho * delta + (1-rho) * update .^ 2\n",
       "\n",
       "# adam (http://arxiv.org/abs/1412.6980)\n",
       "v = beta1 * v + (1 - beta1) * g\n",
       "G = beta2 * G + (1 - beta2) * g .^ 2\n",
       "vhat = v ./ (1 - beta1 ^ t)\n",
       "Ghat = G ./ (1 - beta2 ^ t)\n",
       "w = w - (lr / (sqrt(Ghat) + eps)) * vhat\n",
       "```\n"
      ],
      "text/plain": [
       "\u001b[36m  minimize(func, data, optimizer=Adam(); params)\u001b[39m\n",
       "\u001b[36m  sgd     (func, data; lr=0.1,  gclip, params)\u001b[39m\n",
       "\u001b[36m  momentum(func, data; lr=0.05, gamma=0.95, gclip, params)\u001b[39m\n",
       "\u001b[36m  nesterov(func, data; lr=0.05, gamma=0.95, gclip, params)\u001b[39m\n",
       "\u001b[36m  adagrad (func, data; lr=0.05, eps=1e-6, gclip, params)\u001b[39m\n",
       "\u001b[36m  rmsprop (func, data; lr=0.01, rho=0.9, eps=1e-6, gclip, params)\u001b[39m\n",
       "\u001b[36m  adadelta(func, data; lr=1.0,  rho=0.9, eps=1e-6, gclip, params)\u001b[39m\n",
       "\u001b[36m  adam    (func, data; lr=0.001, beta1=0.9, beta2=0.999, eps=1e-8, gclip, params)\u001b[39m\n",
       "\n",
       "  Return an iterator which applies \u001b[36mfunc\u001b[39m to arguments in \u001b[36mdata\u001b[39m, i.e.\n",
       "  \u001b[36m(func(args...) for args in data)\u001b[39m, and updates the parameters every\n",
       "  iteration to minimize \u001b[36mfunc\u001b[39m. \u001b[36mfunc\u001b[39m should return a scalar value.\n",
       "\n",
       "  The common keyword argument \u001b[36mparams\u001b[39m can be used to list the \u001b[36mParam\u001b[39ms to\n",
       "  be optimized. If not specified, any \u001b[36mParam\u001b[39m that takes part in the\n",
       "  computation of \u001b[36mfunc(args...)\u001b[39m will be updated.\n",
       "\n",
       "  The common keyword argument \u001b[36mgclip\u001b[39m can be used to implement\n",
       "  per-parameter gradient clipping. For a parameter gradient \u001b[36mg\u001b[39m, if\n",
       "  \u001b[36mnorm(g) > gclip > 0\u001b[39m, \u001b[36mg\u001b[39m is scaled so that its norm is equal to \u001b[36mgclip\u001b[39m.\n",
       "  If not specified no gradient clipping is performed.\n",
       "\n",
       "  These functions do not perform optimization, but return an iterator\n",
       "  that can. Any function that produces values from an iterator can be\n",
       "  used with such an object, e.g. \u001b[36mprogress!(sgd(f,d))\u001b[39m iterates the sgd\n",
       "  optimizer and displays a progress bar. For convenience, appending \u001b[36m!\u001b[39m\n",
       "  to the name of the function iterates and returns \u001b[36mnothing\u001b[39m, i.e.\n",
       "  \u001b[36msgd!(...)\u001b[39m is equivalent to \u001b[36m(for x in sgd(...) end)\u001b[39m.\n",
       "\n",
       "  We define optimizers as lazy iterators to have explicit control over\n",
       "  them:\n",
       "\n",
       "    •    To report progress use \u001b[36mprogress(sgd(f,d))\u001b[39m.\n",
       "\n",
       "    •    To run until convergence use \u001b[36mconverge(sgd(f,cycle(d)))\u001b[39m.\n",
       "\n",
       "    •    To run multiple epochs use \u001b[36msgd(f,repeat(d,n))\u001b[39m.\n",
       "\n",
       "    •    To run a given number of iterations use\n",
       "        \u001b[36msgd(f,take(cycle(d),n))\u001b[39m.\n",
       "\n",
       "    •    To do a task every n iterations use \u001b[36m(task() for (i,j) in\n",
       "        enumerate(sgd(f,d)) if i%n == 1)\u001b[39m.\n",
       "\n",
       "  These functions apply the same algorithm with the same configuration\n",
       "  to every parameter by default. \u001b[36mminimize\u001b[39m takes an explicit optimizer\n",
       "  argument, all others call \u001b[36mminimize\u001b[39m with an appropriate optimizer\n",
       "  argument (see \u001b[36m@doc update!\u001b[39m for a list of possible optimizers).\n",
       "  Before calling \u001b[36mupdate!\u001b[39m on a \u001b[36mParam\u001b[39m, \u001b[36mminimize\u001b[39m sets its \u001b[36mopt\u001b[39m field to a\n",
       "  copy of this default optimizer if it is not already set. The \u001b[36mopt\u001b[39m\n",
       "  field is used by the \u001b[36mupdate!\u001b[39m function to determine the type of\n",
       "  update performed on that parameter. If you need finer grained\n",
       "  control, you can set the optimizer of an individual \u001b[36mParam\u001b[39m by setting\n",
       "  its \u001b[36mopt\u001b[39m field before calling one of these functions. They will not\n",
       "  override the \u001b[36mopt\u001b[39m field if it is already set, e.g. \u001b[36msgd(model,data)\u001b[39m\n",
       "  will perform an \u001b[36mAdam\u001b[39m update for a parameter whose \u001b[36mopt\u001b[39m field is an\n",
       "  \u001b[36mAdam\u001b[39m object. This also means you can stop and start the training\n",
       "  without losing optimization state, the first call will set the \u001b[36mopt\u001b[39m\n",
       "  fields and the subsequent calls will not override them.\n",
       "\n",
       "  Given a parameter \u001b[36mw\u001b[39m and its gradient \u001b[36mg\u001b[39m here are the updates applied\n",
       "  by each optimizer:\n",
       "\n",
       "\u001b[36m  # sgd (http://en.wikipedia.org/wiki/Stochastic_gradient_descent)\u001b[39m\n",
       "\u001b[36m  w .= w - lr * g\u001b[39m\n",
       "\u001b[36m  \u001b[39m\n",
       "\u001b[36m  # momentum (http://jlmelville.github.io/mize/nesterov.html)\u001b[39m\n",
       "\u001b[36m  v .= gamma * v - lr * g\u001b[39m\n",
       "\u001b[36m  w .= w + v\u001b[39m\n",
       "\u001b[36m  \u001b[39m\n",
       "\u001b[36m  # nesterov (http://jlmelville.github.io/mize/nesterov.html)\u001b[39m\n",
       "\u001b[36m  w .= w - gamma * v\u001b[39m\n",
       "\u001b[36m  v .= gamma * v - lr * g\u001b[39m\n",
       "\u001b[36m  w .= w + (1 + gamma) * v\u001b[39m\n",
       "\u001b[36m  \u001b[39m\n",
       "\u001b[36m  # adagrad (http://www.jmlr.org/papers/v12/duchi11a.html)\u001b[39m\n",
       "\u001b[36m  G .= G + g .^ 2\u001b[39m\n",
       "\u001b[36m  w .= w - lr * g ./ sqrt(G + eps)\u001b[39m\n",
       "\u001b[36m  \u001b[39m\n",
       "\u001b[36m  # rmsprop (http://www.cs.toronto.edu/~tijmen/csc321/slides/lecture_slides_lec6.pdf)\u001b[39m\n",
       "\u001b[36m  G .= rho * G + (1-rho) * g .^ 2 \u001b[39m\n",
       "\u001b[36m  w .= w - lr * g ./ sqrt(G + eps)\u001b[39m\n",
       "\u001b[36m  \u001b[39m\n",
       "\u001b[36m  # adadelta (http://arxiv.org/abs/1212.5701)\u001b[39m\n",
       "\u001b[36m  G .= rho * G + (1-rho) * g .^ 2\u001b[39m\n",
       "\u001b[36m  update = sqrt(delta + eps) .* g ./ sqrt(G + eps)\u001b[39m\n",
       "\u001b[36m  w = w - lr * update\u001b[39m\n",
       "\u001b[36m  delta = rho * delta + (1-rho) * update .^ 2\u001b[39m\n",
       "\u001b[36m  \u001b[39m\n",
       "\u001b[36m  # adam (http://arxiv.org/abs/1412.6980)\u001b[39m\n",
       "\u001b[36m  v = beta1 * v + (1 - beta1) * g\u001b[39m\n",
       "\u001b[36m  G = beta2 * G + (1 - beta2) * g .^ 2\u001b[39m\n",
       "\u001b[36m  vhat = v ./ (1 - beta1 ^ t)\u001b[39m\n",
       "\u001b[36m  Ghat = G ./ (1 - beta2 ^ t)\u001b[39m\n",
       "\u001b[36m  w = w - (lr / (sqrt(Ghat) + eps)) * vhat\u001b[39m"
      ]
     },
     "execution_count": 24,
     "metadata": {},
     "output_type": "execute_result"
    }
   ],
   "source": [
    "@doc sgd"
   ]
  },
  {
   "cell_type": "code",
   "execution_count": 14,
   "metadata": {},
   "outputs": [],
   "source": [
    "# Let's define a chain of layers\n",
    "struct Chain\n",
    "    layers\n",
    "    Chain(layers...) = new(layers)\n",
    "end\n",
    "(c::Chain)(x) = (for l in c.layers; x = l(x); end; x)\n",
    "(c::Chain)(x,y) = mean(abs2.(c(x).-y))\n",
    "(c::Chain)(d::Data) = mean(c(x,y) for (x,y) in d)"
   ]
  },
  {
   "cell_type": "code",
   "execution_count": 15,
   "metadata": {},
   "outputs": [
    {
     "data": {
      "text/plain": [
       "Conv"
      ]
     },
     "execution_count": 15,
     "metadata": {},
     "output_type": "execute_result"
    }
   ],
   "source": [
    "# Define a convolutional layer:\n",
    "struct Conv; w; b; f; p; end\n",
    "(c::Conv)(x) = c.f.(pool(conv4(c.w, dropout(x,c.p)) .+ c.b))\n",
    "Conv(w1::Int,w2::Int,cx::Int,cy::Int,f=relu;pdrop=0) = Conv(param(w1,w2,cx,cy), param0(1,1,cy,1), f, pdrop)"
   ]
  },
  {
   "cell_type": "code",
   "execution_count": 16,
   "metadata": {},
   "outputs": [
    {
     "data": {
      "text/plain": [
       "Conv0"
      ]
     },
     "execution_count": 16,
     "metadata": {},
     "output_type": "execute_result"
    }
   ],
   "source": [
    "# Define a convolutional layer:\n",
    "struct Conv0; w; b; f; p; end\n",
    "(c::Conv0)(x) = c.f.(pool(conv4(c.w, dropout(x,c.p);padding=1).+ c.b;window=3,stride=2))\n",
    "Conv0(w1::Int,w2::Int,cx::Int,cy::Int,f=relu;pdrop=0) = Conv0(paramd1(w1,w2,cx,cy), param0(1,1,cy,1), f, pdrop)"
   ]
  },
  {
   "cell_type": "code",
   "execution_count": 17,
   "metadata": {},
   "outputs": [
    {
     "data": {
      "text/plain": [
       "Conv1"
      ]
     },
     "execution_count": 17,
     "metadata": {},
     "output_type": "execute_result"
    }
   ],
   "source": [
    "# Define a convolutional layer:\n",
    "struct Conv1; w; b; f; p; end\n",
    "(c::Conv1)(x) = c.f.(pool(conv4(c.w, dropout(x,c.p);padding=1).+ c.b;window=3,stride=2))\n",
    "Conv1(w1::Int,w2::Int,cx::Int,cy::Int,f=relu;pdrop=0) = Conv1(paramd1(w1,w2,cx,cy), param1(1,1,cy,1), f, pdrop)"
   ]
  },
  {
   "cell_type": "code",
   "execution_count": 18,
   "metadata": {},
   "outputs": [
    {
     "data": {
      "text/plain": [
       "Conv2"
      ]
     },
     "execution_count": 18,
     "metadata": {},
     "output_type": "execute_result"
    }
   ],
   "source": [
    "\n",
    "struct Conv2; w; b; f; p; end\n",
    "(c::Conv2)(x) = c.f.(conv4(c.w, dropout(x,c.p);padding=0))\n",
    "Conv2(w1::Int,w2::Int,cx::Int,cy::Int,f=relu;pdrop=0) = Conv2(paramd1(w1,w2,cx,cy), param1(1,1,cy,1), f, pdrop)"
   ]
  },
  {
   "cell_type": "code",
   "execution_count": 19,
   "metadata": {},
   "outputs": [
    {
     "data": {
      "text/plain": [
       "Conv3"
      ]
     },
     "execution_count": 19,
     "metadata": {},
     "output_type": "execute_result"
    }
   ],
   "source": [
    "struct Conv3; w; b; f; p; end\n",
    "(c::Conv3)(x) = c.f.(conv4(c.w, dropout(x,c.p);padding=1))\n",
    "Conv3(w1::Int,w2::Int,cx::Int,cy::Int,f=relu;pdrop=0) = Conv3(paramd1(w1,w2,cx,cy), param1(1,1,cy,1), f, pdrop)"
   ]
  },
  {
   "cell_type": "code",
   "execution_count": 20,
   "metadata": {},
   "outputs": [
    {
     "data": {
      "text/plain": [
       "Dense"
      ]
     },
     "execution_count": 20,
     "metadata": {},
     "output_type": "execute_result"
    }
   ],
   "source": [
    "# Redefine dense layer (See mlp.ipynb):\n",
    "struct Dense; w; b; f; p; end\n",
    "(d::Dense)(x) = d.f.(d.w * mat(dropout(x,d.p)) .+ d.b) # mat reshapes 4-D tensor to 2-D matrix so we can use matmul\n",
    "Dense(i::Int,o::Int,f=relu;pdrop=0) = Dense(paramd1(o,i), param0(o), f, pdrop)"
   ]
  },
  {
   "cell_type": "code",
   "execution_count": 21,
   "metadata": {},
   "outputs": [
    {
     "data": {
      "text/plain": [
       "Dense0"
      ]
     },
     "execution_count": 21,
     "metadata": {},
     "output_type": "execute_result"
    }
   ],
   "source": [
    "# Redefine dense layer (See mlp.ipynb):\n",
    "struct Dense0; w; b; f; p; end\n",
    "(d::Dense0)(x) = d.f.(d.w * mat(dropout(x,d.p)) .+ d.b) # mat reshapes 4-D tensor to 2-D matrix so we can use matmul\n",
    "Dense0(i::Int,o::Int,f=relu;pdrop=0.5) = Dense0(paramd2(o,i), param1(o), f, pdrop)"
   ]
  },
  {
   "cell_type": "code",
   "execution_count": 22,
   "metadata": {},
   "outputs": [
    {
     "data": {
      "text/plain": [
       "Dense1"
      ]
     },
     "execution_count": 22,
     "metadata": {},
     "output_type": "execute_result"
    }
   ],
   "source": [
    "# Redefine dense layer (See mlp.ipynb):\n",
    "struct Dense1; w; b; f; p; end\n",
    "(d::Dense1)(x) = d.f.(d.w * mat(dropout(x,d.p)) .+ d.b) # mat reshapes 4-D tensor to 2-D matrix so we can use matmul\n",
    "Dense1(i::Int,o::Int,f=relu;pdrop=0.5) = Dense1(paramd1(o,i), param0(o), f, pdrop)"
   ]
  },
  {
   "cell_type": "code",
   "execution_count": 23,
   "metadata": {},
   "outputs": [
    {
     "data": {
      "text/plain": [
       "6-element Array{String,1}:\n",
       " \"3×3×3×64 Param{KnetArray{Float32,4}}\"   \n",
       " \"3×3×64×128 Param{KnetArray{Float32,4}}\" \n",
       " \"3×3×128×256 Param{KnetArray{Float32,4}}\"\n",
       " \"3×3×256×256 Param{KnetArray{Float32,4}}\"\n",
       " \"3×3×256×512 Param{KnetArray{Float32,4}}\"\n",
       " \"2×2×512×512 Param{KnetArray{Float32,4}}\""
      ]
     },
     "execution_count": 23,
     "metadata": {},
     "output_type": "execute_result"
    }
   ],
   "source": [
    "lenet1 =   Chain(Conv0(3,3,3,64),\n",
    "                 Conv1(3,3,64,128),\n",
    "                 Conv1(3,3,128,256),\n",
    "                Conv1(3,3,256,256),\n",
    "                Conv1(3,3,256,512),\n",
    "                Conv3(2,2,512,512))\n",
    "summary.(l.w for l in lenet1.layers)"
   ]
  },
  {
   "cell_type": "code",
   "execution_count": 24,
   "metadata": {},
   "outputs": [
    {
     "name": "stdout",
     "output_type": "stream",
     "text": [
      "2.77e+02  100.00%┣████████████████████▉┫ 4000/4000 [07:39/07:39, 8.71i/s]\n",
      "done"
     ]
    }
   ],
   "source": [
    "cnn2 = trainresults(\"cnn2.jld2\", lenet1);"
   ]
  },
  {
   "cell_type": "code",
   "execution_count": 25,
   "metadata": {},
   "outputs": [
    {
     "data": {
      "image/png": "[encoded data removed]"
     },
     "execution_count": 25,
     "metadata": {},
     "output_type": "execute_result"
    }
   ],
   "source": [
    "plot([cnn2[1,:], cnn2[2,:]],\n",
    "     labels=[:trnCNN2 :tstCNN2],xlabel=\"Epochs\",ylabel=\"Loss\")"
   ]
  },
  {
   "cell_type": "code",
   "execution_count": 26,
   "metadata": {},
   "outputs": [],
   "source": [
    "cd()\n",
    "cd(\"Desktop/DeepProject\")\n",
    "Knet.save(\"lenet1last2.jld2\",\"b\",lenet1)"
   ]
  },
  {
   "cell_type": "code",
   "execution_count": null,
   "metadata": {},
   "outputs": [],
   "source": [
    "lenet1"
   ]
  },
  {
   "cell_type": "code",
   "execution_count": 38,
   "metadata": {},
   "outputs": [
    {
     "name": "stdout",
     "output_type": "stream",
     "text": [
      "Conv0\n"
     ]
    },
    {
     "data": {
      "text/plain": [
       "P(KnetArray{Float32,4}(3,3,3,64))"
      ]
     },
     "execution_count": 38,
     "metadata": {},
     "output_type": "execute_result"
    }
   ],
   "source": [
    "lenet1.layers\n",
    "(x1) = first(lenet1.layers)\n",
    "println(summary((x1)));\n",
    "x1.w"
   ]
  },
  {
   "cell_type": "code",
   "execution_count": 43,
   "metadata": {},
   "outputs": [
    {
     "data": {
      "text/plain": [
       "Conv0"
      ]
     },
     "execution_count": 43,
     "metadata": {},
     "output_type": "execute_result"
    }
   ],
   "source": [
    "# Define a convolutional layer:\n",
    "struct Conv0; w; b; f; p; end\n",
    "(c::Conv0)(x) = c.f.(pool(conv4(c.w, dropout(x,c.p);padding=1).+ c.b;window=3,stride=2))\n",
    "Conv0(w1,w2,cy::Int,f=relu;pdrop=0) = Conv0(x1.w, x1.b, f, pdrop)\n",
    "Conv0(w1,w2) = Conv0(x1.w, x1.b, f, pdrop)\n",
    "\n",
    "hesap(a,b)\n",
    "hesap(a,b)\n",
    "\n"
   ]
  },
  {
   "cell_type": "code",
   "execution_count": 42,
   "metadata": {},
   "outputs": [
    {
     "data": {
      "text/plain": [
       "3×3×3×64 Array{Float32,4}:\n",
       "[:, :, 1, 1] =\n",
       " -0.00871214  -0.000751225  -0.000579689\n",
       " -0.0248748    0.0152113    -0.00329432 \n",
       " -0.00121078  -0.00879293   -0.00723424 \n",
       "\n",
       "[:, :, 2, 1] =\n",
       "  0.00767459  -0.00325299  -0.00778595\n",
       "  0.00223166   0.00391672  -0.0215079 \n",
       " -0.0116552   -0.0188883    0.0121926 \n",
       "\n",
       "[:, :, 3, 1] =\n",
       " -0.00284774  -0.00394341  -0.0372736 \n",
       " -0.0188273   -0.00772812  -0.013955  \n",
       " -0.001945     0.00459553   0.00382264\n",
       "\n",
       "[:, :, 1, 2] =\n",
       " -0.0297519   -0.0202923   -0.00962888\n",
       " -0.0276394   -0.0295004    0.00112609\n",
       " -0.00656154  -0.00332122  -0.019275  \n",
       "\n",
       "[:, :, 2, 2] =\n",
       " -0.0027709    -0.0100992  -0.0235549 \n",
       "  0.00241004   -0.0131165  -0.00225613\n",
       "  0.000284919  -0.0163133  -0.0123686 \n",
       "\n",
       "[:, :, 3, 2] =\n",
       " -0.0230993   0.000930059  -0.0082123\n",
       " -0.0128929  -0.0180306    -0.0150899\n",
       "  0.0115776  -0.00879394   -0.0121415\n",
       "\n",
       "[:, :, 1, 3] =\n",
       " -0.682393  -0.70804   -0.714568\n",
       " -0.708471  -0.724795  -0.699235\n",
       " -0.715787  -0.703025  -0.693483\n",
       "\n",
       "[:, :, 2, 3] =\n",
       " -0.621252  -0.646083  -0.633705\n",
       " -0.623676  -0.621183  -0.638005\n",
       " -0.617988  -0.610914  -0.638362\n",
       "\n",
       "[:, :, 3, 3] =\n",
       " -0.607444  -0.591799  -0.600211\n",
       " -0.61169   -0.599409  -0.598502\n",
       " -0.60189   -0.608624  -0.600476\n",
       "\n",
       "...\n",
       "\n",
       "[:, :, 1, 62] =\n",
       " -0.0123897   0.00465589   -0.0069444\n",
       " -0.0117447   0.000420135  -0.017816 \n",
       " -0.0125429  -0.0080537     0.0063442\n",
       "\n",
       "[:, :, 2, 62] =\n",
       " -0.00688477  -0.000699877   0.00666564\n",
       "  0.0127181    0.0105863    -0.0137403 \n",
       " -0.00117649   0.000842388   0.00432457\n",
       "\n",
       "[:, :, 3, 62] =\n",
       "  0.00457843  0.0176732   -0.00944286\n",
       " -0.0227493   0.00431676  -0.0109574 \n",
       " -0.00702963  0.00803715   0.00498717\n",
       "\n",
       "[:, :, 1, 63] =\n",
       "  0.00779563   0.00942682   0.00157212\n",
       "  0.00149755  -0.00358921  -0.00573396\n",
       " -0.00525804  -0.00218896  -0.0189622 \n",
       "\n",
       "[:, :, 2, 63] =\n",
       "  0.00312208  -0.00124671   0.00112999\n",
       " -0.0121377   -0.00680412  -0.00790321\n",
       "  0.0145426    0.00358165  -0.0114078 \n",
       "\n",
       "[:, :, 3, 63] =\n",
       "  0.0101851   0.00631464  -0.017991 \n",
       " -0.0151698   0.00264038   0.0111659\n",
       "  0.0162456  -0.0110855    0.0162717\n",
       "\n",
       "[:, :, 1, 64] =\n",
       " -0.310597  -0.31946   -0.330632\n",
       " -0.302787  -0.323214  -0.319178\n",
       " -0.311617  -0.316254  -0.329653\n",
       "\n",
       "[:, :, 2, 64] =\n",
       " -0.293676  -0.303913  -0.286588\n",
       " -0.305897  -0.305421  -0.299241\n",
       " -0.281186  -0.286414  -0.293558\n",
       "\n",
       "[:, :, 3, 64] =\n",
       " -0.26624   -0.274858  -0.262208\n",
       " -0.272458  -0.288139  -0.272023\n",
       " -0.284327  -0.257281  -0.270994"
      ]
     },
     "execution_count": 42,
     "metadata": {},
     "output_type": "execute_result"
    }
   ],
   "source": [
    "convert(Array{Float32,4},lenet1.layers[1].w)"
   ]
  },
  {
   "cell_type": "code",
   "execution_count": 47,
   "metadata": {},
   "outputs": [
    {
     "data": {
      "text/plain": [
       "P(KnetArray{Float32,2}(5,5))"
      ]
     },
     "execution_count": 47,
     "metadata": {},
     "output_type": "execute_result"
    }
   ],
   "source": [
    "j=paramd1(5,5)"
   ]
  },
  {
   "cell_type": "code",
   "execution_count": 46,
   "metadata": {},
   "outputs": [
    {
     "data": {
      "text/plain": [
       "-0.0062158154f0"
      ]
     },
     "execution_count": 46,
     "metadata": {},
     "output_type": "execute_result"
    }
   ],
   "source": [
    "x1.w[2,1,1,1]"
   ]
  },
  {
   "cell_type": "code",
   "execution_count": 26,
   "metadata": {},
   "outputs": [
    {
     "data": {
      "text/plain": [
       "10-element Array{String,1}:\n",
       " \"21.04.19\"          \n",
       " \"CNNModel.ipynb\"    \n",
       " \"Dataset.ipynb\"     \n",
       " \"Deep (1).ipynb\"    \n",
       " \"DeepCNNMOdel.ipynb\"\n",
       " \"datax.jld2\"        \n",
       " \"datay.jld2\"        \n",
       " \"dtrn.jld2\"         \n",
       " \"dtst.jld2\"         \n",
       " \"lenet1.jld2\"       "
      ]
     },
     "execution_count": 26,
     "metadata": {},
     "output_type": "execute_result"
    }
   ],
   "source": [
    "cd()\n",
    "cd(readdir, \"Desktop/DeepProject\")"
   ]
  },
  {
   "cell_type": "code",
   "execution_count": 184,
   "metadata": {},
   "outputs": [],
   "source": [
    "cd()\n",
    "cd(\"Desktop/DeepProject\")\n",
    "save(\"lenet1.jld2\",\"b\",lenet1)"
   ]
  },
  {
   "cell_type": "code",
   "execution_count": 27,
   "metadata": {},
   "outputs": [
    {
     "name": "stderr",
     "output_type": "stream",
     "text": [
      "┌ Warning: type Main.Chain does not exist in workspace; reconstructing\n",
      "└ @ JLD2 /home/mvgl/.julia/packages/JLD2/KjBIK/src/data.jl:1153\n",
      "┌ Warning: type Main.Conv0 does not exist in workspace; reconstructing\n",
      "└ @ JLD2 /home/mvgl/.julia/packages/JLD2/KjBIK/src/data.jl:1153\n",
      "┌ Warning: type Main.Conv1 does not exist in workspace; reconstructing\n",
      "└ @ JLD2 /home/mvgl/.julia/packages/JLD2/KjBIK/src/data.jl:1153\n",
      "┌ Warning: type Main.Conv3 does not exist in workspace; reconstructing\n",
      "└ @ JLD2 /home/mvgl/.julia/packages/JLD2/KjBIK/src/data.jl:1153\n"
     ]
    },
    {
     "data": {
      "text/plain": [
       "getfield(JLD2.ReconstructedTypes, Symbol(\"##Main.Chain#371\"))((getfield(JLD2.ReconstructedTypes, Symbol(\"##Main.Conv0#372\"))(P(KnetArray{Float32,4}(3,3,3,64)), P(KnetArray{Float32,4}(1,1,64,1)), Knet.relu, 0), getfield(JLD2.ReconstructedTypes, Symbol(\"##Main.Conv1#373\"))(P(KnetArray{Float32,4}(3,3,64,128)), P(KnetArray{Float32,4}(1,1,128,1)), Knet.relu, 0), getfield(JLD2.ReconstructedTypes, Symbol(\"##Main.Conv1#373\"))(P(KnetArray{Float32,4}(3,3,128,256)), P(KnetArray{Float32,4}(1,1,256,1)), Knet.relu, 0), getfield(JLD2.ReconstructedTypes, Symbol(\"##Main.Conv1#373\"))(P(KnetArray{Float32,4}(3,3,256,256)), P(KnetArray{Float32,4}(1,1,256,1)), Knet.relu, 0), getfield(JLD2.ReconstructedTypes, Symbol(\"##Main.Conv1#373\"))(P(KnetArray{Float32,4}(3,3,256,512)), P(KnetArray{Float32,4}(1,1,512,1)), Knet.relu, 0), getfield(JLD2.ReconstructedTypes, Symbol(\"##Main.Conv3#374\"))(P(KnetArray{Float32,4}(2,2,512,512)), P(KnetArray{Float32,4}(1,1,512,1)), Knet.relu, 0)))"
      ]
     },
     "execution_count": 27,
     "metadata": {},
     "output_type": "execute_result"
    }
   ],
   "source": [
    "cd(\"Desktop/DeepProject\")\n",
    "CC=Knet.load(\"lenet1.jld2\",\"b\")"
   ]
  },
  {
   "cell_type": "code",
   "execution_count": 29,
   "metadata": {},
   "outputs": [
    {
     "name": "stdout",
     "output_type": "stream",
     "text": [
      "getfield(JLD2.ReconstructedTypes, Symbol(\"##Main.Conv0#372\"))\n"
     ]
    },
    {
     "data": {
      "text/plain": [
       "P(KnetArray{Float32,4}(3,3,3,64))"
      ]
     },
     "execution_count": 29,
     "metadata": {},
     "output_type": "execute_result"
    }
   ],
   "source": [
    "CC.layers\n",
    "(x1) = first(CC.layers)\n",
    "println(summary((x1)));\n",
    "x1.w"
   ]
  },
  {
   "cell_type": "code",
   "execution_count": 53,
   "metadata": {},
   "outputs": [
    {
     "data": {
      "text/plain": [
       "2-element Array{String,1}:\n",
       " \"3×3×3×64 Param{KnetArray{Float32,4}}\"\n",
       " \"6×788544 Param{KnetArray{Float32,2}}\""
      ]
     },
     "execution_count": 53,
     "metadata": {},
     "output_type": "execute_result"
    }
   ],
   "source": [
    "lenet2 =   Chain(Conv0(3,3,3,64,relu),\n",
    "                    Dense0(788544,6))\n",
    "summary.(l.w for l in lenet2.layers)"
   ]
  },
  {
   "cell_type": "code",
   "execution_count": 35,
   "metadata": {},
   "outputs": [
    {
     "name": "stdout",
     "output_type": "stream",
     "text": [
      "2.02e+02  100.00%┣████████████████████▉┫ 4000/4000 [07:33/07:33, 8.82i/s]\n",
      "done"
     ]
    }
   ],
   "source": [
    "cnn2 = trainresults(\"cnn2.jld2\", lenet1);"
   ]
  },
  {
   "cell_type": "code",
   "execution_count": 135,
   "metadata": {},
   "outputs": [
    {
     "ename": "MethodError",
     "evalue": "MethodError: no method matching getindex(::Base.Generator{Base.Generator{Base.Iterators.Filter{getfield(Main, Symbol(\"##172#176\")){Int64},Base.Iterators.Enumerate{Knet.Progress{Knet.Minimize{Knet.Repeat}}}},getfield(Main, Symbol(\"##171#175\"))},getfield(Main, Symbol(\"##173#177\")){Chain}}, ::Int64, ::Colon)",
     "output_type": "error",
     "traceback": [
      "MethodError: no method matching getindex(::Base.Generator{Base.Generator{Base.Iterators.Filter{getfield(Main, Symbol(\"##172#176\")){Int64},Base.Iterators.Enumerate{Knet.Progress{Knet.Minimize{Knet.Repeat}}}},getfield(Main, Symbol(\"##171#175\"))},getfield(Main, Symbol(\"##173#177\")){Chain}}, ::Int64, ::Colon)",
      "",
      "Stacktrace:",
      " [1] top-level scope at In[135]:1"
     ]
    }
   ],
   "source": [
    "cnn2[3,:]"
   ]
  },
  {
   "cell_type": "code",
   "execution_count": 153,
   "metadata": {},
   "outputs": [
    {
     "name": "stdout",
     "output_type": "stream",
     "text": [
      "\r",
      "2.95e+02  0.03%┣                       ┫ 1/4000 [00:03/03:18:24, 2.98s/i]"
     ]
    },
    {
     "ename": "MethodError",
     "evalue": "SYSTEM: show(lasterr) caused an error",
     "output_type": "error",
     "traceback": [
      "SYSTEM: show(lasterr) caused an error",
      "",
      "Stacktrace:",
      " [1] iterate(::KnetArray{Float32,4}) at /home/mvgl/.julia/packages/Knet/05UDD/src/karray.jl:96",
      " [2] #accuracy#718(::Int64, ::Bool, ::Base.Iterators.Pairs{Union{},Union{},Tuple{},NamedTuple{(),Tuple{}}}, ::Function, ::KnetArray{Float32,4}, ::KnetArray{Float32,4}) at /home/mvgl/.julia/packages/Knet/05UDD/src/loss.jl:320",
      " [3] (::getfield(Knet, Symbol(\"#kw##accuracy\")))(::NamedTuple{(:dims, :average),Tuple{Int64,Bool}}, ::typeof(accuracy), ::KnetArray{Float32,4}, ::KnetArray{Float32,4}) at ./none:0",
      " [4] #accuracy#718(::Int64, ::Bool, ::Base.Iterators.Pairs{Union{},Union{},Tuple{},NamedTuple{(),Tuple{}}}, ::Function, ::Chain, ::Data{Tuple{KnetArray{Float32,4},KnetArray{Float32,4}}}) at /home/mvgl/.julia/packages/Knet/05UDD/src/loss.jl:321",
      " [5] accuracy(::Chain, ::Data{Tuple{KnetArray{Float32,4},KnetArray{Float32,4}}}) at /home/mvgl/.julia/packages/Knet/05UDD/src/loss.jl:319",
      " [6] #zeroone#719(::Base.Iterators.Pairs{Union{},Union{},Tuple{},NamedTuple{(),Tuple{}}}, ::Function, ::Chain, ::Vararg{Any,N} where N) at /home/mvgl/.julia/packages/Knet/05UDD/src/loss.jl:328",
      " [7] zeroone at /home/mvgl/.julia/packages/Knet/05UDD/src/loss.jl:328 [inlined]",
      " [8] (::getfield(Main, Symbol(\"##207#211\")){Chain})(::Float32) at ./none:0",
      " [9] iterate at ./generator.jl:47 [inlined]",
      " [10] iterate at ./iterators.jl:902 [inlined]",
      " [11] iterate at ./iterators.jl:898 [inlined]",
      " [12] _collect(::Type{Float32}, ::Base.Iterators.Flatten{Base.Generator{Base.Generator{Base.Iterators.Filter{getfield(Main, Symbol(\"##206#210\")){Int64},Base.Iterators.Enumerate{Knet.Progress{Knet.Minimize{Knet.Repeat}}}},getfield(Main, Symbol(\"##205#209\"))},getfield(Main, Symbol(\"##207#211\")){Chain}}}, ::Base.SizeUnknown) at ./array.jl:509",
      " [13] collect(::Type{Float32}, ::Base.Iterators.Flatten{Base.Generator{Base.Generator{Base.Iterators.Filter{getfield(Main, Symbol(\"##206#210\")){Int64},Base.Iterators.Enumerate{Knet.Progress{Knet.Minimize{Knet.Repeat}}}},getfield(Main, Symbol(\"##205#209\"))},getfield(Main, Symbol(\"##207#211\")){Chain}}}) at ./array.jl:503",
      " [14] top-level scope at In[153]:1"
     ]
    }
   ],
   "source": [
    " cnn2 = reshape(collect(Float32,flatten(cnn2)),(4,:))"
   ]
  },
  {
   "cell_type": "code",
   "execution_count": 37,
   "metadata": {},
   "outputs": [
    {
     "data": {
      "image/png": "[encoded data removed]"
     },
     "execution_count": 37,
     "metadata": {},
     "output_type": "execute_result"
    }
   ],
   "source": [
    "plot([cnn2[1,:], cnn2[2,:]],\n",
    "     labels=[:trnCNN2 :tstCNN2],xlabel=\"Epochs\",ylabel=\"Loss\")"
   ]
  },
  {
   "cell_type": "code",
   "execution_count": 25,
   "metadata": {},
   "outputs": [
    {
     "data": {
      "image/png": "[encoded data removed]"
     },
     "execution_count": 25,
     "metadata": {},
     "output_type": "execute_result"
    }
   ],
   "source": [
    "plot([cnn2[1,:], cnn2[2,:]], ylim=(0.0,5),\n",
    "     labels=[:trnCNN2 :tstCNN2],xlabel=\"Epochs\",ylabel=\"Loss\")"
   ]
  },
  {
   "cell_type": "code",
   "execution_count": 58,
   "metadata": {},
   "outputs": [
    {
     "name": "stdout",
     "output_type": "stream",
     "text": [
      "Train from scratch? stdin> y\n",
      "1.55e+00  100.00%┣█████████████████████┫ 4500/4500 [09:00/09:00, 8.34i/s]\n",
      "Float32[1.80996; 1.82021; 0.833333; 0.820313]\n"
     ]
    }
   ],
   "source": [
    "cnn1 = trainresults(\"cnn2.jld2\", lenet2);"
   ]
  },
  {
   "cell_type": "code",
   "execution_count": 62,
   "metadata": {},
   "outputs": [
    {
     "data": {
      "image/png": "[encoded data removed]"
     },
     "execution_count": 62,
     "metadata": {},
     "output_type": "execute_result"
    }
   ],
   "source": [
    "plot([cnn2[3,:], cnn2[4,:],cnn1[3,:], cnn1[4,:]], ylim=(0.0,1),\n",
    "     labels=[:trnCNNDeep :tstCNNDeep :trnCNN1 :tstCNN1],xlabel=\"Epochs\",ylabel=\"Error\")"
   ]
  },
  {
   "cell_type": "code",
   "execution_count": 63,
   "metadata": {},
   "outputs": [
    {
     "data": {
      "image/png": "[encoded data removed]"
     },
     "execution_count": 63,
     "metadata": {},
     "output_type": "execute_result"
    }
   ],
   "source": [
    "plot([cnn2[1,:], cnn2[2,:],cnn1[1,:], cnn1[2,:]], ylim=(0.0,5),\n",
    "     labels=[:trnCNNDeep :tstCNNDeep :trnCNN1 :tstCNN1],xlabel=\"Epochs\",ylabel=\"Loss\")"
   ]
  },
  {
   "cell_type": "code",
   "execution_count": null,
   "metadata": {},
   "outputs": [],
   "source": [
    "@"
   ]
  }
 ],
 "metadata": {
  "kernelspec": {
   "display_name": "Julia 1.1.0",
   "language": "julia",
   "name": "julia-1.1"
  },
  "language_info": {
   "file_extension": ".jl",
   "mimetype": "application/julia",
   "name": "julia",
   "version": "1.1.0"
  }
 },
 "nbformat": 4,
 "nbformat_minor": 2
}
