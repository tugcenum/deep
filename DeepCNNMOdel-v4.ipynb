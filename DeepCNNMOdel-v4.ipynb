{
 "cells": [
  {
   "cell_type": "code",
   "execution_count": 121,
   "metadata": {},
   "outputs": [],
   "source": [
    "# Setup display width, load packages, import symbols\n",
    "ENV[\"COLUMNS\"]=72\n",
    "using Pkg; for p in (\"Knet\",\"Plots\"); haskey(Pkg.installed(),p) || Pkg.add(p); end\n",
    "using Base.Iterators: flatten\n",
    "using Statistics: mean\n",
    "using Random\n",
    "using Knet: Knet, conv4, pool, mat, KnetArray, nll, zeroone, progress,save,load, sgd, param, param0,adam, momentum,dropout, relu, Data,gpu,minibatch"
   ]
  },
  {
   "cell_type": "code",
   "execution_count": 122,
   "metadata": {},
   "outputs": [],
   "source": [
    "import Knet.load\n",
    "import Knet.save\n",
    "import AutoGrad"
   ]
  },
  {
   "cell_type": "code",
   "execution_count": 123,
   "metadata": {},
   "outputs": [
    {
     "name": "stdout",
     "output_type": "stream",
     "text": [
      "\u001b[32m\u001b[1m    Status\u001b[22m\u001b[39m `~/.julia/environments/v1.1/Project.toml`\n",
      " \u001b[90m [6710c13c]\u001b[39m\u001b[37m AutoGrad v1.1.3\u001b[39m\n",
      " \u001b[90m [944b1d66]\u001b[39m\u001b[37m CodecZlib v0.5.2\u001b[39m\n",
      " \u001b[90m [5ae59095]\u001b[39m\u001b[37m Colors v0.9.5\u001b[39m\n",
      " \u001b[90m [5789e2e9]\u001b[39m\u001b[37m FileIO v1.0.6\u001b[39m\n",
      " \u001b[90m [7073ff75]\u001b[39m\u001b[37m IJulia v1.18.0\u001b[39m\n",
      " \u001b[90m [6218d12a]\u001b[39m\u001b[37m ImageMagick v0.7.1\u001b[39m\n",
      " \u001b[90m [916415d5]\u001b[39m\u001b[37m Images v0.17.3\u001b[39m\n",
      " \u001b[90m [033835bb]\u001b[39m\u001b[37m JLD2 v0.1.2\u001b[39m\n",
      " \u001b[90m [682c06a0]\u001b[39m\u001b[37m JSON v0.20.0\u001b[39m\n",
      " \u001b[90m [1902f260]\u001b[39m\u001b[37m Knet v1.2.1\u001b[39m\n",
      " \u001b[90m [ae8d54c2]\u001b[39m\u001b[37m Luxor v1.2.0\u001b[39m\n",
      " \u001b[90m [23992714]\u001b[39m\u001b[37m MAT v0.5.0\u001b[39m\n",
      " \u001b[90m [91a5bcdd]\u001b[39m\u001b[37m Plots v0.24.0\u001b[39m\n",
      " \u001b[90m [438e738f]\u001b[39m\u001b[37m PyCall v1.91.1\u001b[39m\n",
      " \u001b[90m [5e47fb64]\u001b[39m\u001b[37m TestImages v0.5.0\u001b[39m\n"
     ]
    }
   ],
   "source": [
    "Pkg.status()"
   ]
  },
  {
   "cell_type": "code",
   "execution_count": 124,
   "metadata": {},
   "outputs": [
    {
     "data": {
      "text/plain": [
       "Data{Tuple{KnetArray{Float32,4},KnetArray{Float32,4}}}([0.788235 0.415686 … 0.796078 0.537255; 0.788235 0.415686 … 0.8 0.545098; … ; 0.290196 0.231373 … 0.439216 0.556863; 0.294118 0.231373 … 0.45098 0.556863], Float32[0.0 0.0 … 0.0 0.0; 2.66899 15.1749 … 5.47408 0.0; … ; 0.0 0.0 … 0.0 0.0; 0.0 0.0 … 0.0 0.0], 30, 1260, false, 1231, 1:1260, false, (224, 224, 3, 30), (7, 7, 512, 1260), KnetArray{Float32,N} where N, KnetArray{Float32,N} where N)"
      ]
     },
     "execution_count": 124,
     "metadata": {},
     "output_type": "execute_result"
    }
   ],
   "source": [
    "cd()\n",
    "cd(\"Desktop/DeepProject/minibatches/m1\")\n",
    "dtst=Knet.load(\"dtstz.jld2\",\"m\")\n",
    "cd()\n",
    "cd(\"/media/mvgl/DATAONE/Tugce\")\n",
    "dtrn=Knet.load(\"dtstz8t.jld2\",\"m\")"
   ]
  },
  {
   "cell_type": "code",
   "execution_count": 125,
   "metadata": {},
   "outputs": [
    {
     "name": "stdout",
     "output_type": "stream",
     "text": [
      "224×224×3×30 KnetArray{Float32,4}\n",
      "7×7×512×30 KnetArray{Float32,4}\n"
     ]
    }
   ],
   "source": [
    "(x,y) = first(dtrn)\n",
    "println.(summary.((x,y)));"
   ]
  },
  {
   "cell_type": "code",
   "execution_count": 126,
   "metadata": {},
   "outputs": [
    {
     "name": "stdout",
     "output_type": "stream",
     "text": [
      "224×224×3×32 KnetArray{Float32,4}\n",
      "7×7×512×32 KnetArray{Float32,4}\n"
     ]
    }
   ],
   "source": [
    "(x1,y1) = first(dtst)\n",
    "println.(summary.((x1,y1)));"
   ]
  },
  {
   "cell_type": "code",
   "execution_count": 127,
   "metadata": {},
   "outputs": [
    {
     "data": {
      "text/plain": [
       "trainresults (generic function with 1 method)"
      ]
     },
     "execution_count": 127,
     "metadata": {},
     "output_type": "execute_result"
    }
   ],
   "source": [
    "function trainresults(file,model; o...)\n",
    "   # if (print(\"Train from scratch? \"); readline()[1]=='y')\n",
    "        takeevery(n,itr) = (x for (i,x) in enumerate(itr) if i % n == 1)\n",
    "        r = ((model(dtrn), model(dtst))\n",
    "           for x in takeevery(length(dtrn), progress(adam(model,repeat(dtrn,200);lr=1e-03))))\n",
    "        print(\"done\")\n",
    "          # print(size(r,1))      \n",
    "        r = reshape(collect(Float32,flatten(r)),(2,:))\n",
    "               \n",
    "          print(\"done\")\n",
    "       # Knet.gc() # To save gpu memory\n",
    "    #else\n",
    "       # isfile(file) || download(\"http://people.csail.mit.edu/deniz/models/tutorial/$file\",file)\n",
    "       # r = Knet.load(file,\"results\")\n",
    "   # end\n",
    "   # println(minimum(r,dims=2))\n",
    "   return r\n",
    "end"
   ]
  },
  {
   "cell_type": "code",
   "execution_count": 128,
   "metadata": {},
   "outputs": [],
   "source": [
    "# Let's define a chain of layers\n",
    "struct Chain\n",
    "    layers\n",
    "    Chain(layers...) = new(layers)\n",
    "end\n",
    "(c::Chain)(x) = (for l in c.layers; x = l(x); end; x)\n",
    "(c::Chain)(x,y) = mean(abs2.(c(x)-y))\n",
    "(c::Chain)(d::Data) = mean(c(x,y) for (x,y) in d)"
   ]
  },
  {
   "cell_type": "code",
   "execution_count": 129,
   "metadata": {},
   "outputs": [
    {
     "data": {
      "text/plain": [
       "Conv"
      ]
     },
     "execution_count": 129,
     "metadata": {},
     "output_type": "execute_result"
    }
   ],
   "source": [
    "# Define a convolutional layer:\n",
    "struct Conv; w; b; f; p; end\n",
    "(c::Conv)(x) = c.f.(pool(conv4(c.w, dropout(x,c.p)) .+ c.b))\n",
    "Conv(w1::Int,w2::Int,cx::Int,cy::Int,f=relu;pdrop=0) = Conv(param(w1,w2,cx,cy), param0(1,1,cy,1), f, pdrop)"
   ]
  },
  {
   "cell_type": "code",
   "execution_count": 130,
   "metadata": {},
   "outputs": [
    {
     "data": {
      "text/plain": [
       "Conv0"
      ]
     },
     "execution_count": 130,
     "metadata": {},
     "output_type": "execute_result"
    }
   ],
   "source": [
    "# Define a convolutional layer:\n",
    "struct Conv0; w; b; f; p; end\n",
    "(c::Conv0)(x) = c.f.(pool(conv4(c.w, dropout(x,c.p);padding=1).+ c.b;window=3,stride=2))\n",
    "Conv0(w1::Int,w2::Int,cx::Int,cy::Int,f=relu;pdrop=0) = Conv0(param(w1,w2,cx,cy), param0(1,1,cy,1), f, pdrop)"
   ]
  },
  {
   "cell_type": "code",
   "execution_count": 131,
   "metadata": {},
   "outputs": [
    {
     "data": {
      "text/plain": [
       "Conv01"
      ]
     },
     "execution_count": 131,
     "metadata": {},
     "output_type": "execute_result"
    }
   ],
   "source": [
    "# Define a convolutional layer:\n",
    "struct Conv01; w; b; f; p; end\n",
    "(c::Conv01)(x) = c.f.(pool(conv4(c.w, dropout(x,c.p);padding=1).+ c.b;window=3,stride=2))\n",
    "Conv01(w ,b,f=relu;pdrop=0) = Conv01(w ,b, f, pdrop)"
   ]
  },
  {
   "cell_type": "code",
   "execution_count": 132,
   "metadata": {},
   "outputs": [
    {
     "data": {
      "text/plain": [
       "Conv1"
      ]
     },
     "execution_count": 132,
     "metadata": {},
     "output_type": "execute_result"
    }
   ],
   "source": [
    "# Define a convolutional layer:\n",
    "struct Conv1; w; b; f; p; end\n",
    "(c::Conv1)(x) = c.f.(pool(conv4(c.w, dropout(x,c.p);padding=1).+ c.b;window=3,padding=1,stride=2))\n",
    "Conv1(w1::Int,w2::Int,cx::Int,cy::Int,f=relu;pdrop=0) = Conv1(param(w1,w2,cx,cy), param0(1,1,cy,1), f, pdrop)"
   ]
  },
  {
   "cell_type": "code",
   "execution_count": 133,
   "metadata": {},
   "outputs": [
    {
     "data": {
      "text/plain": [
       "Conv11"
      ]
     },
     "execution_count": 133,
     "metadata": {},
     "output_type": "execute_result"
    }
   ],
   "source": [
    "# Define a convolutional layer:\n",
    "struct Conv11; w; b; f; p; end\n",
    "(c::Conv11)(x) = c.f.(pool(conv4(c.w, dropout(x,c.p);padding=1).+ c.b;window=3,padding=1,stride=2))\n",
    "Conv11(w ,b,f=relu;pdrop=0) = Conv11(w ,b, f, pdrop)\n"
   ]
  },
  {
   "cell_type": "code",
   "execution_count": 134,
   "metadata": {},
   "outputs": [
    {
     "data": {
      "text/plain": [
       "Dense"
      ]
     },
     "execution_count": 134,
     "metadata": {},
     "output_type": "execute_result"
    }
   ],
   "source": [
    "# Redefine dense layer (See mlp.ipynb):\n",
    "struct Dense; w; b; f; p; end\n",
    "(d::Dense)(x) = d.f.(d.w * mat(dropout(x,d.p)) .+ d.b) # mat reshapes 4-D tensor to 2-D matrix so we can use matmul\n",
    "Dense(i::Int,o::Int,f=relu;pdrop=0) = Dense(param(o,i), param0(o), f, pdrop)"
   ]
  },
  {
   "cell_type": "code",
   "execution_count": 135,
   "metadata": {},
   "outputs": [
    {
     "data": {
      "text/plain": [
       "5-element Array{String,1}:\n",
       " \"3×3×3×64 AutoGrad.Param{KnetArray{Float32,4}}\"   \n",
       " \"3×3×64×128 AutoGrad.Param{KnetArray{Float32,4}}\" \n",
       " \"3×3×128×256 AutoGrad.Param{KnetArray{Float32,4}}\"\n",
       " \"3×3×256×256 AutoGrad.Param{KnetArray{Float32,4}}\"\n",
       " \"3×3×256×512 AutoGrad.Param{KnetArray{Float32,4}}\""
      ]
     },
     "execution_count": 135,
     "metadata": {},
     "output_type": "execute_result"
    }
   ],
   "source": [
    "lenet1 =   Chain(Conv0(3,3,3,64),\n",
    "                 Conv0(3,3,64,128),\n",
    "                 Conv0(3,3,128,256),\n",
    "                Conv0(3,3,256,256),\n",
    "                Conv1(3,3,256,512))\n",
    "summary.(l.w for l in lenet1.layers)"
   ]
  },
  {
   "cell_type": "code",
   "execution_count": 136,
   "metadata": {},
   "outputs": [
    {
     "name": "stdout",
     "output_type": "stream",
     "text": [
      "1.25e+02  100.00%┣█████████████████████┫ 8400/8400 [15:53/15:53, 8.81i/s]\n",
      "done"
     ]
    }
   ],
   "source": [
    "cnn= trainresults(\"cnn2.jld2\", lenet1);"
   ]
  },
  {
   "cell_type": "code",
   "execution_count": 137,
   "metadata": {},
   "outputs": [],
   "source": [
    "using Plots; default(fmt=:png,ls=:auto)"
   ]
  },
  {
   "cell_type": "code",
   "execution_count": 138,
   "metadata": {},
   "outputs": [
    {
     "data": {
      "image/png": "[encoded data removed]"
     },
     "execution_count": 138,
     "metadata": {},
     "output_type": "execute_result"
    }
   ],
   "source": [
    "plot([cnn[1,:], cnn[2,:]],\n",
    "     labels=[:trnCNN :tstCNN],xlabel=\"Epochs\",ylabel=\"Loss\")"
   ]
  },
  {
   "cell_type": "code",
   "execution_count": 139,
   "metadata": {},
   "outputs": [],
   "source": [
    "cd()\n",
    "cd(\"/media/mvgl/DATAONE/Tugce\")\n",
    "Knet.save(\"lenet1loss8t.jld2\",\"b\",lenet1)"
   ]
  },
  {
   "cell_type": "code",
   "execution_count": 140,
   "metadata": {},
   "outputs": [
    {
     "data": {
      "text/plain": [
       "104-element Array{String,1}:\n",
       " \"cnn2.jld2\"         \n",
       " \"conf\"              \n",
       " \"confnn\"            \n",
       " \"confy1t.jld2\"      \n",
       " \"confyp1t.jld2\"     \n",
       " \"dtest1.jld2\"       \n",
       " \"dtest1n.jld2\"      \n",
       " \"dtest1nn.jld2\"     \n",
       " \"dtest1t.jld2\"      \n",
       " \"dtest2.jld2\"       \n",
       " \"dtest2nn.jld2\"     \n",
       " \"dtest2t.jld2\"      \n",
       " \"dtest3.jld2\"       \n",
       " ⋮                   \n",
       " \"lenet1loss5.jld2\"  \n",
       " \"lenet1loss5nn.jld2\"\n",
       " \"lenet1loss5t.jld2\" \n",
       " \"lenet1loss6.jld2\"  \n",
       " \"lenet1loss6nn.jld2\"\n",
       " \"lenet1loss6t.jld2\" \n",
       " \"lenet1loss7.jld2\"  \n",
       " \"lenet1loss7nn.jld2\"\n",
       " \"lenet1loss7t.jld2\" \n",
       " \"lenet1loss8.jld2\"  \n",
       " \"lenet1loss8nn.jld2\"\n",
       " \"lenet1loss8t.jld2\" "
      ]
     },
     "execution_count": 140,
     "metadata": {},
     "output_type": "execute_result"
    }
   ],
   "source": [
    "cd()\n",
    "cd(readdir, \"/media/mvgl/DATAONE/Tugce\")"
   ]
  }
 ],
 "metadata": {
  "kernelspec": {
   "display_name": "Julia 1.1.0",
   "language": "julia",
   "name": "julia-1.1"
  },
  "language_info": {
   "file_extension": ".jl",
   "mimetype": "application/julia",
   "name": "julia",
   "version": "1.1.0"
  }
 },
 "nbformat": 4,
 "nbformat_minor": 2
}
