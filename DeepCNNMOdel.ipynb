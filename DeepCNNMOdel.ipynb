{
 "cells": [
  {
   "cell_type": "code",
   "execution_count": 2,
   "metadata": {},
   "outputs": [],
   "source": [
    "# Set display width, load packages, import symbols\n",
    "ENV[\"COLUMNS\"]=72\n",
    "using Pkg; for p in (\"Knet\",\"Plots\",\"Images\"); haskey(Pkg.installed(),p) || Pkg.add(p); end\n",
    "using Knet: Knet, dir,sigm , zeroone, progress, sgd, load, save, gc, Param, KnetArray, gpu, Data, nll, training, dropout,conv4, pool, mat, nll, zeroone,\n",
    "progress, sgd, param, param0, dropout, relu, Data,sigm, Adam, minibatch# param, param0, xavier\n",
    "using Statistics: mean\n",
    "using Base.Iterators: flatten\n",
    "using Plots; default(fmt=:png,ls=:auto)\n",
    "using Statistics\n",
    "using Random\n",
    "import Knet.param0\n",
    "import Knet.param\n",
    "import Knet.xavier\n",
    "using Knet, Luxor, Plots,Printf"
   ]
  },
  {
   "cell_type": "code",
   "execution_count": 2,
   "metadata": {},
   "outputs": [
    {
     "data": {
      "text/plain": [
       "0.04089315538303144"
      ]
     },
     "execution_count": 2,
     "metadata": {},
     "output_type": "execute_result"
    }
   ],
   "source": [
    "std(gaussian(5,3; std=0.05))"
   ]
  },
  {
   "cell_type": "code",
   "execution_count": 3,
   "metadata": {},
   "outputs": [],
   "source": [
    "using Images, Colors"
   ]
  },
  {
   "cell_type": "code",
   "execution_count": 4,
   "metadata": {},
   "outputs": [
    {
     "data": {
      "text/plain": [
       "atype (generic function with 1 method)"
      ]
     },
     "execution_count": 4,
     "metadata": {},
     "output_type": "execute_result"
    }
   ],
   "source": [
    "# Some utilities to make model definitions easier:\n",
    "param(d...; init=xavier, atype=atype())=Param(atype(init(d...)))\n",
    "paramd1(d...; init=gaussian, atype=atype())=Param(atype(init(d...)))\n",
    "paramd2(d...; init=gaussian, atype=atype())=Param(atype(init(d...;std=0.005)))\n",
    "param0(d...; atype=atype())=param(d...; init=zeros, atype=atype)\n",
    "param1(d...; atype=atype())=param(d...; init=ones, atype=atype)\n",
    "xavier(o,i) = (s = sqrt(2/(i+o)); 2s .* rand(o,i) .- s)\n",
    "atype()=(gpu() >= 0 ? KnetArray{Float32} : Array{Float32})"
   ]
  },
  {
   "cell_type": "code",
   "execution_count": 5,
   "metadata": {},
   "outputs": [
    {
     "data": {
      "text/plain": [
       "\"256×256×1440 Array{Gray{N0f8},3} with eltype Gray{Normed{UInt8,8}}\""
      ]
     },
     "execution_count": 5,
     "metadata": {},
     "output_type": "execute_result"
    }
   ],
   "source": [
    "cd()\n",
    "cd(\"Desktop/DeepProject\")\n",
    "X=load(\"datax.jld2\",\"a\");\n",
    "Y=load(\"datay.jld2\",\"b\");\n",
    "summary(X)"
   ]
  },
  {
   "cell_type": "code",
   "execution_count": 6,
   "metadata": {},
   "outputs": [
    {
     "data": {
      "text/plain": [
       "\"1440-element Array{Int64,1}\""
      ]
     },
     "execution_count": 6,
     "metadata": {},
     "output_type": "execute_result"
    }
   ],
   "source": [
    "ind=randperm(size(Y,1));\n",
    "Ynew=Y[ind,1];\n",
    "Xnew=X[:,:,ind];\n",
    "summary(Ynew)"
   ]
  },
  {
   "cell_type": "code",
   "execution_count": 27,
   "metadata": {},
   "outputs": [
    {
     "data": {
      "text/plain": [
       "\"256×256×1296 Array{Gray{N0f8},3} with eltype Gray{Normed{UInt8,8}}\""
      ]
     },
     "execution_count": 27,
     "metadata": {},
     "output_type": "execute_result"
    }
   ],
   "source": [
    "Xdtrn=Xnew[:,:,1:1296]\n",
    "Ydtrn=Ynew[1:1296];\n",
    "summary(Xdtrn)"
   ]
  },
  {
   "cell_type": "code",
   "execution_count": 28,
   "metadata": {},
   "outputs": [
    {
     "data": {
      "text/plain": [
       "Data{Tuple{KnetArray{Float32,4},Array{UInt8,1}}}(Gray{Normed{UInt8,8}}[Gray{N0f8}(0.557) Gray{N0f8}(0.557) … Gray{N0f8}(0.122) Gray{N0f8}(0.145); Gray{N0f8}(0.557) Gray{N0f8}(0.557) … Gray{N0f8}(0.122) Gray{N0f8}(0.145); … ; Gray{N0f8}(0.329) Gray{N0f8}(0.329) … Gray{N0f8}(0.38) Gray{N0f8}(0.376); Gray{N0f8}(0.329) Gray{N0f8}(0.329) … Gray{N0f8}(0.38) Gray{N0f8}(0.376)], [1 1 … 6 6], 32, 1440, false, 1409, 1:1440, false, (256, 256, 1, 32), (1440,), KnetArray{Float32,N} where N, Array{UInt8,1})"
      ]
     },
     "execution_count": 28,
     "metadata": {},
     "output_type": "execute_result"
    }
   ],
   "source": [
    "dtrn=minibatch(X,Y,32;xsize=(256,256,1,32),xtype=atype(),ytype=Array{UInt8,1})"
   ]
  },
  {
   "cell_type": "code",
   "execution_count": 29,
   "metadata": {},
   "outputs": [
    {
     "name": "stdout",
     "output_type": "stream",
     "text": [
      "256×256×1×32 KnetArray{Float32,4}\n",
      "32-element Array{UInt8,1}\n"
     ]
    }
   ],
   "source": [
    "(x,y) = first(dtrn)\n",
    "println.(summary.((x,y)));"
   ]
  },
  {
   "cell_type": "code",
   "execution_count": 30,
   "metadata": {},
   "outputs": [],
   "source": [
    "Xtst=Xnew[:,:,1297:1440];\n",
    "Ytst=Ynew[1297:1440];"
   ]
  },
  {
   "cell_type": "code",
   "execution_count": 31,
   "metadata": {},
   "outputs": [
    {
     "data": {
      "text/plain": [
       "Data{Tuple{KnetArray{Float32,4},Array{UInt8,1}}}(Gray{Normed{UInt8,8}}[Gray{N0f8}(0.71) Gray{N0f8}(0.769) … Gray{N0f8}(0.388) Gray{N0f8}(0.573); Gray{N0f8}(0.71) Gray{N0f8}(0.769) … Gray{N0f8}(0.376) Gray{N0f8}(0.573); … ; Gray{N0f8}(0.412) Gray{N0f8}(0.318) … Gray{N0f8}(0.435) Gray{N0f8}(0.165); Gray{N0f8}(0.424) Gray{N0f8}(0.325) … Gray{N0f8}(0.435) Gray{N0f8}(0.165)], [4 1 … 2 4], 64, 144, false, 81, 1:144, false, (256, 256, 1, 64), (144,), KnetArray{Float32,N} where N, Array{UInt8,1})"
      ]
     },
     "execution_count": 31,
     "metadata": {},
     "output_type": "execute_result"
    }
   ],
   "source": [
    "dtst=minibatch(Xtst,Ytst,64;xsize=(256,256,1,64),xtype=atype(),ytype=Array{UInt8,1})"
   ]
  },
  {
   "cell_type": "code",
   "execution_count": 32,
   "metadata": {},
   "outputs": [
    {
     "name": "stdout",
     "output_type": "stream",
     "text": [
      "256×256×1×32 KnetArray{Float32,4}\n",
      "32-element Array{UInt8,1}\n"
     ]
    }
   ],
   "source": [
    "(x,y) = first(dtrn)\n",
    "println.(summary.((x,y)));"
   ]
  },
  {
   "cell_type": "code",
   "execution_count": 13,
   "metadata": {},
   "outputs": [
    {
     "data": {
      "text/plain": [
       "\"2-element Data{Tuple{KnetArray{Float32,4},Array{UInt8,1}}}\""
      ]
     },
     "execution_count": 13,
     "metadata": {},
     "output_type": "execute_result"
    }
   ],
   "source": [
    "summary(dtst)"
   ]
  },
  {
   "cell_type": "code",
   "execution_count": 14,
   "metadata": {},
   "outputs": [
    {
     "data": {
      "text/plain": [
       "trainresults (generic function with 1 method)"
      ]
     },
     "execution_count": 14,
     "metadata": {},
     "output_type": "execute_result"
    }
   ],
   "source": [
    "function trainresults(file,model; o...)\n",
    "    if (print(\"Train from scratch? \"); readline()[1]=='y')\n",
    "        takeevery(n,itr) = (x for (i,x) in enumerate(itr) if i % n == 1)\n",
    "        r = ((model(dtrn), model(dtst), zeroone(model,dtrn), zeroone(model,dtst))\n",
    "             for x in takeevery(length(dtrn), progress(sgd(model,repeat(dtrn,100)))))\n",
    "        r = reshape(collect(Float32,flatten(r)),(4,:))\n",
    "        Knet.gc() # To save gpu memory\n",
    "    else\n",
    "        isfile(file) || download(\"http://people.csail.mit.edu/deniz/models/tutorial/$file\",file)\n",
    "        r = Knet.load(file,\"results\")\n",
    "    end\n",
    "    println(minimum(r,dims=2))\n",
    "    return r\n",
    "end"
   ]
  },
  {
   "cell_type": "code",
   "execution_count": 15,
   "metadata": {},
   "outputs": [],
   "source": [
    "# Let's define a chain of layers\n",
    "struct Chain\n",
    "    layers\n",
    "    Chain(layers...) = new(layers)\n",
    "end\n",
    "(c::Chain)(x) = (for l in c.layers; x = l(x); end; x)\n",
    "(c::Chain)(x,y) = nll(c(x),y)\n",
    "(c::Chain)(d::Data) = mean(c(x,y) for (x,y) in d)"
   ]
  },
  {
   "cell_type": "code",
   "execution_count": 16,
   "metadata": {},
   "outputs": [
    {
     "data": {
      "text/plain": [
       "Conv"
      ]
     },
     "execution_count": 16,
     "metadata": {},
     "output_type": "execute_result"
    }
   ],
   "source": [
    "# Define a convolutional layer:\n",
    "struct Conv; w; b; f; p; end\n",
    "(c::Conv)(x) = c.f.(pool(conv4(c.w, dropout(x,c.p)) .+ c.b))\n",
    "Conv(w1::Int,w2::Int,cx::Int,cy::Int,f=relu;pdrop=0) = Conv(param(w1,w2,cx,cy), param0(1,1,cy,1), f, pdrop)"
   ]
  },
  {
   "cell_type": "code",
   "execution_count": 17,
   "metadata": {},
   "outputs": [
    {
     "data": {
      "text/plain": [
       "Conv0"
      ]
     },
     "execution_count": 17,
     "metadata": {},
     "output_type": "execute_result"
    }
   ],
   "source": [
    "# Define a convolutional layer:\n",
    "struct Conv0; w; b; f; p; end\n",
    "(c::Conv0)(x) = c.f.(pool(conv4(c.w, dropout(x,c.p);padding=1).+ c.b;window=3,stride=2))\n",
    "Conv0(w1::Int,w2::Int,cx::Int,cy::Int,f=relu;pdrop=0) = Conv0(paramd1(w1,w2,cx,cy), param0(1,1,cy,1), f, pdrop)"
   ]
  },
  {
   "cell_type": "code",
   "execution_count": 18,
   "metadata": {},
   "outputs": [
    {
     "data": {
      "text/plain": [
       "Conv1"
      ]
     },
     "execution_count": 18,
     "metadata": {},
     "output_type": "execute_result"
    }
   ],
   "source": [
    "# Define a convolutional layer:\n",
    "struct Conv1; w; b; f; p; end\n",
    "(c::Conv1)(x) = c.f.(pool(conv4(c.w, dropout(x,c.p);padding=1).+ c.b;window=3,stride=2))\n",
    "Conv1(w1::Int,w2::Int,cx::Int,cy::Int,f=relu;pdrop=0) = Conv1(paramd1(w1,w2,cx,cy), param1(1,1,cy,1), f, pdrop)"
   ]
  },
  {
   "cell_type": "code",
   "execution_count": 19,
   "metadata": {},
   "outputs": [
    {
     "data": {
      "text/plain": [
       "Conv2"
      ]
     },
     "execution_count": 19,
     "metadata": {},
     "output_type": "execute_result"
    }
   ],
   "source": [
    "\n",
    "struct Conv2; w; b; f; p; end\n",
    "(c::Conv2)(x) = c.f.(conv4(c.w, dropout(x,c.p);padding=0))\n",
    "Conv2(w1::Int,w2::Int,cx::Int,cy::Int,f=relu;pdrop=0) = Conv2(paramd1(w1,w2,cx,cy), param1(1,1,cy,1), f, pdrop)"
   ]
  },
  {
   "cell_type": "code",
   "execution_count": 20,
   "metadata": {},
   "outputs": [
    {
     "data": {
      "text/plain": [
       "Dense"
      ]
     },
     "execution_count": 20,
     "metadata": {},
     "output_type": "execute_result"
    }
   ],
   "source": [
    "# Redefine dense layer (See mlp.ipynb):\n",
    "struct Dense; w; b; f; p; end\n",
    "(d::Dense)(x) = d.f.(d.w * mat(dropout(x,d.p)) .+ d.b) # mat reshapes 4-D tensor to 2-D matrix so we can use matmul\n",
    "Dense(i::Int,o::Int,f=relu;pdrop=0) = Dense(paramd1(o,i), param0(o), f, pdrop)"
   ]
  },
  {
   "cell_type": "code",
   "execution_count": 21,
   "metadata": {},
   "outputs": [
    {
     "data": {
      "text/plain": [
       "Dense0"
      ]
     },
     "execution_count": 21,
     "metadata": {},
     "output_type": "execute_result"
    }
   ],
   "source": [
    "# Redefine dense layer (See mlp.ipynb):\n",
    "struct Dense0; w; b; f; p; end\n",
    "(d::Dense0)(x) = d.f.(d.w * mat(dropout(x,d.p)) .+ d.b) # mat reshapes 4-D tensor to 2-D matrix so we can use matmul\n",
    "Dense0(i::Int,o::Int,f=relu;pdrop=0.5) = Dense0(paramd2(o,i), param1(o), f, pdrop)"
   ]
  },
  {
   "cell_type": "code",
   "execution_count": 22,
   "metadata": {},
   "outputs": [
    {
     "data": {
      "text/plain": [
       "Dense1"
      ]
     },
     "execution_count": 22,
     "metadata": {},
     "output_type": "execute_result"
    }
   ],
   "source": [
    "# Redefine dense layer (See mlp.ipynb):\n",
    "struct Dense1; w; b; f; p; end\n",
    "(d::Dense1)(x) = d.f.(d.w * mat(dropout(x,d.p)) .+ d.b) # mat reshapes 4-D tensor to 2-D matrix so we can use matmul\n",
    "Dense1(i::Int,o::Int,f=relu;pdrop=0.5) = Dense1(paramd1(o,i), param0(o), f, pdrop)"
   ]
  },
  {
   "cell_type": "code",
   "execution_count": 23,
   "metadata": {},
   "outputs": [
    {
     "data": {
      "text/plain": [
       "8-element Array{String,1}:\n",
       " \"3×3×1×64 Param{KnetArray{Float32,4}}\"   \n",
       " \"3×3×64×128 Param{KnetArray{Float32,4}}\" \n",
       " \"3×3×128×256 Param{KnetArray{Float32,4}}\"\n",
       " \"3×3×256×256 Param{KnetArray{Float32,4}}\"\n",
       " \"3×3×256×512 Param{KnetArray{Float32,4}}\"\n",
       " \"1×1×512×512 Param{KnetArray{Float32,4}}\"\n",
       " \"256×25088 Param{KnetArray{Float32,2}}\"  \n",
       " \"6×256 Param{KnetArray{Float32,2}}\"      "
      ]
     },
     "execution_count": 23,
     "metadata": {},
     "output_type": "execute_result"
    }
   ],
   "source": [
    "lenet1 =   Chain(Conv0(3,3,1,64),\n",
    "                 Conv1(3,3,64,128),\n",
    "                 Conv1(3,3,128,256),\n",
    "                Conv1(3,3,256,256),\n",
    "                Conv1(3,3,256,512),\n",
    "                Conv2(1,1,512,512),\n",
    "                 Dense0(7*7*512,256),\n",
    "                    Dense1(256,6))\n",
    "summary.(l.w for l in lenet1.layers)"
   ]
  },
  {
   "cell_type": "code",
   "execution_count": 57,
   "metadata": {},
   "outputs": [
    {
     "data": {
      "text/plain": [
       "2-element Array{String,1}:\n",
       " \"3×3×1×64 Param{KnetArray{Float32,4}}\" \n",
       " \"6×1032256 Param{KnetArray{Float32,2}}\""
      ]
     },
     "execution_count": 57,
     "metadata": {},
     "output_type": "execute_result"
    }
   ],
   "source": [
    "lenet2 =   Chain(Conv0(3,3,1,64,relu),\n",
    "                    Dense0(127*127*64,6))\n",
    "summary.(l.w for l in lenet2.layers)"
   ]
  },
  {
   "cell_type": "code",
   "execution_count": 33,
   "metadata": {},
   "outputs": [
    {
     "name": "stdout",
     "output_type": "stream",
     "text": [
      "Train from scratch? stdin> y\n",
      "1.79e+00  100.00%┣█████████████████████┫ 4500/4500 [24:23/24:23, 3.08i/s]\n",
      "Float32[1.79176; 1.79176; 0.833333; 0.820313]\n"
     ]
    }
   ],
   "source": [
    "cnn2 = trainresults(\"cnn2.jld2\", lenet1);"
   ]
  },
  {
   "cell_type": "code",
   "execution_count": 35,
   "metadata": {},
   "outputs": [
    {
     "data": {
      "image/png": "[encoded data removed]"
     },
     "execution_count": 35,
     "metadata": {},
     "output_type": "execute_result"
    }
   ],
   "source": [
    "plot([cnn2[3,:], cnn2[4,:]], ylim=(0.0,1),\n",
    "     labels=[:trnCNN2 :tstCNN2],xlabel=\"Epochs\",ylabel=\"Error\")"
   ]
  },
  {
   "cell_type": "code",
   "execution_count": 38,
   "metadata": {},
   "outputs": [
    {
     "data": {
      "image/png": "[encoded data removed]"
     },
     "execution_count": 38,
     "metadata": {},
     "output_type": "execute_result"
    }
   ],
   "source": [
    "plot([cnn2[1,:], cnn2[2,:]], ylim=(0.0,5),\n",
    "     labels=[:trnCNN2 :tstCNN2],xlabel=\"Epochs\",ylabel=\"Loss\")"
   ]
  },
  {
   "cell_type": "code",
   "execution_count": 58,
   "metadata": {},
   "outputs": [
    {
     "name": "stdout",
     "output_type": "stream",
     "text": [
      "Train from scratch? stdin> y\n",
      "1.55e+00  100.00%┣█████████████████████┫ 4500/4500 [09:00/09:00, 8.34i/s]\n",
      "Float32[1.80996; 1.82021; 0.833333; 0.820313]\n"
     ]
    }
   ],
   "source": [
    "cnn1 = trainresults(\"cnn2.jld2\", lenet2);"
   ]
  },
  {
   "cell_type": "code",
   "execution_count": 62,
   "metadata": {},
   "outputs": [
    {
     "data": {
      "image/png": "[encoded data removed]"
     },
     "execution_count": 62,
     "metadata": {},
     "output_type": "execute_result"
    }
   ],
   "source": [
    "plot([cnn2[3,:], cnn2[4,:],cnn1[3,:], cnn1[4,:]], ylim=(0.0,1),\n",
    "     labels=[:trnCNNDeep :tstCNNDeep :trnCNN1 :tstCNN1],xlabel=\"Epochs\",ylabel=\"Error\")"
   ]
  },
  {
   "cell_type": "code",
   "execution_count": 63,
   "metadata": {},
   "outputs": [
    {
     "data": {
      "image/png": "[encoded data removed]"
     },
     "execution_count": 63,
     "metadata": {},
     "output_type": "execute_result"
    }
   ],
   "source": [
    "plot([cnn2[1,:], cnn2[2,:],cnn1[1,:], cnn1[2,:]], ylim=(0.0,5),\n",
    "     labels=[:trnCNNDeep :tstCNNDeep :trnCNN1 :tstCNN1],xlabel=\"Epochs\",ylabel=\"Loss\")"
   ]
  }
 ],
 "metadata": {
  "kernelspec": {
   "display_name": "Julia 1.1.0",
   "language": "julia",
   "name": "julia-1.1"
  },
  "language_info": {
   "file_extension": ".jl",
   "mimetype": "application/julia",
   "name": "julia",
   "version": "1.1.0"
  }
 },
 "nbformat": 4,
 "nbformat_minor": 2
}
